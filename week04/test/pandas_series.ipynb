{
 "cells": [
  {
   "cell_type": "markdown",
   "metadata": {},
   "source": [
    "# Pandas——Series操作"
   ]
  },
  {
   "cell_type": "markdown",
   "metadata": {},
   "source": [
    "Series的定义：Series是一种类似于一维数组的对象，它由一组数据（各种NumPy数据类型）以及一组与之相关的数据标签（即索引）组成。\n",
    "\n",
    "Series对象本质上是一个NumPy的数组，因此NumPy的数组处理函数可以直接对Series进行处理。但是Series除了可以使用位置作为下标存取元素之外，还可以使用标签下标存取元素，这一点和字典相似。每个Series对象实际上都由两个数组组成：\n",
    "\n",
    "index: 它是从NumPy数组继承的Index对象，保存标签信息。\n",
    "\n",
    "values: 保存值的NumPy数组。\n",
    "\n",
    "注意三点：\n",
    "\n",
    "1. Series是一种类似于一维数组（数组：ndarray）的对象\n",
    "2. 它的数据类型没有限制（各种NumPy数据类型）\n",
    "3. 它有索引，把索引当做数据的标签（key）看待，这样就类似字典了（只是类似，实质上是数组\n",
    "4. Series同时具有数组和字典的功能，因此它也支持一些字典的方法"
   ]
  },
  {
   "cell_type": "markdown",
   "metadata": {},
   "source": [
    "创建一个空的Series。"
   ]
  },
  {
   "cell_type": "code",
   "execution_count": 19,
   "metadata": {
    "tags": []
   },
   "outputs": [
    {
     "output_type": "stream",
     "name": "stdout",
     "text": "Series([], dtype: float64)\n"
    }
   ],
   "source": [
    "import pandas as pd\n",
    "s = pd.Series()\n",
    "print(s)"
   ]
  },
  {
   "cell_type": "markdown",
   "metadata": {},
   "source": [
    "从ndarray创建一个Series，并规定索引为[100,101,102,103]。"
   ]
  },
  {
   "cell_type": "code",
   "execution_count": 20,
   "metadata": {
    "tags": []
   },
   "outputs": [
    {
     "output_type": "stream",
     "name": "stdout",
     "text": "['a' 'b' 'c' 'd']\n100    a\n101    b\n102    c\n103    d\ndtype: object\n"
    }
   ],
   "source": [
    "import pandas as pd\n",
    "import numpy as np\n",
    "data = np.array(['a', 'b', 'c', 'd'])\n",
    "print(data)\n",
    "s = pd.Series(data, index = [100, 101, 102, 103])\n",
    "print(s)"
   ]
  },
  {
   "cell_type": "markdown",
   "metadata": {},
   "source": [
    "从ndarray创建一个Series，并规定索引为[100,101,102,103]"
   ]
  },
  {
   "cell_type": "code",
   "execution_count": 21,
   "metadata": {
    "tags": []
   },
   "outputs": [
    {
     "output_type": "stream",
     "name": "stdout",
     "text": "0    5\n1    5\n2    5\n3    5\ndtype: int64\n"
    }
   ],
   "source": [
    "import pandas as pd  \n",
    "s=pd.Series(5,index=[0,1,2,3])  \n",
    "print(s) "
   ]
  },
  {
   "cell_type": "markdown",
   "metadata": {},
   "source": [
    "从具体位置的Series中访问数据。"
   ]
  },
  {
   "cell_type": "code",
   "execution_count": 22,
   "metadata": {
    "tags": []
   },
   "outputs": [
    {
     "output_type": "stream",
     "name": "stdout",
     "text": "1\n"
    }
   ],
   "source": [
    "import pandas as pd   \n",
    "s=pd.Series([1,2,3,4,5],index=['a','b','c','d','e'])  \n",
    "# 检索Series中的第一个元素。\n",
    "print(s[0])  "
   ]
  },
  {
   "cell_type": "code",
   "execution_count": 23,
   "metadata": {
    "tags": []
   },
   "outputs": [
    {
     "output_type": "stream",
     "name": "stdout",
     "text": "a    1\nb    2\nc    3\ndtype: int64\nc    3\nd    4\ne    5\ndtype: int64\n"
    }
   ],
   "source": [
    "# 检索Series中的前三个元素。\n",
    "print(s[:3])\n",
    "# 检索Series中最后三个元素。\n",
    "print(s[-3:])\n",
    "# 如果不包含标签，检索会出现异常。\n",
    "# print(s['f'])"
   ]
  },
  {
   "cell_type": "markdown",
   "metadata": {},
   "source": [
    "简单运算\n",
    "\n",
    "在pandas的Series中，会保留NumPy的数组操作（用布尔数组过滤数据，标量乘法，以及使用数学函数），并同时保持引用的使用"
   ]
  },
  {
   "cell_type": "code",
   "execution_count": 24,
   "metadata": {},
   "outputs": [
    {
     "output_type": "execute_result",
     "data": {
      "text/plain": "d    3\ndtype: int64"
     },
     "metadata": {},
     "execution_count": 24
    }
   ],
   "source": [
    "import numpy as np  \n",
    "import pandas as pd  \n",
    "ser2 = pd.Series(range(4),index = [\"a\",\"b\",\"c\",\"d\"])  \n",
    "ser2[ser2 > 2]    "
   ]
  },
  {
   "cell_type": "code",
   "execution_count": 25,
   "metadata": {},
   "outputs": [
    {
     "output_type": "execute_result",
     "data": {
      "text/plain": "a    0\nb    2\nc    4\nd    6\ndtype: int64"
     },
     "metadata": {},
     "execution_count": 25
    }
   ],
   "source": [
    "ser2 * 2  "
   ]
  },
  {
   "cell_type": "code",
   "execution_count": 26,
   "metadata": {},
   "outputs": [
    {
     "output_type": "execute_result",
     "data": {
      "text/plain": "a     1.000000\nb     2.718282\nc     7.389056\nd    20.085537\ndtype: float64"
     },
     "metadata": {},
     "execution_count": 26
    }
   ],
   "source": [
    "np.exp(ser2) # 打印e的对应所有值的幂次方"
   ]
  },
  {
   "cell_type": "code",
   "execution_count": 27,
   "metadata": {},
   "outputs": [
    {
     "output_type": "execute_result",
     "data": {
      "text/plain": "a    0.000000\nb    1.000000\nc    1.414214\nd    1.732051\ndtype: float64"
     },
     "metadata": {},
     "execution_count": 27
    }
   ],
   "source": [
    "np.sqrt(ser2) # 打印所有值的开方 "
   ]
  },
  {
   "cell_type": "markdown",
   "metadata": {},
   "source": [
    "Series的自动对齐\n",
    "\n",
    "Series的一个重要功能就是自动对齐（不明觉厉），看看例子就明白了。 差不多就是不同Series对象运算的时候根据其索引进行匹配计算。"
   ]
  },
  {
   "cell_type": "code",
   "execution_count": 28,
   "metadata": {
    "tags": []
   },
   "outputs": [
    {
     "output_type": "stream",
     "name": "stdout",
     "text": "Ohio      35000\nTexas     71000\nOregon    16000\nUtah       5000\ndtype: int64\n"
    }
   ],
   "source": [
    "# 创建两个Series名为ser3与ser4.\n",
    "import pandas as pd  \n",
    "sdata = {'Ohio': 35000, 'Texas': 71000, 'Oregon': 16000, 'Utah': 5000}  \n",
    "ser3 = pd.Series(sdata)  \n",
    "states = ['California', 'Ohio', 'Oregon', 'Texas']  \n",
    "ser4 = pd.Series(sdata,index = states)  \n",
    "print(ser3)  "
   ]
  },
  {
   "cell_type": "code",
   "execution_count": 29,
   "metadata": {
    "tags": []
   },
   "outputs": [
    {
     "output_type": "stream",
     "name": "stdout",
     "text": "California        NaN\nOhio          35000.0\nOregon        16000.0\nTexas         71000.0\ndtype: float64\n"
    }
   ],
   "source": [
    "print(ser4)"
   ]
  },
  {
   "cell_type": "code",
   "execution_count": 30,
   "metadata": {},
   "outputs": [
    {
     "output_type": "execute_result",
     "data": {
      "text/plain": "California         NaN\nOhio           70000.0\nOregon         32000.0\nTexas         142000.0\nUtah               NaN\ndtype: float64"
     },
     "metadata": {},
     "execution_count": 30
    }
   ],
   "source": [
    "ser3+ser4 "
   ]
  },
  {
   "cell_type": "markdown",
   "metadata": {},
   "source": [
    "Series增删改\n",
    "\n",
    "增：Series的add()方法是加法计算不是增加Series元素用的，使用append连接其他Series。"
   ]
  },
  {
   "cell_type": "code",
   "execution_count": 31,
   "metadata": {
    "tags": []
   },
   "outputs": [
    {
     "output_type": "stream",
     "name": "stdout",
     "text": "Ohio      35000\nTexas     71000\nOregon    16000\nUtah       5000\ndtype: int64\n"
    }
   ],
   "source": [
    "import pandas as pd  \n",
    "sdata = {'Ohio': 35000, 'Texas': 71000, 'Oregon': 16000, 'Utah': 5000}  \n",
    "ser3 = pd.Series(sdata)  \n",
    "states = ['California', 'Ohio', 'Oregon', 'Texas']  \n",
    "ser4 = pd.Series(sdata,index = states)  \n",
    "print(ser3)  "
   ]
  },
  {
   "cell_type": "code",
   "execution_count": 32,
   "metadata": {
    "tags": []
   },
   "outputs": [
    {
     "output_type": "stream",
     "name": "stdout",
     "text": "California        NaN\nOhio          35000.0\nOregon        16000.0\nTexas         71000.0\ndtype: float64\n"
    }
   ],
   "source": [
    "print(ser4)  "
   ]
  },
  {
   "cell_type": "code",
   "execution_count": 33,
   "metadata": {},
   "outputs": [
    {
     "output_type": "execute_result",
     "data": {
      "text/plain": "Ohio          35000.0\nTexas         71000.0\nOregon        16000.0\nUtah           5000.0\nCalifornia        NaN\nOhio          35000.0\nOregon        16000.0\nTexas         71000.0\ndtype: float64"
     },
     "metadata": {},
     "execution_count": 33
    }
   ],
   "source": [
    "ser3.append(ser4)  "
   ]
  },
  {
   "cell_type": "markdown",
   "metadata": {},
   "source": [
    "删：Series的drop()方法可以对Series进行删除操作，返回一个被删除后的Series，原来的Series不改变。"
   ]
  },
  {
   "cell_type": "code",
   "execution_count": 34,
   "metadata": {},
   "outputs": [
    {
     "output_type": "execute_result",
     "data": {
      "text/plain": "b    2\nc    3\nd    4\ne    5\ndtype: int64"
     },
     "metadata": {},
     "execution_count": 34
    }
   ],
   "source": [
    "import pandas as pd  \n",
    "s = pd.Series([1,2,3,4,5],index = ['a','b','c','d','e'])  \n",
    "s.drop('a') "
   ]
  },
  {
   "cell_type": "code",
   "execution_count": 35,
   "metadata": {},
   "outputs": [
    {
     "output_type": "execute_result",
     "data": {
      "text/plain": "a    1\nb    2\nc    3\nd    4\ne    5\ndtype: int64"
     },
     "metadata": {},
     "execution_count": 35
    }
   ],
   "source": [
    "s"
   ]
  },
  {
   "cell_type": "markdown",
   "metadata": {},
   "source": [
    "改：通过索引的方式查找到某个元素，然后通过“=”赋予新的值。"
   ]
  },
  {
   "cell_type": "code",
   "execution_count": 36,
   "metadata": {
    "tags": []
   },
   "outputs": [
    {
     "output_type": "stream",
     "name": "stdout",
     "text": "a    5\nb    2\nc    3\nd    4\ne    5\ndtype: int64\n"
    }
   ],
   "source": [
    "import pandas as pd  \n",
    "s = pd.Series([1,2,3,4,5],index = ['a','b','c','d','e'])  \n",
    "s['a']=5  \n",
    "print(s)  "
   ]
  }
 ],
 "metadata": {
  "kernelspec": {
   "display_name": "Python 3",
   "language": "python",
   "name": "python3"
  },
  "language_info": {
   "codemirror_mode": {
    "name": "ipython",
    "version": 3
   },
   "file_extension": ".py",
   "mimetype": "text/x-python",
   "name": "python",
   "nbconvert_exporter": "python",
   "pygments_lexer": "ipython3",
   "version": "3.7.8-final"
  }
 },
 "nbformat": 4,
 "nbformat_minor": 2
}