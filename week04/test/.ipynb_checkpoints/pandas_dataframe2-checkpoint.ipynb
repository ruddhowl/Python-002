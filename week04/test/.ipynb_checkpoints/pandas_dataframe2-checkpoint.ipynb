{
 "cells": [
  {
   "cell_type": "markdown",
   "metadata": {},
   "source": [
    "# pandas——DataFrame基本操作(二)\n",
    "实验内容：练习pandas中DataFrame的修改元素值、缺失值处理、合并操作。\n"
   ]
  },
  {
   "cell_type": "markdown",
   "metadata": {},
   "source": [
    "## concat合并："
   ]
  },
  {
   "cell_type": "code",
   "execution_count": 2,
   "metadata": {},
   "outputs": [
    {
     "ename": "NameError",
     "evalue": "name 'pd' is not defined",
     "output_type": "error",
     "traceback": [
      "\u001b[1;31m---------------------------------------------------------------------------\u001b[0m",
      "\u001b[1;31mNameError\u001b[0m                                 Traceback (most recent call last)",
      "\u001b[1;32m<ipython-input-2-bf12ae454242>\u001b[0m in \u001b[0;36m<module>\u001b[1;34m\u001b[0m\n\u001b[1;32m----> 1\u001b[1;33m \u001b[0mpd\u001b[0m\u001b[1;33m.\u001b[0m\u001b[0mconcat\u001b[0m\u001b[1;33m(\u001b[0m\u001b[0mobjs\u001b[0m\u001b[1;33m,\u001b[0m \u001b[0maxis\u001b[0m\u001b[1;33m=\u001b[0m\u001b[1;36m0\u001b[0m\u001b[1;33m,\u001b[0m \u001b[0mjoin\u001b[0m\u001b[1;33m=\u001b[0m\u001b[1;34m'outer'\u001b[0m\u001b[1;33m,\u001b[0m \u001b[0mjoin_axes\u001b[0m\u001b[1;33m=\u001b[0m\u001b[1;32mNone\u001b[0m\u001b[1;33m,\u001b[0m \u001b[0mignore_index\u001b[0m\u001b[1;33m=\u001b[0m\u001b[1;32mFalse\u001b[0m\u001b[1;33m,\u001b[0m \u001b[0mkeys\u001b[0m\u001b[1;33m=\u001b[0m\u001b[1;32mNone\u001b[0m\u001b[1;33m,\u001b[0m \u001b[0mlevels\u001b[0m\u001b[1;33m=\u001b[0m\u001b[1;32mNone\u001b[0m\u001b[1;33m,\u001b[0m \u001b[0mnames\u001b[0m\u001b[1;33m=\u001b[0m\u001b[1;32mNone\u001b[0m\u001b[1;33m,\u001b[0m \u001b[0mverify_integrity\u001b[0m\u001b[1;33m=\u001b[0m\u001b[1;32mFalse\u001b[0m\u001b[1;33m)\u001b[0m\u001b[1;33m\u001b[0m\u001b[1;33m\u001b[0m\u001b[0m\n\u001b[0m",
      "\u001b[1;31mNameError\u001b[0m: name 'pd' is not defined"
     ]
    }
   ],
   "source": [
    "pd.concat(objs, axis=0, join='outer', join_axes=None, ignore_index=False, keys=None, levels=None, names=None, verify_integrity=False)  "
   ]
  },
  {
   "cell_type": "markdown",
   "metadata": {},
   "source": [
    "objs: series，dataframe或者是panel构成的序列lsit。\n",
    "\n",
    "axis： 需要合并链接的轴，0是行，1是列，默认为axis=0。\n",
    "\n",
    "join：连接的方式 inner，或者outer，默认为join=‘outer’\n",
    "\n",
    "keys：合并的同时增加分区。\n",
    "\n",
    "ignore_index：忽略索引，默认为False，当为True时，合并的两表就按列字段对齐。"
   ]
  },
  {
   "cell_type": "markdown",
   "metadata": {},
   "source": [
    "## merge合并：\n",
    "\n",
    "pandas的merge方法提供了一种类似于SQL的内存链接操作，官网文档提到它的性能会比其他开源语言的数据操作（例如R）要高效。"
   ]
  },
  {
   "cell_type": "code",
   "execution_count": 3,
   "metadata": {},
   "outputs": [
    {
     "ename": "NameError",
     "evalue": "name 'pd' is not defined",
     "output_type": "error",
     "traceback": [
      "\u001b[1;31m---------------------------------------------------------------------------\u001b[0m",
      "\u001b[1;31mNameError\u001b[0m                                 Traceback (most recent call last)",
      "\u001b[1;32m<ipython-input-3-b23b9a71dd9a>\u001b[0m in \u001b[0;36m<module>\u001b[1;34m\u001b[0m\n\u001b[1;32m----> 1\u001b[1;33m pd.merge(left, right, how='inner', on=None, left_on=None, right_on=None, left_index=False, right_index=False, sort=True,  \n\u001b[0m\u001b[0;32m      2\u001b[0m suffixes=('_x', '_y'), copy=True, indicator=False,validate=None)  \n",
      "\u001b[1;31mNameError\u001b[0m: name 'pd' is not defined"
     ]
    }
   ],
   "source": [
    "pd.merge(left, right, how='inner', on=None, left_on=None, right_on=None, left_index=False, right_index=False, sort=True,  \n",
    "suffixes=('_x', '_y'), copy=True, indicator=False,validate=None)  "
   ]
  },
  {
   "cell_type": "markdown",
   "metadata": {},
   "source": [
    "merge的参数：\n",
    "\n",
    "left/right：两个不同的DataFrame\n",
    "\n",
    "on：指的是用于连接的列索引名称。必须存在左右两个DataFrame对象中，如果没有指定且其他参数也未指定则以两个DataFrame的列名交集做为连接键\n",
    "\n",
    "left_on：左则DataFrame中用作连接键的列名;这个参数中左右列名不相同，但代表的含义相同时非常有用。right_on：右则DataFrame中用作 连接键的列名。\n",
    "\n",
    "left_index：使用左则DataFrame中的行索引做为连接键。\n",
    "\n",
    "right_index：使用右则DataFrame中的行索引做为连接键。\n",
    "\n",
    "how：指的是合并(连接)的方式有inner(内连接),left(左外连接),right(右外连接),outer(全外连接);默认为inner。\n",
    "\n",
    "sort：根据DataFrame合并的keys按字典顺序排序，默认是True，如果置false可以提高表现。\n",
    "\n",
    "suffixes：字符串值组成的元组，用于指定当左右DataFrame存在相同列名时在列名后面附加的后缀名称，默认为('_x','_y')\n",
    "\n",
    "copy：默认为True,总是将数据复制到数据结构中；大多数情况下设置为False可以提高性能\n",
    "\n",
    "indicator：在 0.17.0中还增加了一个显示合并数据中来源情况；如只来自于左边(left_only)、两者(both)。\n",
    "\n",
    "merge的默认合并方法：merge用于表内部基于 index-on-index 和 index-on-column(s) 的合并，但默认是基于index来合并。\n",
    "\n",
    "## join连接：主要用于索引上的合并"
   ]
  },
  {
   "cell_type": "code",
   "execution_count": 4,
   "metadata": {},
   "outputs": [
    {
     "ename": "NameError",
     "evalue": "name 'join' is not defined",
     "output_type": "error",
     "traceback": [
      "\u001b[1;31m---------------------------------------------------------------------------\u001b[0m",
      "\u001b[1;31mNameError\u001b[0m                                 Traceback (most recent call last)",
      "\u001b[1;32m<ipython-input-4-f2d0a9a06a67>\u001b[0m in \u001b[0;36m<module>\u001b[1;34m\u001b[0m\n\u001b[1;32m----> 1\u001b[1;33m \u001b[0mjoin\u001b[0m\u001b[1;33m(\u001b[0m\u001b[0mself\u001b[0m\u001b[1;33m,\u001b[0m \u001b[0mother\u001b[0m\u001b[1;33m,\u001b[0m \u001b[0mon\u001b[0m\u001b[1;33m=\u001b[0m\u001b[1;32mNone\u001b[0m\u001b[1;33m,\u001b[0m \u001b[0mhow\u001b[0m\u001b[1;33m=\u001b[0m\u001b[1;34m'left'\u001b[0m\u001b[1;33m,\u001b[0m \u001b[0mlsuffix\u001b[0m\u001b[1;33m=\u001b[0m\u001b[1;34m''\u001b[0m\u001b[1;33m,\u001b[0m \u001b[0mrsuffix\u001b[0m\u001b[1;33m=\u001b[0m\u001b[1;34m''\u001b[0m\u001b[1;33m,\u001b[0m\u001b[0msort\u001b[0m\u001b[1;33m=\u001b[0m\u001b[1;32mFalse\u001b[0m\u001b[1;33m)\u001b[0m\u001b[1;33m\u001b[0m\u001b[1;33m\u001b[0m\u001b[0m\n\u001b[0m",
      "\u001b[1;31mNameError\u001b[0m: name 'join' is not defined"
     ]
    }
   ],
   "source": [
    "join(self, other, on=None, how='left', lsuffix='', rsuffix='',sort=False)"
   ]
  },
  {
   "cell_type": "markdown",
   "metadata": {},
   "source": [
    "其中参数的意义与merge方法基本相同,只是join方法默认为左外连接how=left\n",
    "\n",
    "1.默认按索引合并，可以合并相同或相似的索引，不管他们有没有重叠列。\n",
    "\n",
    "2.可以连接多个DataFrame\n",
    "\n",
    "3.可以连接除索引外的其他列\n",
    "\n",
    "4.连接方式用参数how控制\n",
    "\n",
    "5.通过lsuffix='', rsuffix='' 区分相同列名的列"
   ]
  },
  {
   "cell_type": "markdown",
   "metadata": {},
   "source": [
    "修改数据\n",
    "\n",
    "通过字典对象创建一个DataFrame。\n"
   ]
  },
  {
   "cell_type": "code",
   "execution_count": 9,
   "metadata": {
    "tags": []
   },
   "outputs": [
    {
     "name": "stdout",
     "output_type": "stream",
     "text": [
      "A         B         C         D\n",
      "2013-01-01 -0.585069 -0.305129 -0.420400 -0.767229\n",
      "2013-01-02  0.594755 -1.221424  0.042845 -2.075718\n",
      "2013-01-03  1.324333  1.042771  0.416202  0.202882\n",
      "2013-01-04  0.092633 -0.876439  0.408479  1.010804\n",
      "2013-01-05  2.897383 -1.103834 -0.880193 -0.485589\n",
      "2013-01-06 -0.250434 -0.425912 -0.293570 -0.602083\n"
     ]
    }
   ],
   "source": [
    "import numpy as np  \n",
    "import pandas as pd  \n",
    "dates = pd.date_range('20130101', periods=6)  \n",
    "df = pd.DataFrame(np.random.randn(6,4), index=dates, columns=list('ABCD'))  \n",
    "print(df)"
   ]
  },
  {
   "cell_type": "markdown",
   "metadata": {},
   "source": [
    "新建一个值为[1,2,3,4,5,6]，索引index为2013-01-02到2013-01-07的Series，并将series赋值给df作为df新增的F列。 "
   ]
  },
  {
   "cell_type": "code",
   "execution_count": 11,
   "metadata": {
    "tags": []
   },
   "outputs": [
    {
     "name": "stdout",
     "output_type": "stream",
     "text": [
      "2013-01-02    1\n",
      "2013-01-03    2\n",
      "2013-01-04    3\n",
      "2013-01-05    4\n",
      "2013-01-06    5\n",
      "2013-01-07    6\n",
      "Freq: D, dtype: int64\n"
     ]
    }
   ],
   "source": [
    "s1=pd.Series([1,2,3,4,5,6],index=pd.date_range('20130102',periods=6))  \n",
    "print(s1)  "
   ]
  },
  {
   "cell_type": "code",
   "execution_count": 12,
   "metadata": {
    "tags": []
   },
   "outputs": [
    {
     "name": "stdout",
     "output_type": "stream",
     "text": [
      "A         B         C         D    F\n",
      "2013-01-01 -0.585069 -0.305129 -0.420400 -0.767229  NaN\n",
      "2013-01-02  0.594755 -1.221424  0.042845 -2.075718  1.0\n",
      "2013-01-03  1.324333  1.042771  0.416202  0.202882  2.0\n",
      "2013-01-04  0.092633 -0.876439  0.408479  1.010804  3.0\n",
      "2013-01-05  2.897383 -1.103834 -0.880193 -0.485589  4.0\n",
      "2013-01-06 -0.250434 -0.425912 -0.293570 -0.602083  5.0\n"
     ]
    }
   ],
   "source": [
    "df['F']=s1  \n",
    "print(df) "
   ]
  },
  {
   "cell_type": "code",
   "execution_count": 13,
   "metadata": {
    "tags": []
   },
   "outputs": [
    {
     "name": "stdout",
     "output_type": "stream",
     "text": [
      "A         B         C         D    F\n",
      "2013-01-01  0.000000 -0.305129 -0.420400 -0.767229  NaN\n",
      "2013-01-02  0.594755 -1.221424  0.042845 -2.075718  1.0\n",
      "2013-01-03  1.324333  1.042771  0.416202  0.202882  2.0\n",
      "2013-01-04  0.092633 -0.876439  0.408479  1.010804  3.0\n",
      "2013-01-05  2.897383 -1.103834 -0.880193 -0.485589  4.0\n",
      "2013-01-06 -0.250434 -0.425912 -0.293570 -0.602083  5.0\n"
     ]
    }
   ],
   "source": [
    "# 通过at方法把满足df中dates[0],列A的值修改为0。\n",
    "df.at[dates[0],'A']=0  \n",
    "print(df) "
   ]
  },
  {
   "cell_type": "code",
   "execution_count": 14,
   "metadata": {
    "tags": []
   },
   "outputs": [
    {
     "name": "stdout",
     "output_type": "stream",
     "text": [
      "A         B         C         D    F\n",
      "2013-01-01  0.000000  0.000000 -0.420400 -0.767229  NaN\n",
      "2013-01-02  0.594755 -1.221424  0.042845 -2.075718  1.0\n",
      "2013-01-03  1.324333  1.042771  0.416202  0.202882  2.0\n",
      "2013-01-04  0.092633 -0.876439  0.408479  1.010804  3.0\n",
      "2013-01-05  2.897383 -1.103834 -0.880193 -0.485589  4.0\n",
      "2013-01-06 -0.250434 -0.425912 -0.293570 -0.602083  5.0\n"
     ]
    }
   ],
   "source": [
    "# 使用iat方法修改df中行下标为0，列下标为1的值等于0.\n",
    "df.iat[0,1]=0  \n",
    "print(df)  "
   ]
  },
  {
   "cell_type": "code",
   "execution_count": 15,
   "metadata": {
    "tags": []
   },
   "outputs": [
    {
     "name": "stdout",
     "output_type": "stream",
     "text": [
      "A         B         C  D    F\n",
      "2013-01-01  0.000000  0.000000 -0.420400  5  NaN\n",
      "2013-01-02  0.594755 -1.221424  0.042845  5  1.0\n",
      "2013-01-03  1.324333  1.042771  0.416202  5  2.0\n",
      "2013-01-04  0.092633 -0.876439  0.408479  5  3.0\n",
      "2013-01-05  2.897383 -1.103834 -0.880193  5  4.0\n",
      "2013-01-06 -0.250434 -0.425912 -0.293570  5  5.0\n"
     ]
    }
   ],
   "source": [
    "# 使用loc方法把df的D列值修改为5*len(df)。\n",
    "df.loc[:,'D']=np.array([5]*len(df))  \n",
    "print(df)"
   ]
  },
  {
   "cell_type": "code",
   "execution_count": 16,
   "metadata": {
    "tags": []
   },
   "outputs": [
    {
     "name": "stdout",
     "output_type": "stream",
     "text": [
      "A         B         C  D    F\n",
      "2013-01-01  0.000000  0.000000 -0.420400 -5  NaN\n",
      "2013-01-02 -0.594755 -1.221424 -0.042845 -5 -1.0\n",
      "2013-01-03 -1.324333 -1.042771 -0.416202 -5 -2.0\n",
      "2013-01-04 -0.092633 -0.876439 -0.408479 -5 -3.0\n",
      "2013-01-05 -2.897383 -1.103834 -0.880193 -5 -4.0\n",
      "2013-01-06 -0.250434 -0.425912 -0.293570 -5 -5.0\n"
     ]
    }
   ],
   "source": [
    "# 使用copy方法将df赋值给df2,使用where语句将df2中满足df2>0条件的值修改为-df2。\n",
    "df2=df.copy()  \n",
    "df2[df2>0]=-df2  \n",
    "print(df2)  "
   ]
  },
  {
   "cell_type": "markdown",
   "metadata": {},
   "source": [
    "## 缺失值\n",
    "\n",
    "使用reindex方法将df的行列索引同时重新索引，使行index=date[0:4]，列索引culumns=list(df.columns+['E'])，并返回一个新的数据帧df1，然后使用loc方法将df1中行索引为dates[0]和dates[1]，列为“E\"的值修改为1。"
   ]
  },
  {
   "cell_type": "code",
   "execution_count": 1,
   "metadata": {},
   "outputs": [
    {
     "ename": "NameError",
     "evalue": "name 'df' is not defined",
     "output_type": "error",
     "traceback": [
      "\u001b[1;31m---------------------------------------------------------------------------\u001b[0m",
      "\u001b[1;31mNameError\u001b[0m                                 Traceback (most recent call last)",
      "\u001b[1;32m<ipython-input-1-e29557ff3533>\u001b[0m in \u001b[0;36m<module>\u001b[1;34m\u001b[0m\n\u001b[1;32m----> 1\u001b[1;33m \u001b[0mdf1\u001b[0m\u001b[1;33m=\u001b[0m\u001b[0mdf\u001b[0m\u001b[1;33m.\u001b[0m\u001b[0mreindex\u001b[0m\u001b[1;33m(\u001b[0m\u001b[0mindex\u001b[0m\u001b[1;33m=\u001b[0m\u001b[0mdates\u001b[0m\u001b[1;33m[\u001b[0m\u001b[1;36m0\u001b[0m\u001b[1;33m:\u001b[0m\u001b[1;36m4\u001b[0m\u001b[1;33m]\u001b[0m\u001b[1;33m,\u001b[0m\u001b[0mcolumns\u001b[0m\u001b[1;33m=\u001b[0m\u001b[0mlist\u001b[0m\u001b[1;33m(\u001b[0m\u001b[0mdf\u001b[0m\u001b[1;33m.\u001b[0m\u001b[0mcolumns\u001b[0m\u001b[1;33m)\u001b[0m\u001b[1;33m+\u001b[0m\u001b[1;33m[\u001b[0m\u001b[1;34m'E'\u001b[0m\u001b[1;33m]\u001b[0m\u001b[1;33m)\u001b[0m\u001b[1;33m\u001b[0m\u001b[1;33m\u001b[0m\u001b[0m\n\u001b[0m\u001b[0;32m      2\u001b[0m \u001b[0mprint\u001b[0m\u001b[1;33m(\u001b[0m\u001b[0mdf1\u001b[0m\u001b[1;33m)\u001b[0m\u001b[1;33m\u001b[0m\u001b[1;33m\u001b[0m\u001b[0m\n",
      "\u001b[1;31mNameError\u001b[0m: name 'df' is not defined"
     ]
    }
   ],
   "source": [
    "df1=df.reindex(index=dates[0:4],columns=list(df.columns)+['E'])  \n",
    "print(df1)  "
   ]
  },
  {
   "cell_type": "code",
   "execution_count": null,
   "metadata": {},
   "outputs": [],
   "source": []
  }
 ],
 "metadata": {
  "kernelspec": {
   "display_name": "Python 3",
   "language": "python",
   "name": "python3"
  },
  "language_info": {
   "codemirror_mode": {
    "name": "ipython",
    "version": 3
   },
   "file_extension": ".py",
   "mimetype": "text/x-python",
   "name": "python",
   "nbconvert_exporter": "python",
   "pygments_lexer": "ipython3",
   "version": "3.7.8"
  }
 },
 "nbformat": 4,
 "nbformat_minor": 2
}
