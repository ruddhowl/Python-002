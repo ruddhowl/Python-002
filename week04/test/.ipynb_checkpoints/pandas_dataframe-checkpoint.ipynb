{
 "cells": [
  {
   "cell_type": "markdown",
   "metadata": {},
   "source": [
    "# pandas——DataFrame基本操作"
   ]
  },
  {
   "cell_type": "markdown",
   "metadata": {},
   "source": [
    "DataFrame提供的是一个类似表的结构，由多个Series组成，而Series在DataFrame中叫columns。"
   ]
  },
  {
   "cell_type": "markdown",
   "metadata": {},
   "source": [
    "一、查看数据（查看对象的方法对于Series来说同样适用）\n",
    "\n",
    "1.查看DataFrame前xx行或后xx行\n",
    "\n",
    "a=DataFrame(data);\n",
    "\n",
    "a.head(6)表示显示前6行数据，若head()中不带参数则会显示全部数据。\n",
    "\n",
    "a.tail(6)表示显示后6行数据，若tail()中不带参数则也会显示全部数据。\n",
    "\n",
    "2.查看DataFrame的index，columns以及values\n",
    "\n",
    "a.index ; a.columns ; a.values 即可\n",
    "\n",
    "3.describe()函数对数据快速统计汇总\n",
    "\n",
    "a.describe()对每一列数据进行统计，包括计数，均值，std，各个分位数等。\n",
    "\n",
    "4.对数据的转置\n",
    "\n",
    "a.T\n",
    "\n",
    "5.对轴进行排序\n",
    "\n",
    "a.sort_index(axis=1,ascending=False)；\n",
    "\n",
    "其中axis=1表示对所有的columns进行排序，下面的数也跟着发生移动。后面的ascending=False表示按降序排列，参数缺失时默认升序。\n",
    "\n",
    "6.对DataFrame中的值排序\n",
    "\n",
    "a.sort(columns='x')\n",
    "\n",
    "即对a中的x这一列，从小到大进行排序。注意仅仅是x这一列，而上面的按轴进行排序时会对所有的columns进行操作。\n",
    "\n",
    "二、选择对象\n",
    "\n",
    "1.选择特定列和行的数据\n",
    "\n",
    "a['x'] 那么将会返回columns为x的列，注意这种方式一次只能返回一个列。a.x与a['x']意思一样。\n",
    "\n",
    "取行数据，通过切片[]来选择\n",
    "\n",
    "如：a[0:3] 则会返回前三行的数据。\n",
    "\n",
    "2.loc是通过标签来选择数据\n",
    "\n",
    "a.loc['one']则会默认表示选取行为'one'的行；\n",
    "\n",
    "a.loc[:,['a','b'] ] 表示选取所有的行以及columns为a,b的列；\n",
    "\n",
    "a.loc[['one','two'],['a','b']] 表示选取'one'和'two'这两行以及columns为a,b的列；\n",
    "\n",
    "a.loc['one','a']与a.loc[['one'],['a']]作用是一样的，不过前者只显示对应的值，而后者会显示对应的行和列标签。\n",
    "\n",
    "3.iloc则是直接通过位置来选择数据\n",
    "\n",
    "这与通过标签选择类似\n",
    "\n",
    "a.iloc[1:2,1:2] 则会显示第一行第一列的数据;(切片后面的值取不到)\n",
    "\n",
    "a.iloc[1:2] 即后面表示列的值没有时，默认选取行位置为1的数据;\n",
    "\n",
    "a.iloc[[0,2],[1,2]] 即可以自由选取行位置，和列位置对应的数据。\n",
    "\n",
    "4.使用条件来选择\n",
    "\n",
    "使用单独的列来选择数据\n",
    "\n",
    "a[a.c>0] 表示选择c列中大于0的数据\n",
    "\n",
    "使用where来选择数据\n",
    "\n",
    "a[a>0] 表直接选择a中所有大于0的数据\n",
    "\n",
    "使用isin()选出特定列中包含特定值的行\n",
    "\n",
    "a1=a.copy()\n",
    "\n",
    "a1[a1['one'].isin(['2','3'])] 表显示满足条件：列one中的值包含'2','3'的所有行。\n",
    "\n",
    "三、设置值（赋值）\n",
    "\n",
    "赋值操作在上述选择操作的基础上直接赋值即可。\n",
    "\n",
    "例a.loc[:,['a','c']]=9 即将a和c列的所有行中的值设置为9\n",
    "\n",
    "a.iloc[:,[1,3]]=9 表示1和2列的所有行中的值设置为9\n",
    "\n",
    "同时也依然可以用条件来直接赋值\n",
    "\n",
    "a[a>0]=-a 表示将a中所有大于0的数转化为负值\n"
   ]
  },
  {
   "cell_type": "markdown",
   "metadata": {},
   "source": [
    "创建DataFrame。\n",
    "\n",
    "通过字典对象创建一个DataFrame。"
   ]
  },
  {
   "cell_type": "code",
   "execution_count": 2,
   "metadata": {
    "tags": []
   },
   "outputs": [
    {
     "name": "stdout",
     "output_type": "stream",
     "text": [
      "A         B         C         D\n",
      "2013-01-01 -1.739413 -0.464840 -1.240437 -1.244574\n",
      "2013-01-02 -0.804761  1.164258 -1.073149 -0.177648\n",
      "2013-01-03 -1.619675  0.218574  0.489835  1.953364\n",
      "2013-01-04 -0.889908 -0.865629  1.794322 -1.804324\n",
      "2013-01-05  1.151663  1.010895  0.741465 -0.905265\n",
      "2013-01-06 -0.674255  0.752988  0.630887  0.446280\n"
     ]
    }
   ],
   "source": [
    "import numpy as np  \n",
    "import pandas as pd  \n",
    "dates = pd.date_range('20130101', periods=6)  \n",
    "df = pd.DataFrame(np.random.randn(6,4), index=dates, columns=list('ABCD'))  \n",
    "print(df)  "
   ]
  },
  {
   "cell_type": "markdown",
   "metadata": {},
   "source": [
    "基础操作"
   ]
  },
  {
   "cell_type": "code",
   "execution_count": 3,
   "metadata": {
    "tags": []
   },
   "outputs": [
    {
     "name": "stdout",
     "output_type": "stream",
     "text": [
      "A         B         C         D\n",
      "2013-01-01 -1.739413 -0.464840 -1.240437 -1.244574\n",
      "2013-01-02 -0.804761  1.164258 -1.073149 -0.177648\n",
      "2013-01-03 -1.619675  0.218574  0.489835  1.953364\n",
      "2013-01-04 -0.889908 -0.865629  1.794322 -1.804324\n",
      "2013-01-05  1.151663  1.010895  0.741465 -0.905265\n",
      "                   A         B         C         D\n",
      "2013-01-04 -0.889908 -0.865629  1.794322 -1.804324\n",
      "2013-01-05  1.151663  1.010895  0.741465 -0.905265\n",
      "2013-01-06 -0.674255  0.752988  0.630887  0.446280\n"
     ]
    }
   ],
   "source": [
    "# 查看df的前5行，查看df的后3行。\n",
    "print(df.head())  \n",
    "print(df.tail(3))  "
   ]
  },
  {
   "cell_type": "code",
   "execution_count": 4,
   "metadata": {
    "tags": []
   },
   "outputs": [
    {
     "name": "stdout",
     "output_type": "stream",
     "text": [
      "DatetimeIndex(['2013-01-01', '2013-01-02', '2013-01-03', '2013-01-04',\n",
      "               '2013-01-05', '2013-01-06'],\n",
      "              dtype='datetime64[ns]', freq='D')\n"
     ]
    }
   ],
   "source": [
    "# 查看df的索引名index。\n",
    "print(df.index)"
   ]
  },
  {
   "cell_type": "code",
   "execution_count": 5,
   "metadata": {
    "tags": []
   },
   "outputs": [
    {
     "name": "stdout",
     "output_type": "stream",
     "text": [
      "Index(['A', 'B', 'C', 'D'], dtype='object')\n"
     ]
    }
   ],
   "source": [
    "# 查看df的列名columns。\n",
    "print(df.columns)"
   ]
  },
  {
   "cell_type": "code",
   "execution_count": 6,
   "metadata": {},
   "outputs": [
    {
     "data": {
      "text/plain": [
       "array([[-1.73941259, -0.46483987, -1.2404366 , -1.24457376],\n",
       "       [-0.80476114,  1.16425783, -1.07314906, -0.17764768],\n",
       "       [-1.61967518,  0.21857421,  0.48983464,  1.953364  ],\n",
       "       [-0.88990795, -0.86562863,  1.79432178, -1.80432352],\n",
       "       [ 1.15166337,  1.01089538,  0.74146473, -0.90526544],\n",
       "       [-0.67425536,  0.752988  ,  0.63088731,  0.44628   ]])"
      ]
     },
     "execution_count": 6,
     "metadata": {},
     "output_type": "execute_result"
    }
   ],
   "source": [
    "# 查看df的值values。\n",
    "df.values"
   ]
  },
  {
   "cell_type": "code",
   "execution_count": 7,
   "metadata": {},
   "outputs": [
    {
     "data": {
      "text/plain": [
       "<bound method NDFrame.describe of                    A         B         C         D\n",
       "2013-01-01 -1.739413 -0.464840 -1.240437 -1.244574\n",
       "2013-01-02 -0.804761  1.164258 -1.073149 -0.177648\n",
       "2013-01-03 -1.619675  0.218574  0.489835  1.953364\n",
       "2013-01-04 -0.889908 -0.865629  1.794322 -1.804324\n",
       "2013-01-05  1.151663  1.010895  0.741465 -0.905265\n",
       "2013-01-06 -0.674255  0.752988  0.630887  0.446280>"
      ]
     },
     "execution_count": 7,
     "metadata": {},
     "output_type": "execute_result"
    }
   ],
   "source": [
    "# 查看df的数据统计描述。\n",
    "df.describe"
   ]
  },
  {
   "cell_type": "code",
   "execution_count": 8,
   "metadata": {
    "tags": []
   },
   "outputs": [
    {
     "name": "stdout",
     "output_type": "stream",
     "text": [
      "2013-01-01  2013-01-02  2013-01-03  2013-01-04  2013-01-05  2013-01-06\n",
      "A   -1.739413   -0.804761   -1.619675   -0.889908    1.151663   -0.674255\n",
      "B   -0.464840    1.164258    0.218574   -0.865629    1.010895    0.752988\n",
      "C   -1.240437   -1.073149    0.489835    1.794322    0.741465    0.630887\n",
      "D   -1.244574   -0.177648    1.953364   -1.804324   -0.905265    0.446280\n"
     ]
    }
   ],
   "source": [
    "# df的转置。\n",
    "print(df.T)"
   ]
  },
  {
   "cell_type": "code",
   "execution_count": 10,
   "metadata": {},
   "outputs": [
    {
     "data": {
      "text/html": [
       "<div>\n",
       "<style scoped>\n",
       "    .dataframe tbody tr th:only-of-type {\n",
       "        vertical-align: middle;\n",
       "    }\n",
       "\n",
       "    .dataframe tbody tr th {\n",
       "        vertical-align: top;\n",
       "    }\n",
       "\n",
       "    .dataframe thead th {\n",
       "        text-align: right;\n",
       "    }\n",
       "</style>\n",
       "<table border=\"1\" class=\"dataframe\">\n",
       "  <thead>\n",
       "    <tr style=\"text-align: right;\">\n",
       "      <th></th>\n",
       "      <th>A</th>\n",
       "      <th>B</th>\n",
       "      <th>C</th>\n",
       "      <th>D</th>\n",
       "    </tr>\n",
       "  </thead>\n",
       "  <tbody>\n",
       "    <tr>\n",
       "      <th>2013-01-01</th>\n",
       "      <td>-1.739413</td>\n",
       "      <td>-0.464840</td>\n",
       "      <td>-1.240437</td>\n",
       "      <td>-1.244574</td>\n",
       "    </tr>\n",
       "    <tr>\n",
       "      <th>2013-01-02</th>\n",
       "      <td>-0.804761</td>\n",
       "      <td>1.164258</td>\n",
       "      <td>-1.073149</td>\n",
       "      <td>-0.177648</td>\n",
       "    </tr>\n",
       "    <tr>\n",
       "      <th>2013-01-03</th>\n",
       "      <td>-1.619675</td>\n",
       "      <td>0.218574</td>\n",
       "      <td>0.489835</td>\n",
       "      <td>1.953364</td>\n",
       "    </tr>\n",
       "    <tr>\n",
       "      <th>2013-01-04</th>\n",
       "      <td>-0.889908</td>\n",
       "      <td>-0.865629</td>\n",
       "      <td>1.794322</td>\n",
       "      <td>-1.804324</td>\n",
       "    </tr>\n",
       "    <tr>\n",
       "      <th>2013-01-05</th>\n",
       "      <td>1.151663</td>\n",
       "      <td>1.010895</td>\n",
       "      <td>0.741465</td>\n",
       "      <td>-0.905265</td>\n",
       "    </tr>\n",
       "    <tr>\n",
       "      <th>2013-01-06</th>\n",
       "      <td>-0.674255</td>\n",
       "      <td>0.752988</td>\n",
       "      <td>0.630887</td>\n",
       "      <td>0.446280</td>\n",
       "    </tr>\n",
       "  </tbody>\n",
       "</table>\n",
       "</div>"
      ],
      "text/plain": [
       "                   A         B         C         D\n",
       "2013-01-01 -1.739413 -0.464840 -1.240437 -1.244574\n",
       "2013-01-02 -0.804761  1.164258 -1.073149 -0.177648\n",
       "2013-01-03 -1.619675  0.218574  0.489835  1.953364\n",
       "2013-01-04 -0.889908 -0.865629  1.794322 -1.804324\n",
       "2013-01-05  1.151663  1.010895  0.741465 -0.905265\n",
       "2013-01-06 -0.674255  0.752988  0.630887  0.446280"
      ]
     },
     "execution_count": 10,
     "metadata": {},
     "output_type": "execute_result"
    }
   ],
   "source": [
    "# 按axis对df数据进行排序，axis=1表示按行排序，axis=0表示按列排序。\n",
    "df.sort_index(axis=1,ascending=True)"
   ]
  },
  {
   "cell_type": "code",
   "execution_count": 11,
   "metadata": {},
   "outputs": [
    {
     "data": {
      "text/html": [
       "<div>\n",
       "<style scoped>\n",
       "    .dataframe tbody tr th:only-of-type {\n",
       "        vertical-align: middle;\n",
       "    }\n",
       "\n",
       "    .dataframe tbody tr th {\n",
       "        vertical-align: top;\n",
       "    }\n",
       "\n",
       "    .dataframe thead th {\n",
       "        text-align: right;\n",
       "    }\n",
       "</style>\n",
       "<table border=\"1\" class=\"dataframe\">\n",
       "  <thead>\n",
       "    <tr style=\"text-align: right;\">\n",
       "      <th></th>\n",
       "      <th>A</th>\n",
       "      <th>B</th>\n",
       "      <th>C</th>\n",
       "      <th>D</th>\n",
       "    </tr>\n",
       "  </thead>\n",
       "  <tbody>\n",
       "    <tr>\n",
       "      <th>2013-01-04</th>\n",
       "      <td>-0.889908</td>\n",
       "      <td>-0.865629</td>\n",
       "      <td>1.794322</td>\n",
       "      <td>-1.804324</td>\n",
       "    </tr>\n",
       "    <tr>\n",
       "      <th>2013-01-01</th>\n",
       "      <td>-1.739413</td>\n",
       "      <td>-0.464840</td>\n",
       "      <td>-1.240437</td>\n",
       "      <td>-1.244574</td>\n",
       "    </tr>\n",
       "    <tr>\n",
       "      <th>2013-01-03</th>\n",
       "      <td>-1.619675</td>\n",
       "      <td>0.218574</td>\n",
       "      <td>0.489835</td>\n",
       "      <td>1.953364</td>\n",
       "    </tr>\n",
       "    <tr>\n",
       "      <th>2013-01-06</th>\n",
       "      <td>-0.674255</td>\n",
       "      <td>0.752988</td>\n",
       "      <td>0.630887</td>\n",
       "      <td>0.446280</td>\n",
       "    </tr>\n",
       "    <tr>\n",
       "      <th>2013-01-05</th>\n",
       "      <td>1.151663</td>\n",
       "      <td>1.010895</td>\n",
       "      <td>0.741465</td>\n",
       "      <td>-0.905265</td>\n",
       "    </tr>\n",
       "    <tr>\n",
       "      <th>2013-01-02</th>\n",
       "      <td>-0.804761</td>\n",
       "      <td>1.164258</td>\n",
       "      <td>-1.073149</td>\n",
       "      <td>-0.177648</td>\n",
       "    </tr>\n",
       "  </tbody>\n",
       "</table>\n",
       "</div>"
      ],
      "text/plain": [
       "                   A         B         C         D\n",
       "2013-01-04 -0.889908 -0.865629  1.794322 -1.804324\n",
       "2013-01-01 -1.739413 -0.464840 -1.240437 -1.244574\n",
       "2013-01-03 -1.619675  0.218574  0.489835  1.953364\n",
       "2013-01-06 -0.674255  0.752988  0.630887  0.446280\n",
       "2013-01-05  1.151663  1.010895  0.741465 -0.905265\n",
       "2013-01-02 -0.804761  1.164258 -1.073149 -0.177648"
      ]
     },
     "execution_count": 11,
     "metadata": {},
     "output_type": "execute_result"
    }
   ],
   "source": [
    "# 按value对df数据进行排序。\n",
    "df.sort_values(by='B')  "
   ]
  },
  {
   "cell_type": "markdown",
   "metadata": {},
   "source": [
    "Selection查看操作"
   ]
  },
  {
   "cell_type": "code",
   "execution_count": 12,
   "metadata": {
    "tags": []
   },
   "outputs": [
    {
     "name": "stdout",
     "output_type": "stream",
     "text": [
      "2013-01-01   -1.739413\n",
      "2013-01-02   -0.804761\n",
      "2013-01-03   -1.619675\n",
      "2013-01-04   -0.889908\n",
      "2013-01-05    1.151663\n",
      "2013-01-06   -0.674255\n",
      "Freq: D, Name: A, dtype: float64\n"
     ]
    }
   ],
   "source": [
    "# 查看df中的A列，返回一个Series。\n",
    "print(df['A'])"
   ]
  },
  {
   "cell_type": "code",
   "execution_count": 13,
   "metadata": {
    "tags": []
   },
   "outputs": [
    {
     "name": "stdout",
     "output_type": "stream",
     "text": [
      "A         B         C         D\n",
      "2013-01-01 -1.739413 -0.464840 -1.240437 -1.244574\n",
      "2013-01-02 -0.804761  1.164258 -1.073149 -0.177648\n",
      "2013-01-03 -1.619675  0.218574  0.489835  1.953364\n"
     ]
    }
   ],
   "source": [
    "# 通过[]查看df 的行片段。\n",
    "print(df[0:3])"
   ]
  },
  {
   "cell_type": "markdown",
   "metadata": {},
   "source": [
    "通过label查看df数据"
   ]
  },
  {
   "cell_type": "code",
   "execution_count": 15,
   "metadata": {},
   "outputs": [
    {
     "data": {
      "text/plain": [
       "A   -0.804761\n",
       "B    1.164258\n",
       "C   -1.073149\n",
       "D   -0.177648\n",
       "Name: 2013-01-02 00:00:00, dtype: float64"
      ]
     },
     "execution_count": 15,
     "metadata": {},
     "output_type": "execute_result"
    }
   ],
   "source": [
    "# 使用loc查看df中dates0的部分。\n",
    "df.loc[dates[1]]  "
   ]
  },
  {
   "cell_type": "code",
   "execution_count": 16,
   "metadata": {
    "tags": []
   },
   "outputs": [
    {
     "name": "stdout",
     "output_type": "stream",
     "text": [
      "A         B\n",
      "2013-01-01 -1.739413 -0.464840\n",
      "2013-01-02 -0.804761  1.164258\n",
      "2013-01-03 -1.619675  0.218574\n",
      "2013-01-04 -0.889908 -0.865629\n",
      "2013-01-05  1.151663  1.010895\n",
      "2013-01-06 -0.674255  0.752988\n"
     ]
    }
   ],
   "source": [
    "# 使用loc查看A、B两列的值\n",
    "print(df.loc[:,['A','B']])"
   ]
  },
  {
   "cell_type": "code",
   "execution_count": 23,
   "metadata": {
    "tags": []
   },
   "outputs": [
    {
     "name": "stdout",
     "output_type": "stream",
     "text": [
      "A         B\n",
      "2013-01-02 -0.804761  1.164258\n",
      "2013-01-03 -1.619675  0.218574\n",
      "2013-01-04 -0.889908 -0.865629\n"
     ]
    }
   ],
   "source": [
    "# 使用loc查看日期从20130102到20130104的A,B量列的值。\n",
    "print(df.loc['20130102':'20130104',['A','B']])  "
   ]
  },
  {
   "cell_type": "code",
   "execution_count": 24,
   "metadata": {
    "tags": []
   },
   "outputs": [
    {
     "name": "stdout",
     "output_type": "stream",
     "text": [
      "A         B\n",
      "2013-01-01 -1.739413 -0.464840\n",
      "2013-01-02 -0.804761  1.164258\n"
     ]
    }
   ],
   "source": [
    "print(df.loc[dates[0:2],['A','B']])  "
   ]
  },
  {
   "cell_type": "code",
   "execution_count": 21,
   "metadata": {},
   "outputs": [
    {
     "data": {
      "text/plain": [
       "A   -0.804761\n",
       "B    1.164258\n",
       "Name: 2013-01-02 00:00:00, dtype: float64"
      ]
     },
     "execution_count": 21,
     "metadata": {},
     "output_type": "execute_result"
    }
   ],
   "source": [
    "# 减少维度，查看日期为20130102中A,B两列的值。\n",
    "df.loc['20130102',['A','B']]"
   ]
  },
  {
   "cell_type": "code",
   "execution_count": 22,
   "metadata": {},
   "outputs": [
    {
     "data": {
      "text/plain": [
       "-1.7394125907339135"
      ]
     },
     "execution_count": 22,
     "metadata": {},
     "output_type": "execute_result"
    }
   ],
   "source": [
    "# 得到一个标量值，使用loc查看df中date[0],A列的值。\n",
    "df.loc[dates[0],'A']"
   ]
  },
  {
   "cell_type": "code",
   "execution_count": 25,
   "metadata": {},
   "outputs": [
    {
     "data": {
      "text/plain": [
       "-1.7394125907339135"
      ]
     },
     "execution_count": 25,
     "metadata": {},
     "output_type": "execute_result"
    }
   ],
   "source": [
    "# 使用at快速查找df中dates[0],A列的值。\n",
    "df.at[dates[0],'A']"
   ]
  },
  {
   "cell_type": "markdown",
   "metadata": {},
   "source": [
    "通过位置查看df数据"
   ]
  },
  {
   "cell_type": "code",
   "execution_count": 26,
   "metadata": {
    "tags": []
   },
   "outputs": [
    {
     "name": "stdout",
     "output_type": "stream",
     "text": [
      "A   -0.889908\n",
      "B   -0.865629\n",
      "C    1.794322\n",
      "D   -1.804324\n",
      "Name: 2013-01-04 00:00:00, dtype: float64\n"
     ]
    }
   ],
   "source": [
    "# 使用iloc查看df的第4行数据。\n",
    "print(df.iloc[3])  "
   ]
  },
  {
   "cell_type": "code",
   "execution_count": 27,
   "metadata": {
    "tags": []
   },
   "outputs": [
    {
     "name": "stdout",
     "output_type": "stream",
     "text": [
      "A         B\n",
      "2013-01-04 -0.889908 -0.865629\n",
      "2013-01-05  1.151663  1.010895\n"
     ]
    }
   ],
   "source": [
    "# 使用iloc查看df中行下标为3:5，列下标为0:2的数据（不包含行下标为5的行，也不包含列下标为2的列）。\n",
    "print(df.iloc[3:5,0:2])  "
   ]
  },
  {
   "cell_type": "code",
   "execution_count": 28,
   "metadata": {
    "tags": []
   },
   "outputs": [
    {
     "name": "stdout",
     "output_type": "stream",
     "text": [
      "A         C\n",
      "2013-01-02 -0.804761 -1.073149\n",
      "2013-01-03 -1.619675  0.489835\n",
      "2013-01-05  1.151663  0.741465\n"
     ]
    }
   ],
   "source": [
    "# 使用iloc查看df中行下标为1,2,4，列下标为0,2的数据。\n",
    "print(df.iloc[[1,2,4],[0,2]])  "
   ]
  },
  {
   "cell_type": "code",
   "execution_count": 29,
   "metadata": {
    "tags": []
   },
   "outputs": [
    {
     "name": "stdout",
     "output_type": "stream",
     "text": [
      "A         B         C         D\n",
      "2013-01-02 -0.804761  1.164258 -1.073149 -0.177648\n",
      "2013-01-03 -1.619675  0.218574  0.489835  1.953364\n"
     ]
    }
   ],
   "source": [
    "# 使用iloc查看df行下标为1:3的数据（不包含下标为3的行）。\n",
    "print(df.iloc[1:3,:])  "
   ]
  },
  {
   "cell_type": "code",
   "execution_count": 30,
   "metadata": {
    "tags": []
   },
   "outputs": [
    {
     "name": "stdout",
     "output_type": "stream",
     "text": [
      "1.164257834357831\n"
     ]
    }
   ],
   "source": [
    "# 使用iloc查看df行列下标都为1的值。\n",
    "print(df.iloc[1,1])  "
   ]
  },
  {
   "cell_type": "code",
   "execution_count": 31,
   "metadata": {
    "tags": []
   },
   "outputs": [
    {
     "name": "stdout",
     "output_type": "stream",
     "text": [
      "1.164257834357831\n"
     ]
    }
   ],
   "source": [
    "# 使用iat方法快速查看df中行列下标均为1的值。\n",
    "print(df.iat[1,1])  "
   ]
  },
  {
   "cell_type": "markdown",
   "metadata": {},
   "source": [
    "使用布尔索引查看df的数据"
   ]
  },
  {
   "cell_type": "code",
   "execution_count": 32,
   "metadata": {
    "tags": []
   },
   "outputs": [
    {
     "name": "stdout",
     "output_type": "stream",
     "text": [
      "A         B         C         D\n",
      "2013-01-05  1.151663  1.010895  0.741465 -0.905265\n"
     ]
    }
   ],
   "source": [
    "# 查看df中满足df.A>0布尔条件的值。\n",
    "print(df[df.A>0])  "
   ]
  },
  {
   "cell_type": "code",
   "execution_count": 33,
   "metadata": {
    "tags": []
   },
   "outputs": [
    {
     "name": "stdout",
     "output_type": "stream",
     "text": [
      "A         B         C         D\n",
      "2013-01-01       NaN       NaN       NaN       NaN\n",
      "2013-01-02       NaN  1.164258       NaN       NaN\n",
      "2013-01-03       NaN  0.218574  0.489835  1.953364\n",
      "2013-01-04       NaN       NaN  1.794322       NaN\n",
      "2013-01-05  1.151663  1.010895  0.741465       NaN\n",
      "2013-01-06       NaN  0.752988  0.630887  0.446280\n"
     ]
    }
   ],
   "source": [
    "# 查看df中满足df>0布尔条件的值。\n",
    "print(df[df>0])"
   ]
  },
  {
   "cell_type": "code",
   "execution_count": 38,
   "metadata": {},
   "outputs": [
    {
     "data": {
      "text/html": [
       "<div>\n",
       "<style scoped>\n",
       "    .dataframe tbody tr th:only-of-type {\n",
       "        vertical-align: middle;\n",
       "    }\n",
       "\n",
       "    .dataframe tbody tr th {\n",
       "        vertical-align: top;\n",
       "    }\n",
       "\n",
       "    .dataframe thead th {\n",
       "        text-align: right;\n",
       "    }\n",
       "</style>\n",
       "<table border=\"1\" class=\"dataframe\">\n",
       "  <thead>\n",
       "    <tr style=\"text-align: right;\">\n",
       "      <th></th>\n",
       "      <th>A</th>\n",
       "      <th>B</th>\n",
       "      <th>C</th>\n",
       "      <th>D</th>\n",
       "    </tr>\n",
       "  </thead>\n",
       "  <tbody>\n",
       "    <tr>\n",
       "      <th>2013-01-01</th>\n",
       "      <td>-1.739413</td>\n",
       "      <td>-0.464840</td>\n",
       "      <td>-1.240437</td>\n",
       "      <td>-1.244574</td>\n",
       "    </tr>\n",
       "    <tr>\n",
       "      <th>2013-01-02</th>\n",
       "      <td>-0.804761</td>\n",
       "      <td>1.164258</td>\n",
       "      <td>-1.073149</td>\n",
       "      <td>-0.177648</td>\n",
       "    </tr>\n",
       "    <tr>\n",
       "      <th>2013-01-03</th>\n",
       "      <td>-1.619675</td>\n",
       "      <td>0.218574</td>\n",
       "      <td>0.489835</td>\n",
       "      <td>1.953364</td>\n",
       "    </tr>\n",
       "    <tr>\n",
       "      <th>2013-01-04</th>\n",
       "      <td>-0.889908</td>\n",
       "      <td>-0.865629</td>\n",
       "      <td>1.794322</td>\n",
       "      <td>-1.804324</td>\n",
       "    </tr>\n",
       "    <tr>\n",
       "      <th>2013-01-05</th>\n",
       "      <td>1.151663</td>\n",
       "      <td>1.010895</td>\n",
       "      <td>0.741465</td>\n",
       "      <td>-0.905265</td>\n",
       "    </tr>\n",
       "    <tr>\n",
       "      <th>2013-01-06</th>\n",
       "      <td>-0.674255</td>\n",
       "      <td>0.752988</td>\n",
       "      <td>0.630887</td>\n",
       "      <td>0.446280</td>\n",
       "    </tr>\n",
       "  </tbody>\n",
       "</table>\n",
       "</div>"
      ],
      "text/plain": [
       "                   A         B         C         D\n",
       "2013-01-01 -1.739413 -0.464840 -1.240437 -1.244574\n",
       "2013-01-02 -0.804761  1.164258 -1.073149 -0.177648\n",
       "2013-01-03 -1.619675  0.218574  0.489835  1.953364\n",
       "2013-01-04 -0.889908 -0.865629  1.794322 -1.804324\n",
       "2013-01-05  1.151663  1.010895  0.741465 -0.905265\n",
       "2013-01-06 -0.674255  0.752988  0.630887  0.446280"
      ]
     },
     "execution_count": 38,
     "metadata": {},
     "output_type": "execute_result"
    }
   ],
   "source": [
    "# 使用copy方法赋值df给df2，为df2添加列名为E，值为['one', 'one','two','three','four','three']的列，再使用isin()方法过滤出df中满足df2.E在['two','four']的数据。\n",
    "df2=df.copy()\n",
    "df2"
   ]
  },
  {
   "cell_type": "code",
   "execution_count": 39,
   "metadata": {},
   "outputs": [
    {
     "data": {
      "text/html": [
       "<div>\n",
       "<style scoped>\n",
       "    .dataframe tbody tr th:only-of-type {\n",
       "        vertical-align: middle;\n",
       "    }\n",
       "\n",
       "    .dataframe tbody tr th {\n",
       "        vertical-align: top;\n",
       "    }\n",
       "\n",
       "    .dataframe thead th {\n",
       "        text-align: right;\n",
       "    }\n",
       "</style>\n",
       "<table border=\"1\" class=\"dataframe\">\n",
       "  <thead>\n",
       "    <tr style=\"text-align: right;\">\n",
       "      <th></th>\n",
       "      <th>A</th>\n",
       "      <th>B</th>\n",
       "      <th>C</th>\n",
       "      <th>D</th>\n",
       "    </tr>\n",
       "  </thead>\n",
       "  <tbody>\n",
       "    <tr>\n",
       "      <th>2013-01-03</th>\n",
       "      <td>-1.619675</td>\n",
       "      <td>0.218574</td>\n",
       "      <td>0.489835</td>\n",
       "      <td>1.953364</td>\n",
       "    </tr>\n",
       "    <tr>\n",
       "      <th>2013-01-05</th>\n",
       "      <td>1.151663</td>\n",
       "      <td>1.010895</td>\n",
       "      <td>0.741465</td>\n",
       "      <td>-0.905265</td>\n",
       "    </tr>\n",
       "  </tbody>\n",
       "</table>\n",
       "</div>"
      ],
      "text/plain": [
       "                   A         B         C         D\n",
       "2013-01-03 -1.619675  0.218574  0.489835  1.953364\n",
       "2013-01-05  1.151663  1.010895  0.741465 -0.905265"
      ]
     },
     "execution_count": 39,
     "metadata": {},
     "output_type": "execute_result"
    }
   ],
   "source": [
    "df2['E']=['one', 'one','two','three','four','three']  \n",
    "df[df2['E'].isin(['two','four'])]  "
   ]
  }
 ],
 "metadata": {
  "kernelspec": {
   "display_name": "Python 3.7.8 64-bit ('venv1': venv)",
   "name": "python_defaultSpec_1597504979085"
  },
  "language_info": {
   "codemirror_mode": {
    "name": "ipython",
    "version": 3
   },
   "file_extension": ".py",
   "mimetype": "text/x-python",
   "name": "python",
   "nbconvert_exporter": "python",
   "pygments_lexer": "ipython3",
   "version": "3.7.8-final"
  }
 },
 "nbformat": 4,
 "nbformat_minor": 2
}
