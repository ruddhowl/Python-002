{
 "metadata": {
  "language_info": {
   "codemirror_mode": {
    "name": "ipython",
    "version": 3
   },
   "file_extension": ".py",
   "mimetype": "text/x-python",
   "name": "python",
   "nbconvert_exporter": "python",
   "pygments_lexer": "ipython3",
   "version": "3.7.8-final"
  },
  "orig_nbformat": 2,
  "kernelspec": {
   "name": "python_defaultSpec_1597578007816",
   "display_name": "Python 3.7.8 64-bit ('venv1': venv)"
  }
 },
 "nbformat": 4,
 "nbformat_minor": 2,
 "cells": [
  {
   "source": [
    "# pandas——字符串处理\n",
    "实验目的：熟练掌握pandas中字符串操作"
   ],
   "cell_type": "markdown",
   "metadata": {}
  },
  {
   "source": [
    "在使用pandas框架的DataFrame的过程中，如果需要处理一些字符串的特性，例如判断某列是否包含一些关键字，某列的字符长度是否小于3等等这种需求，如果掌握str列内置的方法，处理起来会方便很多。"
   ],
   "cell_type": "markdown",
   "metadata": {}
  },
  {
   "source": [
    "cat() 拼接字符串"
   ],
   "cell_type": "markdown",
   "metadata": {}
  },
  {
   "cell_type": "code",
   "execution_count": 3,
   "metadata": {},
   "outputs": [
    {
     "output_type": "execute_result",
     "data": {
      "text/plain": "0    a-A\n1    b-B\n2    c-C\ndtype: object"
     },
     "metadata": {},
     "execution_count": 3
    }
   ],
   "source": [
    "import pandas as pd  \n",
    "pd.Series(['a', 'b', 'c']).str.cat(['A', 'B', 'C'], sep='-')  "
   ]
  },
  {
   "cell_type": "code",
   "execution_count": 4,
   "metadata": {},
   "outputs": [
    {
     "output_type": "execute_result",
     "data": {
      "text/plain": "'a,b,c'"
     },
     "metadata": {},
     "execution_count": 4
    }
   ],
   "source": [
    "pd.Series(['a','b','c']).str.cat(sep=',')  "
   ]
  },
  {
   "source": [
    "split()切片字符串"
   ],
   "cell_type": "markdown",
   "metadata": {}
  },
  {
   "cell_type": "code",
   "execution_count": 5,
   "metadata": {
    "tags": []
   },
   "outputs": [
    {
     "output_type": "stream",
     "name": "stdout",
     "text": "0    a_b_c\n1    c_d_e\n2      NaN\n3    f_g_h\ndtype: object\n"
    }
   ],
   "source": [
    "import numpy as np  \n",
    "s=pd.Series(['a_b_c', 'c_d_e', np.nan, 'f_g_h'])  \n",
    "print(s) "
   ]
  },
  {
   "cell_type": "code",
   "execution_count": 6,
   "metadata": {},
   "outputs": [
    {
     "output_type": "execute_result",
     "data": {
      "text/plain": "0    [a, b, c]\n1    [c, d, e]\n2          NaN\n3    [f, g, h]\ndtype: object"
     },
     "metadata": {},
     "execution_count": 6
    }
   ],
   "source": [
    "s.str.split('_')  "
   ]
  },
  {
   "cell_type": "code",
   "execution_count": 10,
   "metadata": {},
   "outputs": [
    {
     "output_type": "execute_result",
     "data": {
      "text/plain": "0    [a, b, c]\n1    [c, d, e]\n2          NaN\n3    [f, g, h]\ndtype: object"
     },
     "metadata": {},
     "execution_count": 10
    }
   ],
   "source": [
    "s.str.split('_',-1) "
   ]
  },
  {
   "cell_type": "code",
   "execution_count": 11,
   "metadata": {},
   "outputs": [
    {
     "output_type": "execute_result",
     "data": {
      "text/plain": "0    [a, b_c]\n1    [c, d_e]\n2         NaN\n3    [f, g_h]\ndtype: object"
     },
     "metadata": {},
     "execution_count": 11
    }
   ],
   "source": [
    "s.str.split('_',1)  "
   ]
  },
  {
   "source": [
    "get() 获取指定位置的字符串"
   ],
   "cell_type": "markdown",
   "metadata": {}
  },
  {
   "cell_type": "code",
   "execution_count": 12,
   "metadata": {},
   "outputs": [
    {
     "output_type": "execute_result",
     "data": {
      "text/plain": "0      a\n1      c\n2    NaN\n3      f\ndtype: object"
     },
     "metadata": {},
     "execution_count": 12
    }
   ],
   "source": [
    "s.str.get(0)  "
   ]
  },
  {
   "cell_type": "code",
   "execution_count": 13,
   "metadata": {},
   "outputs": [
    {
     "output_type": "execute_result",
     "data": {
      "text/plain": "0      _\n1      _\n2    NaN\n3      _\ndtype: object"
     },
     "metadata": {},
     "execution_count": 13
    }
   ],
   "source": [
    "s.str.get(1)"
   ]
  },
  {
   "cell_type": "code",
   "execution_count": 14,
   "metadata": {},
   "outputs": [
    {
     "output_type": "execute_result",
     "data": {
      "text/plain": "0      b\n1      d\n2    NaN\n3      g\ndtype: object"
     },
     "metadata": {},
     "execution_count": 14
    }
   ],
   "source": [
    "s.str.get(2)  "
   ]
  },
  {
   "source": [
    "join() 对每个字符都有用，将字符串拼接起来，不常用"
   ],
   "cell_type": "markdown",
   "metadata": {}
  },
  {
   "cell_type": "code",
   "execution_count": 15,
   "metadata": {},
   "outputs": [
    {
     "output_type": "execute_result",
     "data": {
      "text/plain": "0    a!_!b!_!c\n1    c!_!d!_!e\n2          NaN\n3    f!_!g!_!h\ndtype: object"
     },
     "metadata": {},
     "execution_count": 15
    }
   ],
   "source": [
    "s.str.join(\"!\")  "
   ]
  },
  {
   "cell_type": "code",
   "execution_count": 16,
   "metadata": {},
   "outputs": [
    {
     "output_type": "execute_result",
     "data": {
      "text/plain": "0    a?_?b?_?c\n1    c?_?d?_?e\n2          NaN\n3    f?_?g?_?h\ndtype: object"
     },
     "metadata": {},
     "execution_count": 16
    }
   ],
   "source": [
    "s.str.join(\"?\")  "
   ]
  },
  {
   "cell_type": "code",
   "execution_count": 17,
   "metadata": {},
   "outputs": [
    {
     "output_type": "execute_result",
     "data": {
      "text/plain": "0    a._.b._.c\n1    c._.d._.e\n2          NaN\n3    f._.g._.h\ndtype: object"
     },
     "metadata": {},
     "execution_count": 17
    }
   ],
   "source": [
    "s.str.join(\".\")  "
   ]
  },
  {
   "source": [
    "contains() 是否包含表达式，返回True或False。"
   ],
   "cell_type": "markdown",
   "metadata": {}
  },
  {
   "cell_type": "code",
   "execution_count": 18,
   "metadata": {},
   "outputs": [
    {
     "output_type": "execute_result",
     "data": {
      "text/plain": "0    False\n1     True\n2      NaN\n3    False\ndtype: object"
     },
     "metadata": {},
     "execution_count": 18
    }
   ],
   "source": [
    "s.str.contains('d')"
   ]
  },
  {
   "source": [
    "replace() 字符串替换"
   ],
   "cell_type": "markdown",
   "metadata": {}
  },
  {
   "cell_type": "code",
   "execution_count": 19,
   "metadata": {},
   "outputs": [
    {
     "output_type": "execute_result",
     "data": {
      "text/plain": "0    a.b.c\n1    c.d.e\n2      NaN\n3    f.g.h\ndtype: object"
     },
     "metadata": {},
     "execution_count": 19
    }
   ],
   "source": [
    "s.str.replace(\"_\",'.')"
   ]
  },
  {
   "source": [
    "repeat()重复"
   ],
   "cell_type": "markdown",
   "metadata": {}
  },
  {
   "cell_type": "code",
   "execution_count": 20,
   "metadata": {},
   "outputs": [
    {
     "output_type": "execute_result",
     "data": {
      "text/plain": "0    a_b_ca_b_ca_b_c\n1    c_d_ec_d_ec_d_e\n2                NaN\n3    f_g_hf_g_hf_g_h\ndtype: object"
     },
     "metadata": {},
     "execution_count": 20
    }
   ],
   "source": [
    "s.str.repeat(3)  "
   ]
  },
  {
   "source": [
    "pad() 左右补齐"
   ],
   "cell_type": "markdown",
   "metadata": {}
  },
  {
   "cell_type": "code",
   "execution_count": 22,
   "metadata": {},
   "outputs": [
    {
     "output_type": "execute_result",
     "data": {
      "text/plain": "0    ?????a_b_c\n1    ?????c_d_e\n2           NaN\n3    ?????f_g_h\ndtype: object"
     },
     "metadata": {},
     "execution_count": 22
    }
   ],
   "source": [
    "s.str.pad(10, fillchar=\"?\") "
   ]
  },
  {
   "cell_type": "code",
   "execution_count": 23,
   "metadata": {},
   "outputs": [
    {
     "output_type": "execute_result",
     "data": {
      "text/plain": "0    a_b_c?????\n1    c_d_e?????\n2           NaN\n3    f_g_h?????\ndtype: object"
     },
     "metadata": {},
     "execution_count": 23
    }
   ],
   "source": [
    "s.str.pad(10, side=\"right\", fillchar=\"?\")  "
   ]
  },
  {
   "source": [
    "center() 中间补齐"
   ],
   "cell_type": "markdown",
   "metadata": {}
  },
  {
   "cell_type": "code",
   "execution_count": 24,
   "metadata": {},
   "outputs": [
    {
     "output_type": "execute_result",
     "data": {
      "text/plain": "0    ??a_b_c???\n1    ??c_d_e???\n2           NaN\n3    ??f_g_h???\ndtype: object"
     },
     "metadata": {},
     "execution_count": 24
    }
   ],
   "source": [
    "s.str.center(10, fillchar=\"?\")"
   ]
  },
  {
   "source": [
    "ljust() 右边补齐"
   ],
   "cell_type": "markdown",
   "metadata": {}
  },
  {
   "cell_type": "code",
   "execution_count": 25,
   "metadata": {},
   "outputs": [
    {
     "output_type": "execute_result",
     "data": {
      "text/plain": "0    a_b_c?????\n1    c_d_e?????\n2           NaN\n3    f_g_h?????\ndtype: object"
     },
     "metadata": {},
     "execution_count": 25
    }
   ],
   "source": [
    "s.str.ljust(10, fillchar=\"?\")"
   ]
  },
  {
   "source": [
    "rjust() 左边补齐"
   ],
   "cell_type": "markdown",
   "metadata": {}
  },
  {
   "cell_type": "code",
   "execution_count": 26,
   "metadata": {},
   "outputs": [
    {
     "output_type": "execute_result",
     "data": {
      "text/plain": "0    ?????a_b_c\n1    ?????c_d_e\n2           NaN\n3    ?????f_g_h\ndtype: object"
     },
     "metadata": {},
     "execution_count": 26
    }
   ],
   "source": [
    "s.str.rjust(10, fillchar=\"?\") "
   ]
  },
  {
   "source": [
    "zfill() 左边补0"
   ],
   "cell_type": "markdown",
   "metadata": {}
  },
  {
   "cell_type": "code",
   "execution_count": 27,
   "metadata": {},
   "outputs": [
    {
     "output_type": "execute_result",
     "data": {
      "text/plain": "0    00000a_b_c\n1    00000c_d_e\n2           NaN\n3    00000f_g_h\ndtype: object"
     },
     "metadata": {},
     "execution_count": 27
    }
   ],
   "source": [
    "s.str.zfill(10)"
   ]
  },
  {
   "source": [
    "wrap() 在指定的位置插入回车符号"
   ],
   "cell_type": "markdown",
   "metadata": {}
  },
  {
   "cell_type": "code",
   "execution_count": 28,
   "metadata": {},
   "outputs": [
    {
     "output_type": "execute_result",
     "data": {
      "text/plain": "0    a_b\\n_c\n1    c_d\\n_e\n2        NaN\n3    f_g\\n_h\ndtype: object"
     },
     "metadata": {},
     "execution_count": 28
    }
   ],
   "source": [
    "s.str.wrap(3)"
   ]
  },
  {
   "source": [
    "slice() 按字符串下标的开始结束位置切割字符串。"
   ],
   "cell_type": "markdown",
   "metadata": {}
  },
  {
   "cell_type": "code",
   "execution_count": 29,
   "metadata": {},
   "outputs": [
    {
     "output_type": "execute_result",
     "data": {
      "text/plain": "0     _b\n1     _d\n2    NaN\n3     _g\ndtype: object"
     },
     "metadata": {},
     "execution_count": 29
    }
   ],
   "source": [
    "s.str.slice(1,3)"
   ]
  },
  {
   "source": [
    "slice_replace()使用给定的字符串，替换指定位置的字符。"
   ],
   "cell_type": "markdown",
   "metadata": {}
  },
  {
   "cell_type": "code",
   "execution_count": 30,
   "metadata": {},
   "outputs": [
    {
     "output_type": "execute_result",
     "data": {
      "text/plain": "0    a?_c\n1    c?_e\n2     NaN\n3    f?_h\ndtype: object"
     },
     "metadata": {},
     "execution_count": 30
    }
   ],
   "source": [
    "s.str.slice_replace(1,3,'?') "
   ]
  },
  {
   "cell_type": "code",
   "execution_count": 31,
   "metadata": {},
   "outputs": [
    {
     "output_type": "execute_result",
     "data": {
      "text/plain": "0    a??_c\n1    c??_e\n2      NaN\n3    f??_h\ndtype: object"
     },
     "metadata": {},
     "execution_count": 31
    }
   ],
   "source": [
    "s.str.slice_replace(1, 3, \"??\")"
   ]
  },
  {
   "source": [
    "count() 计算给定单词出现的次数"
   ],
   "cell_type": "markdown",
   "metadata": {}
  },
  {
   "cell_type": "code",
   "execution_count": 32,
   "metadata": {},
   "outputs": [
    {
     "output_type": "execute_result",
     "data": {
      "text/plain": "0    1.0\n1    0.0\n2    NaN\n3    0.0\ndtype: float64"
     },
     "metadata": {},
     "execution_count": 32
    }
   ],
   "source": [
    "s.str.count(\"a\") "
   ]
  },
  {
   "source": [
    "startswith()判断是否以给定的字符串开头，返回True或False。"
   ],
   "cell_type": "markdown",
   "metadata": {}
  },
  {
   "cell_type": "code",
   "execution_count": 33,
   "metadata": {},
   "outputs": [
    {
     "output_type": "execute_result",
     "data": {
      "text/plain": "0     True\n1    False\n2      NaN\n3    False\ndtype: object"
     },
     "metadata": {},
     "execution_count": 33
    }
   ],
   "source": [
    "s.str.startswith(\"a\")"
   ]
  },
  {
   "source": [
    "endswith()判断是否以给定的字符串结束，返回True或False。"
   ],
   "cell_type": "markdown",
   "metadata": {}
  },
  {
   "cell_type": "code",
   "execution_count": 34,
   "metadata": {},
   "outputs": [
    {
     "output_type": "execute_result",
     "data": {
      "text/plain": "0    False\n1     True\n2      NaN\n3    False\ndtype: object"
     },
     "metadata": {},
     "execution_count": 34
    }
   ],
   "source": [
    "s.str.endswith('e') "
   ]
  },
  {
   "source": [
    "findall() 查找所有符合正则表达式的字符，以数组形式返回"
   ],
   "cell_type": "markdown",
   "metadata": {}
  },
  {
   "cell_type": "code",
   "execution_count": 35,
   "metadata": {},
   "outputs": [
    {
     "output_type": "execute_result",
     "data": {
      "text/plain": "0    [a, b, c]\n1    [c, d, e]\n2          NaN\n3    [f, g, h]\ndtype: object"
     },
     "metadata": {},
     "execution_count": 35
    }
   ],
   "source": [
    "s.str.findall(\"[a-z]\")"
   ]
  },
  {
   "source": [
    "match() 检测是否全部匹配给定的字符串或者表达式。"
   ],
   "cell_type": "markdown",
   "metadata": {}
  },
  {
   "cell_type": "code",
   "execution_count": 36,
   "metadata": {},
   "outputs": [
    {
     "output_type": "execute_result",
     "data": {
      "text/plain": "0    a_b_c\n1    c_d_e\n2      NaN\n3    f_g_h\ndtype: object"
     },
     "metadata": {},
     "execution_count": 36
    }
   ],
   "source": [
    "s"
   ]
  },
  {
   "cell_type": "code",
   "execution_count": 37,
   "metadata": {},
   "outputs": [
    {
     "output_type": "execute_result",
     "data": {
      "text/plain": "0    False\n1    False\n2      NaN\n3     True\ndtype: object"
     },
     "metadata": {},
     "execution_count": 37
    }
   ],
   "source": [
    "s.str.match(\"[d-z]\")"
   ]
  },
  {
   "source": [
    "extract() 抽取匹配的字符串出来，注意要加上括号，把你需要抽取的东西标注上"
   ],
   "cell_type": "markdown",
   "metadata": {}
  },
  {
   "cell_type": "code",
   "execution_count": 38,
   "metadata": {},
   "outputs": [
    {
     "output_type": "execute_result",
     "data": {
      "text/plain": "     0\n0  NaN\n1    d\n2  NaN\n3    f",
      "text/html": "<div>\n<style scoped>\n    .dataframe tbody tr th:only-of-type {\n        vertical-align: middle;\n    }\n\n    .dataframe tbody tr th {\n        vertical-align: top;\n    }\n\n    .dataframe thead th {\n        text-align: right;\n    }\n</style>\n<table border=\"1\" class=\"dataframe\">\n  <thead>\n    <tr style=\"text-align: right;\">\n      <th></th>\n      <th>0</th>\n    </tr>\n  </thead>\n  <tbody>\n    <tr>\n      <th>0</th>\n      <td>NaN</td>\n    </tr>\n    <tr>\n      <th>1</th>\n      <td>d</td>\n    </tr>\n    <tr>\n      <th>2</th>\n      <td>NaN</td>\n    </tr>\n    <tr>\n      <th>3</th>\n      <td>f</td>\n    </tr>\n  </tbody>\n</table>\n</div>"
     },
     "metadata": {},
     "execution_count": 38
    }
   ],
   "source": [
    "s.str.extract(\"([d-z])\") "
   ]
  },
  {
   "source": [
    "len() 计算字符串的长度"
   ],
   "cell_type": "markdown",
   "metadata": {}
  },
  {
   "cell_type": "code",
   "execution_count": 39,
   "metadata": {},
   "outputs": [
    {
     "output_type": "execute_result",
     "data": {
      "text/plain": "0    5.0\n1    5.0\n2    NaN\n3    5.0\ndtype: float64"
     },
     "metadata": {},
     "execution_count": 39
    }
   ],
   "source": [
    "s.str.len()"
   ]
  },
  {
   "source": [
    "strip()去除前后的空白字符"
   ],
   "cell_type": "markdown",
   "metadata": {}
  },
  {
   "cell_type": "code",
   "execution_count": 40,
   "metadata": {
    "tags": []
   },
   "outputs": [
    {
     "output_type": "stream",
     "name": "stdout",
     "text": "0         jack\n1      jill   \n2      jesse  \n3        frank\ndtype: object\n"
    }
   ],
   "source": [
    "idx = pd.Series([' jack', 'jill   ', '  jesse  ', 'frank'])  \n",
    "print(idx)  "
   ]
  },
  {
   "cell_type": "code",
   "execution_count": 41,
   "metadata": {},
   "outputs": [
    {
     "output_type": "execute_result",
     "data": {
      "text/plain": "0     jack\n1     jill\n2    jesse\n3    frank\ndtype: object"
     },
     "metadata": {},
     "execution_count": 41
    }
   ],
   "source": [
    "idx.str.strip() "
   ]
  },
  {
   "source": [
    "rstrip() 去除后面的空白字符"
   ],
   "cell_type": "markdown",
   "metadata": {}
  },
  {
   "cell_type": "code",
   "execution_count": 42,
   "metadata": {},
   "outputs": [
    {
     "output_type": "execute_result",
     "data": {
      "text/plain": "0       jack\n1       jill\n2      jesse\n3      frank\ndtype: object"
     },
     "metadata": {},
     "execution_count": 42
    }
   ],
   "source": [
    "idx.str.rstrip()"
   ]
  },
  {
   "source": [
    "partition() 把字符串数组切割称为DataFrame，注意切割只是切割成为三部分，分隔符前，分隔符，分隔符后."
   ],
   "cell_type": "markdown",
   "metadata": {}
  },
  {
   "cell_type": "code",
   "execution_count": 43,
   "metadata": {},
   "outputs": [
    {
     "output_type": "execute_result",
     "data": {
      "text/plain": "     0    1    2\n0    a    _  b_c\n1    c    _  d_e\n2  NaN  NaN  NaN\n3    f    _  g_h",
      "text/html": "<div>\n<style scoped>\n    .dataframe tbody tr th:only-of-type {\n        vertical-align: middle;\n    }\n\n    .dataframe tbody tr th {\n        vertical-align: top;\n    }\n\n    .dataframe thead th {\n        text-align: right;\n    }\n</style>\n<table border=\"1\" class=\"dataframe\">\n  <thead>\n    <tr style=\"text-align: right;\">\n      <th></th>\n      <th>0</th>\n      <th>1</th>\n      <th>2</th>\n    </tr>\n  </thead>\n  <tbody>\n    <tr>\n      <th>0</th>\n      <td>a</td>\n      <td>_</td>\n      <td>b_c</td>\n    </tr>\n    <tr>\n      <th>1</th>\n      <td>c</td>\n      <td>_</td>\n      <td>d_e</td>\n    </tr>\n    <tr>\n      <th>2</th>\n      <td>NaN</td>\n      <td>NaN</td>\n      <td>NaN</td>\n    </tr>\n    <tr>\n      <th>3</th>\n      <td>f</td>\n      <td>_</td>\n      <td>g_h</td>\n    </tr>\n  </tbody>\n</table>\n</div>"
     },
     "metadata": {},
     "execution_count": 43
    }
   ],
   "source": [
    "s.str.partition('_')"
   ]
  },
  {
   "source": [
    "rpartition() 从右切起"
   ],
   "cell_type": "markdown",
   "metadata": {}
  },
  {
   "cell_type": "code",
   "execution_count": 44,
   "metadata": {},
   "outputs": [
    {
     "output_type": "execute_result",
     "data": {
      "text/plain": "     0    1    2\n0  a_b    _    c\n1  c_d    _    e\n2  NaN  NaN  NaN\n3  f_g    _    h",
      "text/html": "<div>\n<style scoped>\n    .dataframe tbody tr th:only-of-type {\n        vertical-align: middle;\n    }\n\n    .dataframe tbody tr th {\n        vertical-align: top;\n    }\n\n    .dataframe thead th {\n        text-align: right;\n    }\n</style>\n<table border=\"1\" class=\"dataframe\">\n  <thead>\n    <tr style=\"text-align: right;\">\n      <th></th>\n      <th>0</th>\n      <th>1</th>\n      <th>2</th>\n    </tr>\n  </thead>\n  <tbody>\n    <tr>\n      <th>0</th>\n      <td>a_b</td>\n      <td>_</td>\n      <td>c</td>\n    </tr>\n    <tr>\n      <th>1</th>\n      <td>c_d</td>\n      <td>_</td>\n      <td>e</td>\n    </tr>\n    <tr>\n      <th>2</th>\n      <td>NaN</td>\n      <td>NaN</td>\n      <td>NaN</td>\n    </tr>\n    <tr>\n      <th>3</th>\n      <td>f_g</td>\n      <td>_</td>\n      <td>h</td>\n    </tr>\n  </tbody>\n</table>\n</div>"
     },
     "metadata": {},
     "execution_count": 44
    }
   ],
   "source": [
    "s.str.rpartition('_') "
   ]
  },
  {
   "source": [
    "lower() 全部小写"
   ],
   "cell_type": "markdown",
   "metadata": {}
  },
  {
   "cell_type": "code",
   "execution_count": 45,
   "metadata": {},
   "outputs": [
    {
     "output_type": "execute_result",
     "data": {
      "text/plain": "0    a_b_c\n1    c_d_e\n2      NaN\n3    f_g_h\ndtype: object"
     },
     "metadata": {},
     "execution_count": 45
    }
   ],
   "source": [
    "s.str.lower()"
   ]
  },
  {
   "source": [
    "# upper() 全部大写\n",
    "s.str.upper()  "
   ],
   "cell_type": "code",
   "metadata": {},
   "execution_count": 46,
   "outputs": [
    {
     "output_type": "execute_result",
     "data": {
      "text/plain": "0    A_B_C\n1    C_D_E\n2      NaN\n3    F_G_H\ndtype: object"
     },
     "metadata": {},
     "execution_count": 46
    }
   ]
  },
  {
   "cell_type": "code",
   "execution_count": 47,
   "metadata": {},
   "outputs": [
    {
     "output_type": "execute_result",
     "data": {
      "text/plain": "0   -1.0\n1    2.0\n2    NaN\n3   -1.0\ndtype: float64"
     },
     "metadata": {},
     "execution_count": 47
    }
   ],
   "source": [
    "# find() 从左边开始，查找给定字符串的所在位置，没有返回-1。\n",
    "s.str.find('d')  "
   ]
  },
  {
   "cell_type": "code",
   "execution_count": 48,
   "metadata": {},
   "outputs": [
    {
     "output_type": "execute_result",
     "data": {
      "text/plain": "0   -1.0\n1    2.0\n2    NaN\n3   -1.0\ndtype: float64"
     },
     "metadata": {},
     "execution_count": 48
    }
   ],
   "source": [
    "# rfind() 从右边开始，查找给定字符串的所在位置\n",
    "s.str.rfind('d') "
   ]
  },
  {
   "cell_type": "code",
   "execution_count": 49,
   "metadata": {},
   "outputs": [
    {
     "output_type": "execute_result",
     "data": {
      "text/plain": "0    1.0\n1    1.0\n2    NaN\n3    1.0\ndtype: float64"
     },
     "metadata": {},
     "execution_count": 49
    }
   ],
   "source": [
    "# index() 查找给定字符串的位置，注意，如果不存在这个字符串，那么会报错！\n",
    "s.str.index('_') "
   ]
  },
  {
   "cell_type": "code",
   "execution_count": 50,
   "metadata": {},
   "outputs": [
    {
     "output_type": "execute_result",
     "data": {
      "text/plain": "0    3.0\n1    3.0\n2    NaN\n3    3.0\ndtype: float64"
     },
     "metadata": {},
     "execution_count": 50
    }
   ],
   "source": [
    "# rindex() 从右边开始查找，给定字符串的位置。\n",
    "s.str.rindex(\"_\") "
   ]
  },
  {
   "cell_type": "code",
   "execution_count": 51,
   "metadata": {},
   "outputs": [
    {
     "output_type": "execute_result",
     "data": {
      "text/plain": "0    A_b_c\n1    C_d_e\n2      NaN\n3    F_g_h\ndtype: object"
     },
     "metadata": {},
     "execution_count": 51
    }
   ],
   "source": [
    "# capitalize() 首字符大写\n",
    "s.str.capitalize()"
   ]
  },
  {
   "cell_type": "code",
   "execution_count": 52,
   "metadata": {},
   "outputs": [
    {
     "output_type": "execute_result",
     "data": {
      "text/plain": "0    A_B_C\n1    C_D_E\n2      NaN\n3    F_G_H\ndtype: object"
     },
     "metadata": {},
     "execution_count": 52
    }
   ],
   "source": [
    "# swapcase()大小写互换\n",
    "s.str.swapcase()"
   ]
  },
  {
   "cell_type": "code",
   "execution_count": 53,
   "metadata": {},
   "outputs": [
    {
     "output_type": "execute_result",
     "data": {
      "text/plain": "0    False\n1    False\n2      NaN\n3    False\ndtype: object"
     },
     "metadata": {},
     "execution_count": 53
    }
   ],
   "source": [
    "# isalnum()字符串至少包含一个字符且所有字符都是字母(汉字)或数字则返回True。\n",
    "s.str.isalnum()  "
   ]
  },
  {
   "cell_type": "code",
   "execution_count": 54,
   "metadata": {},
   "outputs": [
    {
     "output_type": "execute_result",
     "data": {
      "text/plain": "0    False\n1    False\n2      NaN\n3    False\ndtype: object"
     },
     "metadata": {},
     "execution_count": 54
    }
   ],
   "source": [
    "# isalpha()字符串至少包含一个字符且所有字符都是字母(汉字)则返回True。\n",
    "s.str.isalpha() "
   ]
  },
  {
   "cell_type": "code",
   "execution_count": 55,
   "metadata": {},
   "outputs": [
    {
     "output_type": "execute_result",
     "data": {
      "text/plain": "0    False\n1    False\n2      NaN\n3    False\ndtype: object"
     },
     "metadata": {},
     "execution_count": 55
    }
   ],
   "source": [
    "# isdigit()是否全部是数字(可以是: Unicode, 全角字符, bytes(b'1'), 罗马数字)。\n",
    "s.str.isdigit()"
   ]
  },
  {
   "cell_type": "code",
   "execution_count": 56,
   "metadata": {},
   "outputs": [
    {
     "output_type": "execute_result",
     "data": {
      "text/plain": "0    False\n1    False\n2      NaN\n3    False\ndtype: object"
     },
     "metadata": {},
     "execution_count": 56
    }
   ],
   "source": [
    "# isspace()是否只包含空白符。\n",
    "s.str.isspace()"
   ]
  },
  {
   "cell_type": "code",
   "execution_count": 57,
   "metadata": {},
   "outputs": [
    {
     "output_type": "execute_result",
     "data": {
      "text/plain": "0    True\n1    True\n2     NaN\n3    True\ndtype: object"
     },
     "metadata": {},
     "execution_count": 57
    }
   ],
   "source": [
    "# islower()至少包含一个小写字符, 且不包含大写字符。\n",
    "s.str.islower()"
   ]
  },
  {
   "cell_type": "code",
   "execution_count": 58,
   "metadata": {},
   "outputs": [
    {
     "output_type": "execute_result",
     "data": {
      "text/plain": "0    False\n1    False\n2      NaN\n3    False\ndtype: object"
     },
     "metadata": {},
     "execution_count": 58
    }
   ],
   "source": [
    "# isupper()至少包含一个大写字符, 且不包含小写字符。\n",
    "s.str.isupper()"
   ]
  },
  {
   "cell_type": "code",
   "execution_count": 59,
   "metadata": {},
   "outputs": [
    {
     "output_type": "execute_result",
     "data": {
      "text/plain": "0    False\n1    False\n2      NaN\n3    False\ndtype: object"
     },
     "metadata": {},
     "execution_count": 59
    }
   ],
   "source": [
    "# istitle()判断是否只有首字母大写，其他都小写。\n",
    "s.str.istitle()"
   ]
  },
  {
   "cell_type": "code",
   "execution_count": 60,
   "metadata": {},
   "outputs": [
    {
     "output_type": "execute_result",
     "data": {
      "text/plain": "0    False\n1    False\n2      NaN\n3    False\ndtype: object"
     },
     "metadata": {},
     "execution_count": 60
    }
   ],
   "source": [
    "# isnumeric()是否只包含数字字符\n",
    "s.str.isnumeric()"
   ]
  },
  {
   "cell_type": "code",
   "execution_count": 61,
   "metadata": {},
   "outputs": [
    {
     "output_type": "execute_result",
     "data": {
      "text/plain": "0    False\n1    False\n2      NaN\n3    False\ndtype: object"
     },
     "metadata": {},
     "execution_count": 61
    }
   ],
   "source": [
    "# isdecimal()是否只包含数字(Unicode字符, 全角字符)。\n",
    "s.str.isdecimal() "
   ]
  },
  {
   "cell_type": "code",
   "execution_count": 62,
   "metadata": {},
   "outputs": [
    {
     "output_type": "execute_result",
     "data": {
      "text/plain": "   a  b  c  d  e  f  g  h\n0  1  1  1  0  0  0  0  0\n1  0  0  1  1  1  0  0  0\n2  0  0  0  0  0  0  0  0\n3  0  0  0  0  0  1  1  1",
      "text/html": "<div>\n<style scoped>\n    .dataframe tbody tr th:only-of-type {\n        vertical-align: middle;\n    }\n\n    .dataframe tbody tr th {\n        vertical-align: top;\n    }\n\n    .dataframe thead th {\n        text-align: right;\n    }\n</style>\n<table border=\"1\" class=\"dataframe\">\n  <thead>\n    <tr style=\"text-align: right;\">\n      <th></th>\n      <th>a</th>\n      <th>b</th>\n      <th>c</th>\n      <th>d</th>\n      <th>e</th>\n      <th>f</th>\n      <th>g</th>\n      <th>h</th>\n    </tr>\n  </thead>\n  <tbody>\n    <tr>\n      <th>0</th>\n      <td>1</td>\n      <td>1</td>\n      <td>1</td>\n      <td>0</td>\n      <td>0</td>\n      <td>0</td>\n      <td>0</td>\n      <td>0</td>\n    </tr>\n    <tr>\n      <th>1</th>\n      <td>0</td>\n      <td>0</td>\n      <td>1</td>\n      <td>1</td>\n      <td>1</td>\n      <td>0</td>\n      <td>0</td>\n      <td>0</td>\n    </tr>\n    <tr>\n      <th>2</th>\n      <td>0</td>\n      <td>0</td>\n      <td>0</td>\n      <td>0</td>\n      <td>0</td>\n      <td>0</td>\n      <td>0</td>\n      <td>0</td>\n    </tr>\n    <tr>\n      <th>3</th>\n      <td>0</td>\n      <td>0</td>\n      <td>0</td>\n      <td>0</td>\n      <td>0</td>\n      <td>1</td>\n      <td>1</td>\n      <td>1</td>\n    </tr>\n  </tbody>\n</table>\n</div>"
     },
     "metadata": {},
     "execution_count": 62
    }
   ],
   "source": [
    "# 把字符串按照指定分隔符分割, 并返回分割后的字符串出现的次数。\n",
    "s.str.get_dummies(sep='_')  "
   ]
  }
 ]
}