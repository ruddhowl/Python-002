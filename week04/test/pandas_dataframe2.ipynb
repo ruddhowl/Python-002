{
 "cells": [
  {
   "cell_type": "markdown",
   "metadata": {},
   "source": [
    "# pandas——DataFrame基本操作(二)\n",
    "实验内容：练习pandas中DataFrame的修改元素值、缺失值处理、合并操作。\n"
   ]
  },
  {
   "cell_type": "markdown",
   "metadata": {},
   "source": [
    "## concat合并："
   ]
  },
  {
   "cell_type": "markdown",
   "metadata": {},
   "source": [
    "```python\n",
    "pd.concat(objs, axis=0, join='outer', join_axes=None, ignore_index=False, keys=None, levels=None, names=None, verify_integrity=False)```"
   ]
  },
  {
   "cell_type": "markdown",
   "metadata": {},
   "source": [
    "objs: series，dataframe或者是panel构成的序列lsit。\n",
    "\n",
    "axis： 需要合并链接的轴，0是行，1是列，默认为axis=0。\n",
    "\n",
    "join：连接的方式 inner，或者outer，默认为join=‘outer’\n",
    "\n",
    "keys：合并的同时增加分区。\n",
    "\n",
    "ignore_index：忽略索引，默认为False，当为True时，合并的两表就按列字段对齐。"
   ]
  },
  {
   "cell_type": "markdown",
   "metadata": {},
   "source": [
    "## merge合并：\n",
    "\n",
    "pandas的merge方法提供了一种类似于SQL的内存链接操作，官网文档提到它的性能会比其他开源语言的数据操作（例如R）要高效。"
   ]
  },
  {
   "cell_type": "markdown",
   "metadata": {},
   "source": [
    "```python\n",
    "pd.merge(left, right, how='inner', on=None, left_on=None, right_on=None, left_index=False, right_index=False, sort=True, suffixes=('_x', '_y'), copy=True, indicator=False,validate=None)```"
   ]
  },
  {
   "cell_type": "markdown",
   "metadata": {},
   "source": [
    "merge的参数：\n",
    "\n",
    "left/right：两个不同的DataFrame\n",
    "\n",
    "on：指的是用于连接的列索引名称。必须存在左右两个DataFrame对象中，如果没有指定且其他参数也未指定则以两个DataFrame的列名交集做为连接键\n",
    "\n",
    "left_on：左则DataFrame中用作连接键的列名;这个参数中左右列名不相同，但代表的含义相同时非常有用。right_on：右则DataFrame中用作 连接键的列名。\n",
    "\n",
    "left_index：使用左则DataFrame中的行索引做为连接键。\n",
    "\n",
    "right_index：使用右则DataFrame中的行索引做为连接键。\n",
    "\n",
    "how：指的是合并(连接)的方式有inner(内连接),left(左外连接),right(右外连接),outer(全外连接);默认为inner。\n",
    "\n",
    "sort：根据DataFrame合并的keys按字典顺序排序，默认是True，如果置false可以提高表现。\n",
    "\n",
    "suffixes：字符串值组成的元组，用于指定当左右DataFrame存在相同列名时在列名后面附加的后缀名称，默认为('_x','_y')\n",
    "\n",
    "copy：默认为True,总是将数据复制到数据结构中；大多数情况下设置为False可以提高性能\n",
    "\n",
    "indicator：在 0.17.0中还增加了一个显示合并数据中来源情况；如只来自于左边(left_only)、两者(both)。\n",
    "\n",
    "merge的默认合并方法：merge用于表内部基于 index-on-index 和 index-on-column(s) 的合并，但默认是基于index来合并。\n",
    "\n",
    "## join连接：主要用于索引上的合并"
   ]
  },
  {
   "cell_type": "markdown",
   "metadata": {},
   "source": [
    "```python\n",
    "join(self, other, on=None, how='left', lsuffix='', rsuffix='',sort=False)```"
   ]
  },
  {
   "cell_type": "markdown",
   "metadata": {},
   "source": [
    "其中参数的意义与merge方法基本相同,只是join方法默认为左外连接how=left\n",
    "\n",
    "1.默认按索引合并，可以合并相同或相似的索引，不管他们有没有重叠列。\n",
    "\n",
    "2.可以连接多个DataFrame\n",
    "\n",
    "3.可以连接除索引外的其他列\n",
    "\n",
    "4.连接方式用参数how控制\n",
    "\n",
    "5.通过lsuffix='', rsuffix='' 区分相同列名的列"
   ]
  },
  {
   "cell_type": "markdown",
   "metadata": {},
   "source": [
    "修改数据\n",
    "\n",
    "通过字典对象创建一个DataFrame。\n"
   ]
  },
  {
   "cell_type": "code",
   "execution_count": 1,
   "metadata": {
    "tags": []
   },
   "outputs": [
    {
     "output_type": "stream",
     "name": "stdout",
     "text": "A         B         C         D\n2013-01-01  0.227914  0.780085 -0.237279  0.561984\n2013-01-02  0.346728 -1.275077 -0.796789 -0.197424\n2013-01-03 -0.472048  1.678503 -0.791776  1.831278\n2013-01-04  1.599290 -0.163370 -0.640916  1.098551\n2013-01-05  0.667835 -0.693898 -0.624825 -1.233871\n2013-01-06 -0.181113 -0.501718  0.127142  1.997680\n"
    }
   ],
   "source": [
    "import numpy as np  \n",
    "import pandas as pd  \n",
    "dates = pd.date_range('20130101', periods=6)  \n",
    "df = pd.DataFrame(np.random.randn(6,4), index=dates, columns=list('ABCD'))  \n",
    "print(df)"
   ]
  },
  {
   "cell_type": "markdown",
   "metadata": {},
   "source": [
    "新建一个值为[1,2,3,4,5,6]，索引index为2013-01-02到2013-01-07的Series，并将series赋值给df作为df新增的F列。 "
   ]
  },
  {
   "cell_type": "code",
   "execution_count": 2,
   "metadata": {
    "tags": []
   },
   "outputs": [
    {
     "output_type": "stream",
     "name": "stdout",
     "text": "2013-01-02    1\n2013-01-03    2\n2013-01-04    3\n2013-01-05    4\n2013-01-06    5\n2013-01-07    6\nFreq: D, dtype: int64\n"
    }
   ],
   "source": [
    "s1=pd.Series([1,2,3,4,5,6],index=pd.date_range('20130102',periods=6))  \n",
    "print(s1)  "
   ]
  },
  {
   "cell_type": "code",
   "execution_count": 3,
   "metadata": {
    "tags": []
   },
   "outputs": [
    {
     "output_type": "stream",
     "name": "stdout",
     "text": "A         B         C         D    F\n2013-01-01  0.227914  0.780085 -0.237279  0.561984  NaN\n2013-01-02  0.346728 -1.275077 -0.796789 -0.197424  1.0\n2013-01-03 -0.472048  1.678503 -0.791776  1.831278  2.0\n2013-01-04  1.599290 -0.163370 -0.640916  1.098551  3.0\n2013-01-05  0.667835 -0.693898 -0.624825 -1.233871  4.0\n2013-01-06 -0.181113 -0.501718  0.127142  1.997680  5.0\n"
    }
   ],
   "source": [
    "df['F']=s1  \n",
    "print(df) "
   ]
  },
  {
   "cell_type": "code",
   "execution_count": 4,
   "metadata": {
    "tags": []
   },
   "outputs": [
    {
     "output_type": "stream",
     "name": "stdout",
     "text": "A         B         C         D    F\n2013-01-01  0.000000  0.780085 -0.237279  0.561984  NaN\n2013-01-02  0.346728 -1.275077 -0.796789 -0.197424  1.0\n2013-01-03 -0.472048  1.678503 -0.791776  1.831278  2.0\n2013-01-04  1.599290 -0.163370 -0.640916  1.098551  3.0\n2013-01-05  0.667835 -0.693898 -0.624825 -1.233871  4.0\n2013-01-06 -0.181113 -0.501718  0.127142  1.997680  5.0\n"
    }
   ],
   "source": [
    "# 通过at方法把满足df中dates[0],列A的值修改为0。\n",
    "df.at[dates[0],'A']=0  \n",
    "print(df) "
   ]
  },
  {
   "cell_type": "code",
   "execution_count": 5,
   "metadata": {
    "tags": []
   },
   "outputs": [
    {
     "output_type": "stream",
     "name": "stdout",
     "text": "A         B         C         D    F\n2013-01-01  0.000000  0.000000 -0.237279  0.561984  NaN\n2013-01-02  0.346728 -1.275077 -0.796789 -0.197424  1.0\n2013-01-03 -0.472048  1.678503 -0.791776  1.831278  2.0\n2013-01-04  1.599290 -0.163370 -0.640916  1.098551  3.0\n2013-01-05  0.667835 -0.693898 -0.624825 -1.233871  4.0\n2013-01-06 -0.181113 -0.501718  0.127142  1.997680  5.0\n"
    }
   ],
   "source": [
    "# 使用iat方法修改df中行下标为0，列下标为1的值等于0.\n",
    "df.iat[0,1]=0  \n",
    "print(df)  "
   ]
  },
  {
   "cell_type": "code",
   "execution_count": 6,
   "metadata": {
    "tags": []
   },
   "outputs": [
    {
     "output_type": "stream",
     "name": "stdout",
     "text": "A         B         C  D    F\n2013-01-01  0.000000  0.000000 -0.237279  5  NaN\n2013-01-02  0.346728 -1.275077 -0.796789  5  1.0\n2013-01-03 -0.472048  1.678503 -0.791776  5  2.0\n2013-01-04  1.599290 -0.163370 -0.640916  5  3.0\n2013-01-05  0.667835 -0.693898 -0.624825  5  4.0\n2013-01-06 -0.181113 -0.501718  0.127142  5  5.0\n"
    }
   ],
   "source": [
    "# 使用loc方法把df的D列值修改为5*len(df)。\n",
    "df.loc[:,'D']=np.array([5]*len(df))  \n",
    "print(df)"
   ]
  },
  {
   "cell_type": "code",
   "execution_count": 7,
   "metadata": {
    "tags": []
   },
   "outputs": [
    {
     "output_type": "stream",
     "name": "stdout",
     "text": "A         B         C  D    F\n2013-01-01  0.000000  0.000000 -0.237279 -5  NaN\n2013-01-02 -0.346728 -1.275077 -0.796789 -5 -1.0\n2013-01-03 -0.472048 -1.678503 -0.791776 -5 -2.0\n2013-01-04 -1.599290 -0.163370 -0.640916 -5 -3.0\n2013-01-05 -0.667835 -0.693898 -0.624825 -5 -4.0\n2013-01-06 -0.181113 -0.501718 -0.127142 -5 -5.0\n"
    }
   ],
   "source": [
    "# 使用copy方法将df赋值给df2,使用where语句将df2中满足df2>0条件的值修改为-df2。\n",
    "df2=df.copy()  \n",
    "df2[df2>0]=-df2  \n",
    "print(df2)  "
   ]
  },
  {
   "cell_type": "markdown",
   "metadata": {},
   "source": [
    "## 缺失值\n",
    "\n",
    "使用reindex方法将df的行列索引同时重新索引，使行index=date[0:4]，列索引culumns=list(df.columns+['E'])，并返回一个新的数据帧df1，然后使用loc方法将df1中行索引为dates[0]和dates[1]，列为“E\"的值修改为1。"
   ]
  },
  {
   "cell_type": "code",
   "execution_count": 8,
   "metadata": {
    "tags": []
   },
   "outputs": [
    {
     "output_type": "stream",
     "name": "stdout",
     "text": "A         B         C  D    F   E\n2013-01-01  0.000000  0.000000 -0.237279  5  NaN NaN\n2013-01-02  0.346728 -1.275077 -0.796789  5  1.0 NaN\n2013-01-03 -0.472048  1.678503 -0.791776  5  2.0 NaN\n2013-01-04  1.599290 -0.163370 -0.640916  5  3.0 NaN\n"
    }
   ],
   "source": [
    "df1=df.reindex(index=dates[0:4],columns=list(df.columns)+['E'])  \n",
    "print(df1)  "
   ]
  },
  {
   "cell_type": "code",
   "execution_count": 9,
   "metadata": {
    "tags": []
   },
   "outputs": [
    {
     "output_type": "stream",
     "name": "stdout",
     "text": "A         B         C  D    F    E\n2013-01-01  0.000000  0.000000 -0.237279  5  NaN  1.0\n2013-01-02  0.346728 -1.275077 -0.796789  5  1.0  1.0\n2013-01-03 -0.472048  1.678503 -0.791776  5  2.0  NaN\n2013-01-04  1.599290 -0.163370 -0.640916  5  3.0  NaN\n"
    }
   ],
   "source": [
    "df1.loc[dates[0]:dates[1],'E']=1  \n",
    "print(df1)  "
   ]
  },
  {
   "cell_type": "code",
   "execution_count": 11,
   "metadata": {
    "tags": []
   },
   "outputs": [
    {
     "output_type": "execute_result",
     "data": {
      "text/plain": "                   A         B         C  D    F    E\n2013-01-02  0.346728 -1.275077 -0.796789  5  1.0  1.0",
      "text/html": "<div>\n<style scoped>\n    .dataframe tbody tr th:only-of-type {\n        vertical-align: middle;\n    }\n\n    .dataframe tbody tr th {\n        vertical-align: top;\n    }\n\n    .dataframe thead th {\n        text-align: right;\n    }\n</style>\n<table border=\"1\" class=\"dataframe\">\n  <thead>\n    <tr style=\"text-align: right;\">\n      <th></th>\n      <th>A</th>\n      <th>B</th>\n      <th>C</th>\n      <th>D</th>\n      <th>F</th>\n      <th>E</th>\n    </tr>\n  </thead>\n  <tbody>\n    <tr>\n      <th>2013-01-02</th>\n      <td>0.346728</td>\n      <td>-1.275077</td>\n      <td>-0.796789</td>\n      <td>5</td>\n      <td>1.0</td>\n      <td>1.0</td>\n    </tr>\n  </tbody>\n</table>\n</div>"
     },
     "metadata": {},
     "execution_count": 11
    }
   ],
   "source": [
    "# 使用dropna方法删除df1中任何包含缺失值的行。\n",
    "df1.dropna(how='any')"
   ]
  },
  {
   "cell_type": "code",
   "execution_count": 13,
   "metadata": {
    "tags": []
   },
   "outputs": [
    {
     "output_type": "stream",
     "name": "stdout",
     "text": "A         B         C  D    F    E\n2013-01-01  0.000000  0.000000 -0.237279  5  NaN  1.0\n2013-01-02  0.346728 -1.275077 -0.796789  5  1.0  1.0\n2013-01-03 -0.472048  1.678503 -0.791776  5  2.0  NaN\n2013-01-04  1.599290 -0.163370 -0.640916  5  3.0  NaN\n"
    }
   ],
   "source": [
    "# 使用fillna方法，将df1中所有的缺失值用5填充。\n",
    "print(df1)"
   ]
  },
  {
   "cell_type": "code",
   "execution_count": 14,
   "metadata": {},
   "outputs": [
    {
     "output_type": "execute_result",
     "data": {
      "text/plain": "                   A         B         C  D    F    E\n2013-01-01  0.000000  0.000000 -0.237279  5  5.0  1.0\n2013-01-02  0.346728 -1.275077 -0.796789  5  1.0  1.0\n2013-01-03 -0.472048  1.678503 -0.791776  5  2.0  5.0\n2013-01-04  1.599290 -0.163370 -0.640916  5  3.0  5.0",
      "text/html": "<div>\n<style scoped>\n    .dataframe tbody tr th:only-of-type {\n        vertical-align: middle;\n    }\n\n    .dataframe tbody tr th {\n        vertical-align: top;\n    }\n\n    .dataframe thead th {\n        text-align: right;\n    }\n</style>\n<table border=\"1\" class=\"dataframe\">\n  <thead>\n    <tr style=\"text-align: right;\">\n      <th></th>\n      <th>A</th>\n      <th>B</th>\n      <th>C</th>\n      <th>D</th>\n      <th>F</th>\n      <th>E</th>\n    </tr>\n  </thead>\n  <tbody>\n    <tr>\n      <th>2013-01-01</th>\n      <td>0.000000</td>\n      <td>0.000000</td>\n      <td>-0.237279</td>\n      <td>5</td>\n      <td>5.0</td>\n      <td>1.0</td>\n    </tr>\n    <tr>\n      <th>2013-01-02</th>\n      <td>0.346728</td>\n      <td>-1.275077</td>\n      <td>-0.796789</td>\n      <td>5</td>\n      <td>1.0</td>\n      <td>1.0</td>\n    </tr>\n    <tr>\n      <th>2013-01-03</th>\n      <td>-0.472048</td>\n      <td>1.678503</td>\n      <td>-0.791776</td>\n      <td>5</td>\n      <td>2.0</td>\n      <td>5.0</td>\n    </tr>\n    <tr>\n      <th>2013-01-04</th>\n      <td>1.599290</td>\n      <td>-0.163370</td>\n      <td>-0.640916</td>\n      <td>5</td>\n      <td>3.0</td>\n      <td>5.0</td>\n    </tr>\n  </tbody>\n</table>\n</div>"
     },
     "metadata": {},
     "execution_count": 14
    }
   ],
   "source": [
    "df1.fillna(value=5)  "
   ]
  },
  {
   "cell_type": "code",
   "execution_count": 15,
   "metadata": {},
   "outputs": [
    {
     "output_type": "execute_result",
     "data": {
      "text/plain": "                A      B      C      D      F      E\n2013-01-01  False  False  False  False   True  False\n2013-01-02  False  False  False  False  False  False\n2013-01-03  False  False  False  False  False   True\n2013-01-04  False  False  False  False  False   True",
      "text/html": "<div>\n<style scoped>\n    .dataframe tbody tr th:only-of-type {\n        vertical-align: middle;\n    }\n\n    .dataframe tbody tr th {\n        vertical-align: top;\n    }\n\n    .dataframe thead th {\n        text-align: right;\n    }\n</style>\n<table border=\"1\" class=\"dataframe\">\n  <thead>\n    <tr style=\"text-align: right;\">\n      <th></th>\n      <th>A</th>\n      <th>B</th>\n      <th>C</th>\n      <th>D</th>\n      <th>F</th>\n      <th>E</th>\n    </tr>\n  </thead>\n  <tbody>\n    <tr>\n      <th>2013-01-01</th>\n      <td>False</td>\n      <td>False</td>\n      <td>False</td>\n      <td>False</td>\n      <td>True</td>\n      <td>False</td>\n    </tr>\n    <tr>\n      <th>2013-01-02</th>\n      <td>False</td>\n      <td>False</td>\n      <td>False</td>\n      <td>False</td>\n      <td>False</td>\n      <td>False</td>\n    </tr>\n    <tr>\n      <th>2013-01-03</th>\n      <td>False</td>\n      <td>False</td>\n      <td>False</td>\n      <td>False</td>\n      <td>False</td>\n      <td>True</td>\n    </tr>\n    <tr>\n      <th>2013-01-04</th>\n      <td>False</td>\n      <td>False</td>\n      <td>False</td>\n      <td>False</td>\n      <td>False</td>\n      <td>True</td>\n    </tr>\n  </tbody>\n</table>\n</div>"
     },
     "metadata": {},
     "execution_count": 15
    }
   ],
   "source": [
    "# 使用isnull方法判断df1中的值是否为缺失值，是缺失值返回True，否则返回False，返回一个由布尔值组成的数据帧。\n",
    "pd.isnull(df1)  "
   ]
  },
  {
   "cell_type": "code",
   "execution_count": 16,
   "metadata": {},
   "outputs": [
    {
     "output_type": "execute_result",
     "data": {
      "text/plain": "               A     B     C     D      F      E\n2013-01-01  True  True  True  True  False   True\n2013-01-02  True  True  True  True   True   True\n2013-01-03  True  True  True  True   True  False\n2013-01-04  True  True  True  True   True  False",
      "text/html": "<div>\n<style scoped>\n    .dataframe tbody tr th:only-of-type {\n        vertical-align: middle;\n    }\n\n    .dataframe tbody tr th {\n        vertical-align: top;\n    }\n\n    .dataframe thead th {\n        text-align: right;\n    }\n</style>\n<table border=\"1\" class=\"dataframe\">\n  <thead>\n    <tr style=\"text-align: right;\">\n      <th></th>\n      <th>A</th>\n      <th>B</th>\n      <th>C</th>\n      <th>D</th>\n      <th>F</th>\n      <th>E</th>\n    </tr>\n  </thead>\n  <tbody>\n    <tr>\n      <th>2013-01-01</th>\n      <td>True</td>\n      <td>True</td>\n      <td>True</td>\n      <td>True</td>\n      <td>False</td>\n      <td>True</td>\n    </tr>\n    <tr>\n      <th>2013-01-02</th>\n      <td>True</td>\n      <td>True</td>\n      <td>True</td>\n      <td>True</td>\n      <td>True</td>\n      <td>True</td>\n    </tr>\n    <tr>\n      <th>2013-01-03</th>\n      <td>True</td>\n      <td>True</td>\n      <td>True</td>\n      <td>True</td>\n      <td>True</td>\n      <td>False</td>\n    </tr>\n    <tr>\n      <th>2013-01-04</th>\n      <td>True</td>\n      <td>True</td>\n      <td>True</td>\n      <td>True</td>\n      <td>True</td>\n      <td>False</td>\n    </tr>\n  </tbody>\n</table>\n</div>"
     },
     "metadata": {},
     "execution_count": 16
    }
   ],
   "source": [
    "# 使用notnull判断df1中的值是否为缺失值，返回一个由布尔值组成的数据帧 。\n",
    "pd.notnull(df1)  "
   ]
  },
  {
   "source": [
    "# 合并\n",
    "\n",
    "使用concat进行合并"
   ],
   "cell_type": "markdown",
   "metadata": {}
  },
  {
   "cell_type": "code",
   "execution_count": 19,
   "metadata": {
    "tags": []
   },
   "outputs": [
    {
     "output_type": "stream",
     "name": "stdout",
     "text": "df1:\n     A   B   C   D\n0  A0  B0  C0  D0\n1  A1  B1  C1  D1\n2  A2  B2  C2  D2\n3  A3  B3  C3  D3 \ndf2:\n     A   B   C   D\n4  A4  B4  C4  D4\n5  A5  B5  C5  D5\n6  A6  B6  C6  D6\n7  A7  B7  C7  D7 \ndf3:\n \nresult:\n       A    B    C    D\n0    A0   B0   C0   D0\n1    A1   B1   C1   D1\n2    A2   B2   C2   D2\n3    A3   B3   C3   D3\n4    A4   B4   C4   D4\n5    A5   B5   C5   D5\n6    A6   B6   C6   D6\n7    A7   B7   C7   D7\n8    A8   B8   C8   D8\n9    A9   B9   C9   D9\n10  A10  B10  C10  D10\n11  A11  B11  C11  D11\n"
    }
   ],
   "source": [
    "# 创建数据帧df1、df2、df3，使用concat函数将df1\\df2\\df3进行合并。\n",
    "df1 = pd.DataFrame({'A': ['A0', 'A1', 'A2', 'A3'], 'B': ['B0', 'B1', 'B2', 'B3'],'C': ['C0', 'C1', 'C2', 'C3'],'D': ['D0', 'D1', 'D2', 'D3']},index=[0, 1, 2, 3])\n",
    "df2 = pd.DataFrame({'A': ['A4', 'A5', 'A6', 'A7'],'B': ['B4', 'B5', 'B6', 'B7'],'C': ['C4', 'C5', 'C6', 'C7'],'D': ['D4', 'D5', 'D6', 'D7']},index=[4, 5, 6, 7])  \n",
    "df3 = pd.DataFrame({'A': ['A8', 'A9', 'A10', 'A11'],'B': ['B8', 'B9', 'B10', 'B11'],'C': ['C8', 'C9', 'C10', 'C11'],'D': ['D8', 'D9', 'D10', 'D11']},index=[8, 9, 10, 11])  \n",
    "result = pd.concat([df1,df2,df3])  \n",
    "print('df1:\\n',df1,'\\ndf2:\\n',df2,'\\ndf3:\\n','\\nresult:\\n',result)  "
   ]
  },
  {
   "cell_type": "code",
   "execution_count": 20,
   "metadata": {
    "tags": []
   },
   "outputs": [
    {
     "output_type": "stream",
     "name": "stdout",
     "text": "A    B    C    D\nx 0    A0   B0   C0   D0\n  1    A1   B1   C1   D1\n  2    A2   B2   C2   D2\n  3    A3   B3   C3   D3\ny 4    A4   B4   C4   D4\n  5    A5   B5   C5   D5\n  6    A6   B6   C6   D6\n  7    A7   B7   C7   D7\nz 8    A8   B8   C8   D8\n  9    A9   B9   C9   D9\n  10  A10  B10  C10  D10\n  11  A11  B11  C11  D11\n"
    }
   ],
   "source": [
    "# 将df1,df2,df3进行合并，并将合并后的数据帧进行分区为keys=['x','y','z']。\n",
    "result1 = pd.concat([df1,df2,df3], keys=['x', 'y', 'z'])  \n",
    "print(result1)  "
   ]
  },
  {
   "cell_type": "code",
   "execution_count": 21,
   "metadata": {
    "tags": []
   },
   "outputs": [
    {
     "output_type": "stream",
     "name": "stdout",
     "text": "A    B    C    D    B    D    F\n0   A0   B0   C0   D0  NaN  NaN  NaN\n1   A1   B1   C1   D1  NaN  NaN  NaN\n2   A2   B2   C2   D2   B2   D2   F2\n3   A3   B3   C3   D3   B3   D3   F3\n6  NaN  NaN  NaN  NaN   B6   D6   F6\n7  NaN  NaN  NaN  NaN   B7   D7   F7\n"
    }
   ],
   "source": [
    "# 新建一个数据帧df4，将df1与df4进行列项合并，axis=1。\n",
    "df4 = pd.DataFrame({'B': ['B2', 'B3', 'B6', 'B7'],'D': ['D2', 'D3', 'D6', 'D7'],'F': ['F2', 'F3', 'F6', 'F7']},index=[2, 3, 6, 7])  \n",
    "result2=pd.concat([df1,df4],axis=1)  \n",
    "print(result2)  "
   ]
  },
  {
   "cell_type": "code",
   "execution_count": 22,
   "metadata": {
    "tags": []
   },
   "outputs": [
    {
     "output_type": "stream",
     "name": "stdout",
     "text": "A   B   C   D   B   D   F\n2  A2  B2  C2  D2  B2  D2  F2\n3  A3  B3  C3  D3  B3  D3  F3\n"
    }
   ],
   "source": [
    "# df1与df4进行列项合并axis=1，合并方式为内部合并join=‘inner’。\n",
    "result3=pd.concat([df1,df4],axis=1,join='inner')  \n",
    "print(result3)  "
   ]
  },
  {
   "cell_type": "code",
   "execution_count": 25,
   "metadata": {},
   "outputs": [
    {
     "output_type": "error",
     "ename": "TypeError",
     "evalue": "concat() got an unexpected keyword argument 'join_axes'",
     "traceback": [
      "\u001b[1;31m---------------------------------------------------------------------------\u001b[0m",
      "\u001b[1;31mTypeError\u001b[0m                                 Traceback (most recent call last)",
      "\u001b[1;32m<ipython-input-25-ab949dc209c1>\u001b[0m in \u001b[0;36m<module>\u001b[1;34m\u001b[0m\n\u001b[0;32m      1\u001b[0m \u001b[1;31m# 将df1与df4进行列项合并axis=1，结果只保留合并后df1索引的行join_axes=[df1.index]。\u001b[0m\u001b[1;33m\u001b[0m\u001b[1;33m\u001b[0m\u001b[1;33m\u001b[0m\u001b[0m\n\u001b[1;32m----> 2\u001b[1;33m \u001b[0mresult4\u001b[0m\u001b[1;33m=\u001b[0m\u001b[0mpd\u001b[0m\u001b[1;33m.\u001b[0m\u001b[0mconcat\u001b[0m\u001b[1;33m(\u001b[0m\u001b[1;33m[\u001b[0m\u001b[0mdf1\u001b[0m\u001b[1;33m,\u001b[0m\u001b[0mdf4\u001b[0m\u001b[1;33m]\u001b[0m\u001b[1;33m,\u001b[0m\u001b[0maxis\u001b[0m\u001b[1;33m=\u001b[0m\u001b[1;36m1\u001b[0m\u001b[1;33m,\u001b[0m\u001b[0mjoin_axes\u001b[0m\u001b[1;33m=\u001b[0m\u001b[1;33m[\u001b[0m\u001b[0mdf1\u001b[0m\u001b[1;33m.\u001b[0m\u001b[0mindex\u001b[0m\u001b[1;33m]\u001b[0m\u001b[1;33m)\u001b[0m\u001b[1;33m\u001b[0m\u001b[1;33m\u001b[0m\u001b[0m\n\u001b[0m\u001b[0;32m      3\u001b[0m \u001b[0mprint\u001b[0m\u001b[1;33m(\u001b[0m\u001b[0mresult4\u001b[0m\u001b[1;33m)\u001b[0m\u001b[1;33m\u001b[0m\u001b[1;33m\u001b[0m\u001b[0m\n",
      "\u001b[1;31mTypeError\u001b[0m: concat() got an unexpected keyword argument 'join_axes'"
     ]
    }
   ],
   "source": [
    "# 将df1与df4进行列项合并axis=1，结果只保留合并后df1索引的行join_axes=[df1.index]。\n",
    "result4=pd.concat([df1,df4],axis=1,join_axes=[df1.index])  \n",
    "print(result4)  "
   ]
  },
  {
   "cell_type": "code",
   "execution_count": 26,
   "metadata": {
    "tags": []
   },
   "outputs": [
    {
     "output_type": "stream",
     "name": "stdout",
     "text": "A   B    C   D    F\n0   A0  B0   C0  D0  NaN\n1   A1  B1   C1  D1  NaN\n2   A2  B2   C2  D2  NaN\n3   A3  B3   C3  D3  NaN\n4  NaN  B2  NaN  D2   F2\n5  NaN  B3  NaN  D3   F3\n6  NaN  B6  NaN  D6   F6\n7  NaN  B7  NaN  D7   F7\n"
    }
   ],
   "source": [
    "# 将df1与df4合并，忽略行索引ignore_index=True。\n",
    "result5=pd.concat([df1,df4],ignore_index=True)  \n",
    "print(result5)  "
   ]
  },
  {
   "cell_type": "code",
   "execution_count": 27,
   "metadata": {
    "tags": []
   },
   "outputs": [
    {
     "output_type": "stream",
     "name": "stdout",
     "text": "A   B   C   D   X\n0  A0  B0  C0  D0  X0\n1  A1  B1  C1  D1  X1\n2  A2  B2  C2  D2  X2\n3  A3  B3  C3  D3  X3\n"
    }
   ],
   "source": [
    "# 创建一个名为s1的Series值为['X0', 'X1', 'X2', 'X3']，name='X'，将df1与s1进行列项合并。\n",
    "s1=pd.Series(['X0', 'X1', 'X2', 'X3'],name='X')  \n",
    "result6=pd.concat([df1,s1],axis=1)  \n",
    "print(result6)  "
   ]
  },
  {
   "cell_type": "code",
   "execution_count": 28,
   "metadata": {
    "tags": []
   },
   "outputs": [
    {
     "output_type": "stream",
     "name": "stdout",
     "text": "A   B   C   D\n0  A0  B0  C0  D0\n1  A1  B1  C1  D1\n2  A2  B2  C2  D2\n3  A3  B3  C3  D3 0    X0\n1    X1\n2    X2\n3    X3\nName: X, dtype: object     0   1   2   3   4\n0  A0  B0  C0  D0  X0\n1  A1  B1  C1  D1  X1\n2  A2  B2  C2  D2  X2\n3  A3  B3  C3  D3  X3\n"
    }
   ],
   "source": [
    "# 将df1与s1进行列项合并，忽略索引 ignore_index=True。\n",
    "result=pd.concat([df1,s1],axis=1,ignore_index=True)  \n",
    "print(df1,s1,result)  "
   ]
  },
  {
   "cell_type": "code",
   "execution_count": 29,
   "metadata": {},
   "outputs": [
    {
     "output_type": "execute_result",
     "data": {
      "text/plain": "   red  blue  yellow\n0    0     0       0\n1    1     1       1\n2    2     2       4\n3    3     3       5",
      "text/html": "<div>\n<style scoped>\n    .dataframe tbody tr th:only-of-type {\n        vertical-align: middle;\n    }\n\n    .dataframe tbody tr th {\n        vertical-align: top;\n    }\n\n    .dataframe thead th {\n        text-align: right;\n    }\n</style>\n<table border=\"1\" class=\"dataframe\">\n  <thead>\n    <tr style=\"text-align: right;\">\n      <th></th>\n      <th>red</th>\n      <th>blue</th>\n      <th>yellow</th>\n    </tr>\n  </thead>\n  <tbody>\n    <tr>\n      <th>0</th>\n      <td>0</td>\n      <td>0</td>\n      <td>0</td>\n    </tr>\n    <tr>\n      <th>1</th>\n      <td>1</td>\n      <td>1</td>\n      <td>1</td>\n    </tr>\n    <tr>\n      <th>2</th>\n      <td>2</td>\n      <td>2</td>\n      <td>4</td>\n    </tr>\n    <tr>\n      <th>3</th>\n      <td>3</td>\n      <td>3</td>\n      <td>5</td>\n    </tr>\n  </tbody>\n</table>\n</div>"
     },
     "metadata": {},
     "execution_count": 29
    }
   ],
   "source": [
    "# 创建三个Series分别为s2,s3,s4，将三个Series进行合并，使用keys=['red','blue','yellow']对合并后数据帧的列改名。\n",
    "s2 = pd.Series([0, 1, 2, 3], name='foo')  \n",
    "s3 = pd.Series([0, 1, 2, 3])  \n",
    "s4 = pd.Series([0, 1, 4, 5])  \n",
    "pd.concat([s2,s3,s4],axis=1,keys=['red','blue','yellow'])  "
   ]
  },
  {
   "cell_type": "code",
   "execution_count": 31,
   "metadata": {},
   "outputs": [
    {
     "output_type": "execute_result",
     "data": {
      "text/plain": "        A    B    C    D\nz 8    A8   B8   C8   D8\n  9    A9   B9   C9   D9\n  10  A10  B10  C10  D10\n  11  A11  B11  C11  D11\ny 4    A4   B4   C4   D4\n  5    A5   B5   C5   D5\n  6    A6   B6   C6   D6\n  7    A7   B7   C7   D7",
      "text/html": "<div>\n<style scoped>\n    .dataframe tbody tr th:only-of-type {\n        vertical-align: middle;\n    }\n\n    .dataframe tbody tr th {\n        vertical-align: top;\n    }\n\n    .dataframe thead th {\n        text-align: right;\n    }\n</style>\n<table border=\"1\" class=\"dataframe\">\n  <thead>\n    <tr style=\"text-align: right;\">\n      <th></th>\n      <th></th>\n      <th>A</th>\n      <th>B</th>\n      <th>C</th>\n      <th>D</th>\n    </tr>\n  </thead>\n  <tbody>\n    <tr>\n      <th rowspan=\"4\" valign=\"top\">z</th>\n      <th>8</th>\n      <td>A8</td>\n      <td>B8</td>\n      <td>C8</td>\n      <td>D8</td>\n    </tr>\n    <tr>\n      <th>9</th>\n      <td>A9</td>\n      <td>B9</td>\n      <td>C9</td>\n      <td>D9</td>\n    </tr>\n    <tr>\n      <th>10</th>\n      <td>A10</td>\n      <td>B10</td>\n      <td>C10</td>\n      <td>D10</td>\n    </tr>\n    <tr>\n      <th>11</th>\n      <td>A11</td>\n      <td>B11</td>\n      <td>C11</td>\n      <td>D11</td>\n    </tr>\n    <tr>\n      <th rowspan=\"4\" valign=\"top\">y</th>\n      <th>4</th>\n      <td>A4</td>\n      <td>B4</td>\n      <td>C4</td>\n      <td>D4</td>\n    </tr>\n    <tr>\n      <th>5</th>\n      <td>A5</td>\n      <td>B5</td>\n      <td>C5</td>\n      <td>D5</td>\n    </tr>\n    <tr>\n      <th>6</th>\n      <td>A6</td>\n      <td>B6</td>\n      <td>C6</td>\n      <td>D6</td>\n    </tr>\n    <tr>\n      <th>7</th>\n      <td>A7</td>\n      <td>B7</td>\n      <td>C7</td>\n      <td>D7</td>\n    </tr>\n  </tbody>\n</table>\n</div>"
     },
     "metadata": {},
     "execution_count": 31
    }
   ],
   "source": [
    "# 将df1,df2,df3,作为值，x,y,z作为键构建名为pieces的字典，然后对pieces使用concat进行合并，并令参数keys=['z','y']。\n",
    "pieces={'x':df1,'y':df2,'z':df3}  \n",
    "result = pd.concat(pieces, keys=['z', 'y'])  \n",
    "result"
   ]
  },
  {
   "source": [
    "使用append进行合并"
   ],
   "cell_type": "markdown",
   "metadata": {}
  },
  {
   "cell_type": "code",
   "execution_count": 32,
   "metadata": {},
   "outputs": [
    {
     "output_type": "execute_result",
     "data": {
      "text/plain": "    A   B   C   D\n0  A0  B0  C0  D0\n1  A1  B1  C1  D1\n2  A2  B2  C2  D2\n3  A3  B3  C3  D3\n4  A4  B4  C4  D4\n5  A5  B5  C5  D5\n6  A6  B6  C6  D6\n7  A7  B7  C7  D7",
      "text/html": "<div>\n<style scoped>\n    .dataframe tbody tr th:only-of-type {\n        vertical-align: middle;\n    }\n\n    .dataframe tbody tr th {\n        vertical-align: top;\n    }\n\n    .dataframe thead th {\n        text-align: right;\n    }\n</style>\n<table border=\"1\" class=\"dataframe\">\n  <thead>\n    <tr style=\"text-align: right;\">\n      <th></th>\n      <th>A</th>\n      <th>B</th>\n      <th>C</th>\n      <th>D</th>\n    </tr>\n  </thead>\n  <tbody>\n    <tr>\n      <th>0</th>\n      <td>A0</td>\n      <td>B0</td>\n      <td>C0</td>\n      <td>D0</td>\n    </tr>\n    <tr>\n      <th>1</th>\n      <td>A1</td>\n      <td>B1</td>\n      <td>C1</td>\n      <td>D1</td>\n    </tr>\n    <tr>\n      <th>2</th>\n      <td>A2</td>\n      <td>B2</td>\n      <td>C2</td>\n      <td>D2</td>\n    </tr>\n    <tr>\n      <th>3</th>\n      <td>A3</td>\n      <td>B3</td>\n      <td>C3</td>\n      <td>D3</td>\n    </tr>\n    <tr>\n      <th>4</th>\n      <td>A4</td>\n      <td>B4</td>\n      <td>C4</td>\n      <td>D4</td>\n    </tr>\n    <tr>\n      <th>5</th>\n      <td>A5</td>\n      <td>B5</td>\n      <td>C5</td>\n      <td>D5</td>\n    </tr>\n    <tr>\n      <th>6</th>\n      <td>A6</td>\n      <td>B6</td>\n      <td>C6</td>\n      <td>D6</td>\n    </tr>\n    <tr>\n      <th>7</th>\n      <td>A7</td>\n      <td>B7</td>\n      <td>C7</td>\n      <td>D7</td>\n    </tr>\n  </tbody>\n</table>\n</div>"
     },
     "metadata": {},
     "execution_count": 32
    }
   ],
   "source": [
    "# 使用append方法将df1与df2合并。\n",
    "df1.append(df2)  "
   ]
  },
  {
   "cell_type": "code",
   "execution_count": 33,
   "metadata": {},
   "outputs": [
    {
     "output_type": "execute_result",
     "data": {
      "text/plain": "     A   B    C   D    F\n0   A0  B0   C0  D0  NaN\n1   A1  B1   C1  D1  NaN\n2   A2  B2   C2  D2  NaN\n3   A3  B3   C3  D3  NaN\n2  NaN  B2  NaN  D2   F2\n3  NaN  B3  NaN  D3   F3\n6  NaN  B6  NaN  D6   F6\n7  NaN  B7  NaN  D7   F7",
      "text/html": "<div>\n<style scoped>\n    .dataframe tbody tr th:only-of-type {\n        vertical-align: middle;\n    }\n\n    .dataframe tbody tr th {\n        vertical-align: top;\n    }\n\n    .dataframe thead th {\n        text-align: right;\n    }\n</style>\n<table border=\"1\" class=\"dataframe\">\n  <thead>\n    <tr style=\"text-align: right;\">\n      <th></th>\n      <th>A</th>\n      <th>B</th>\n      <th>C</th>\n      <th>D</th>\n      <th>F</th>\n    </tr>\n  </thead>\n  <tbody>\n    <tr>\n      <th>0</th>\n      <td>A0</td>\n      <td>B0</td>\n      <td>C0</td>\n      <td>D0</td>\n      <td>NaN</td>\n    </tr>\n    <tr>\n      <th>1</th>\n      <td>A1</td>\n      <td>B1</td>\n      <td>C1</td>\n      <td>D1</td>\n      <td>NaN</td>\n    </tr>\n    <tr>\n      <th>2</th>\n      <td>A2</td>\n      <td>B2</td>\n      <td>C2</td>\n      <td>D2</td>\n      <td>NaN</td>\n    </tr>\n    <tr>\n      <th>3</th>\n      <td>A3</td>\n      <td>B3</td>\n      <td>C3</td>\n      <td>D3</td>\n      <td>NaN</td>\n    </tr>\n    <tr>\n      <th>2</th>\n      <td>NaN</td>\n      <td>B2</td>\n      <td>NaN</td>\n      <td>D2</td>\n      <td>F2</td>\n    </tr>\n    <tr>\n      <th>3</th>\n      <td>NaN</td>\n      <td>B3</td>\n      <td>NaN</td>\n      <td>D3</td>\n      <td>F3</td>\n    </tr>\n    <tr>\n      <th>6</th>\n      <td>NaN</td>\n      <td>B6</td>\n      <td>NaN</td>\n      <td>D6</td>\n      <td>F6</td>\n    </tr>\n    <tr>\n      <th>7</th>\n      <td>NaN</td>\n      <td>B7</td>\n      <td>NaN</td>\n      <td>D7</td>\n      <td>F7</td>\n    </tr>\n  </tbody>\n</table>\n</div>"
     },
     "metadata": {},
     "execution_count": 33
    }
   ],
   "source": [
    "# 使用append方法将df1与df4合并。\n",
    "df1.append(df4)  "
   ]
  },
  {
   "cell_type": "code",
   "execution_count": 34,
   "metadata": {},
   "outputs": [
    {
     "output_type": "execute_result",
     "data": {
      "text/plain": "      A    B    C    D\n0    A0   B0   C0   D0\n1    A1   B1   C1   D1\n2    A2   B2   C2   D2\n3    A3   B3   C3   D3\n4    A4   B4   C4   D4\n5    A5   B5   C5   D5\n6    A6   B6   C6   D6\n7    A7   B7   C7   D7\n8    A8   B8   C8   D8\n9    A9   B9   C9   D9\n10  A10  B10  C10  D10\n11  A11  B11  C11  D11",
      "text/html": "<div>\n<style scoped>\n    .dataframe tbody tr th:only-of-type {\n        vertical-align: middle;\n    }\n\n    .dataframe tbody tr th {\n        vertical-align: top;\n    }\n\n    .dataframe thead th {\n        text-align: right;\n    }\n</style>\n<table border=\"1\" class=\"dataframe\">\n  <thead>\n    <tr style=\"text-align: right;\">\n      <th></th>\n      <th>A</th>\n      <th>B</th>\n      <th>C</th>\n      <th>D</th>\n    </tr>\n  </thead>\n  <tbody>\n    <tr>\n      <th>0</th>\n      <td>A0</td>\n      <td>B0</td>\n      <td>C0</td>\n      <td>D0</td>\n    </tr>\n    <tr>\n      <th>1</th>\n      <td>A1</td>\n      <td>B1</td>\n      <td>C1</td>\n      <td>D1</td>\n    </tr>\n    <tr>\n      <th>2</th>\n      <td>A2</td>\n      <td>B2</td>\n      <td>C2</td>\n      <td>D2</td>\n    </tr>\n    <tr>\n      <th>3</th>\n      <td>A3</td>\n      <td>B3</td>\n      <td>C3</td>\n      <td>D3</td>\n    </tr>\n    <tr>\n      <th>4</th>\n      <td>A4</td>\n      <td>B4</td>\n      <td>C4</td>\n      <td>D4</td>\n    </tr>\n    <tr>\n      <th>5</th>\n      <td>A5</td>\n      <td>B5</td>\n      <td>C5</td>\n      <td>D5</td>\n    </tr>\n    <tr>\n      <th>6</th>\n      <td>A6</td>\n      <td>B6</td>\n      <td>C6</td>\n      <td>D6</td>\n    </tr>\n    <tr>\n      <th>7</th>\n      <td>A7</td>\n      <td>B7</td>\n      <td>C7</td>\n      <td>D7</td>\n    </tr>\n    <tr>\n      <th>8</th>\n      <td>A8</td>\n      <td>B8</td>\n      <td>C8</td>\n      <td>D8</td>\n    </tr>\n    <tr>\n      <th>9</th>\n      <td>A9</td>\n      <td>B9</td>\n      <td>C9</td>\n      <td>D9</td>\n    </tr>\n    <tr>\n      <th>10</th>\n      <td>A10</td>\n      <td>B10</td>\n      <td>C10</td>\n      <td>D10</td>\n    </tr>\n    <tr>\n      <th>11</th>\n      <td>A11</td>\n      <td>B11</td>\n      <td>C11</td>\n      <td>D11</td>\n    </tr>\n  </tbody>\n</table>\n</div>"
     },
     "metadata": {},
     "execution_count": 34
    }
   ],
   "source": [
    "# 使用append方法将df1与df2、df3合并。\n",
    "df1.append([df2,df3])  "
   ]
  },
  {
   "cell_type": "code",
   "execution_count": 36,
   "metadata": {},
   "outputs": [
    {
     "output_type": "execute_result",
     "data": {
      "text/plain": "     A   B    C   D    F\n0   A0  B0   C0  D0  NaN\n1   A1  B1   C1  D1  NaN\n2   A2  B2   C2  D2  NaN\n3   A3  B3   C3  D3  NaN\n4  NaN  B2  NaN  D2   F2\n5  NaN  B3  NaN  D3   F3\n6  NaN  B6  NaN  D6   F6\n7  NaN  B7  NaN  D7   F7",
      "text/html": "<div>\n<style scoped>\n    .dataframe tbody tr th:only-of-type {\n        vertical-align: middle;\n    }\n\n    .dataframe tbody tr th {\n        vertical-align: top;\n    }\n\n    .dataframe thead th {\n        text-align: right;\n    }\n</style>\n<table border=\"1\" class=\"dataframe\">\n  <thead>\n    <tr style=\"text-align: right;\">\n      <th></th>\n      <th>A</th>\n      <th>B</th>\n      <th>C</th>\n      <th>D</th>\n      <th>F</th>\n    </tr>\n  </thead>\n  <tbody>\n    <tr>\n      <th>0</th>\n      <td>A0</td>\n      <td>B0</td>\n      <td>C0</td>\n      <td>D0</td>\n      <td>NaN</td>\n    </tr>\n    <tr>\n      <th>1</th>\n      <td>A1</td>\n      <td>B1</td>\n      <td>C1</td>\n      <td>D1</td>\n      <td>NaN</td>\n    </tr>\n    <tr>\n      <th>2</th>\n      <td>A2</td>\n      <td>B2</td>\n      <td>C2</td>\n      <td>D2</td>\n      <td>NaN</td>\n    </tr>\n    <tr>\n      <th>3</th>\n      <td>A3</td>\n      <td>B3</td>\n      <td>C3</td>\n      <td>D3</td>\n      <td>NaN</td>\n    </tr>\n    <tr>\n      <th>4</th>\n      <td>NaN</td>\n      <td>B2</td>\n      <td>NaN</td>\n      <td>D2</td>\n      <td>F2</td>\n    </tr>\n    <tr>\n      <th>5</th>\n      <td>NaN</td>\n      <td>B3</td>\n      <td>NaN</td>\n      <td>D3</td>\n      <td>F3</td>\n    </tr>\n    <tr>\n      <th>6</th>\n      <td>NaN</td>\n      <td>B6</td>\n      <td>NaN</td>\n      <td>D6</td>\n      <td>F6</td>\n    </tr>\n    <tr>\n      <th>7</th>\n      <td>NaN</td>\n      <td>B7</td>\n      <td>NaN</td>\n      <td>D7</td>\n      <td>F7</td>\n    </tr>\n  </tbody>\n</table>\n</div>"
     },
     "metadata": {},
     "execution_count": 36
    }
   ],
   "source": [
    "# 将df1与df4进行合并，忽略索引ignore_index=True。\n",
    "result=df1.append(df4,ignore_index=True)  \n",
    "result"
   ]
  },
  {
   "source": [
    "使用merge进行合并"
   ],
   "cell_type": "markdown",
   "metadata": {}
  },
  {
   "cell_type": "code",
   "execution_count": 37,
   "metadata": {
    "tags": []
   },
   "outputs": [
    {
     "output_type": "stream",
     "name": "stdout",
     "text": "key   A   B\n0  K0  A0  B0\n1  K1  A1  B1\n2  K2  A2  B2\n3  K3  A3  B3   key   C   D\n0  K0  C0  D0\n1  K1  C1  D1\n2  K2  C2  D2\n3  K3  C3  D3   key   A   B   C   D\n0  K0  A0  B0  C0  D0\n1  K1  A1  B1  C1  D1\n2  K2  A2  B2  C2  D2\n3  K3  A3  B3  C3  D3\n"
    }
   ],
   "source": [
    "# 创建两个数据帧left、right，使用merge函数按key列将left与right进行连接。\n",
    "left = pd.DataFrame({'key': ['K0', 'K1', 'K2', 'K3'],'A': ['A0', 'A1', 'A2', 'A3'], 'B': ['B0', 'B1', 'B2', 'B3']})  \n",
    "right = pd.DataFrame({'key': ['K0', 'K1', 'K2', 'K3'],'C': ['C0', 'C1', 'C2', 'C3'], 'D': ['D0', 'D1', 'D2', 'D3']})  \n",
    "result = pd.merge(left, right, on='key')  \n",
    "print( left,right,result)  "
   ]
  },
  {
   "cell_type": "code",
   "execution_count": 38,
   "metadata": {
    "tags": []
   },
   "outputs": [
    {
     "output_type": "stream",
     "name": "stdout",
     "text": "key1 key2   A   B\n0   K0   K0  A0  B0\n1   K0   K1  A1  B1\n2   K1   K0  A2  B2\n3   K2   K1  A3  B3   key1 key2   C   D\n0   K0   K0  C0  D0\n1   K1   K0  C1  D1\n2   K1   K0  C2  D2\n3   K2   K0  C3  D3   key1 key2   A   B   C   D\n0   K0   K0  A0  B0  C0  D0\n1   K1   K0  A2  B2  C1  D1\n2   K1   K0  A2  B2  C2  D2\n"
    }
   ],
   "source": [
    "# 复合key的合并方法，使用merge的时候可以选择多个key作为复合可以来对齐合并。\n",
    "# 创建两个数据帧left、right，使用merge函数按[key1，key2]列将left与right进行连接。\n",
    "left = pd.DataFrame({'key1': ['K0', 'K0', 'K1', 'K2'], 'key2': ['K0', 'K1', 'K0', 'K1'],'A': ['A0', 'A1', 'A2', 'A3'],'B': ['B0', 'B1', 'B2', 'B3']})  \n",
    "right = pd.DataFrame({'key1': ['K0', 'K1', 'K1', 'K2'],'key2': ['K0', 'K0', 'K0', 'K0'],'C': ['C0', 'C1', 'C2', 'C3'],'D': ['D0', 'D1', 'D2', 'D3']})  \n",
    "result = pd.merge(left, right, on=['key1', 'key2'])  \n",
    "print( left,right,result)  "
   ]
  },
  {
   "cell_type": "code",
   "execution_count": 39,
   "metadata": {
    "tags": []
   },
   "outputs": [
    {
     "output_type": "stream",
     "name": "stdout",
     "text": "key1 key2   A   B\n0   K0   K0  A0  B0\n1   K0   K1  A1  B1\n2   K1   K0  A2  B2\n3   K2   K1  A3  B3   key1 key2   C   D\n0   K0   K0  C0  D0\n1   K1   K0  C1  D1\n2   K1   K0  C2  D2\n3   K2   K0  C3  D3   key1 key2   A   B    C    D\n0   K0   K0  A0  B0   C0   D0\n1   K0   K1  A1  B1  NaN  NaN\n2   K1   K0  A2  B2   C1   D1\n3   K1   K0  A2  B2   C2   D2\n4   K2   K1  A3  B3  NaN  NaN\n"
    }
   ],
   "source": [
    "# 使用merge函数按[key1，key2]列将left与right进行左表连接。\n",
    "left = pd.DataFrame({'key1': ['K0', 'K0', 'K1', 'K2'], 'key2': ['K0', 'K1', 'K0', 'K1'],'A': ['A0', 'A1', 'A2', 'A3'],'B': ['B0', 'B1', 'B2', 'B3']})  \n",
    "right = pd.DataFrame({'key1': ['K0', 'K1', 'K1', 'K2'],'key2': ['K0', 'K0', 'K0', 'K0'],'C': ['C0', 'C1', 'C2', 'C3'],'D': ['D0', 'D1', 'D2', 'D3']})  \n",
    "result = pd.merge(left, right, how='left', on=['key1', 'key2'])  \n",
    "print( left,right,result)  "
   ]
  },
  {
   "cell_type": "code",
   "execution_count": 40,
   "metadata": {
    "tags": []
   },
   "outputs": [
    {
     "output_type": "stream",
     "name": "stdout",
     "text": "key1 key2    A    B   C   D\n0   K0   K0   A0   B0  C0  D0\n1   K1   K0   A2   B2  C1  D1\n2   K1   K0   A2   B2  C2  D2\n3   K2   K0  NaN  NaN  C3  D3\n"
    }
   ],
   "source": [
    "# 使用merge函数按[key1，key2]列将left与right进行右表连接。\n",
    "result = pd.merge(left, right, how='right', on=['key1', 'key2'])  \n",
    "print(result)  "
   ]
  },
  {
   "cell_type": "code",
   "execution_count": 41,
   "metadata": {
    "tags": []
   },
   "outputs": [
    {
     "output_type": "stream",
     "name": "stdout",
     "text": "key1 key2    A    B    C    D\n0   K0   K0   A0   B0   C0   D0\n1   K0   K1   A1   B1  NaN  NaN\n2   K1   K0   A2   B2   C1   D1\n3   K1   K0   A2   B2   C2   D2\n4   K2   K1   A3   B3  NaN  NaN\n5   K2   K0  NaN  NaN   C3   D3\n"
    }
   ],
   "source": [
    "# 使用merge函数按[key1，key2]列将left与right进行外表连接。\n",
    "result = pd.merge(left, right, how='outer', on=['key1', 'key2'])  \n",
    "print(result)  "
   ]
  },
  {
   "cell_type": "code",
   "execution_count": 42,
   "metadata": {
    "tags": []
   },
   "outputs": [
    {
     "output_type": "stream",
     "name": "stdout",
     "text": "key1 key2   A   B   C   D\n0   K0   K0  A0  B0  C0  D0\n1   K1   K0  A2  B2  C1  D1\n2   K1   K0  A2  B2  C2  D2\n"
    }
   ],
   "source": [
    "# 使用merge函数按key1，key2列将left与right进行内表连接。\n",
    "result = pd.merge(left, right, how='inner', on=['key1', 'key2'])  \n",
    "print(result)  "
   ]
  },
  {
   "cell_type": "code",
   "execution_count": 43,
   "metadata": {
    "tags": []
   },
   "outputs": [
    {
     "output_type": "stream",
     "name": "stdout",
     "text": "A_x  B  A_y\n0    1  2    4\n1    1  2    5\n2    1  2    6\n3    2  2    4\n4    2  2    5\n5    2  2    6\n"
    }
   ],
   "source": [
    "# 创建两个都只有A、B两列的数据帧left,right，使用merge函数按B列将left与right进行外表连接，可以看到除连接列B以外的列名相同时，会在列名后加上区分的后缀。\n",
    "left = pd.DataFrame({'A' : [1,2], 'B' : [2, 2]})  \n",
    "right = pd.DataFrame({'A' : [4,5,6], 'B': [2,2,2]})  \n",
    "result = pd.merge(left, right, on='B', how='outer')  \n",
    "print(result)  "
   ]
  },
  {
   "cell_type": "code",
   "execution_count": 44,
   "metadata": {},
   "outputs": [
    {
     "output_type": "execute_result",
     "data": {
      "text/plain": "   col1 col_left  col_right      _merge\n0     0        a        NaN   left_only\n1     1        b        2.0        both\n2     2      NaN        2.0  right_only\n3     2      NaN        2.0  right_only",
      "text/html": "<div>\n<style scoped>\n    .dataframe tbody tr th:only-of-type {\n        vertical-align: middle;\n    }\n\n    .dataframe tbody tr th {\n        vertical-align: top;\n    }\n\n    .dataframe thead th {\n        text-align: right;\n    }\n</style>\n<table border=\"1\" class=\"dataframe\">\n  <thead>\n    <tr style=\"text-align: right;\">\n      <th></th>\n      <th>col1</th>\n      <th>col_left</th>\n      <th>col_right</th>\n      <th>_merge</th>\n    </tr>\n  </thead>\n  <tbody>\n    <tr>\n      <th>0</th>\n      <td>0</td>\n      <td>a</td>\n      <td>NaN</td>\n      <td>left_only</td>\n    </tr>\n    <tr>\n      <th>1</th>\n      <td>1</td>\n      <td>b</td>\n      <td>2.0</td>\n      <td>both</td>\n    </tr>\n    <tr>\n      <th>2</th>\n      <td>2</td>\n      <td>NaN</td>\n      <td>2.0</td>\n      <td>right_only</td>\n    </tr>\n    <tr>\n      <th>3</th>\n      <td>2</td>\n      <td>NaN</td>\n      <td>2.0</td>\n      <td>right_only</td>\n    </tr>\n  </tbody>\n</table>\n</div>"
     },
     "metadata": {},
     "execution_count": 44
    }
   ],
   "source": [
    "# 创建两个数据帧df1、df2，使用merge函数按col1列将df1与df2进行外表连接，并使用参数indicator显示出每列值在合并列中是否出现。\n",
    "df1 = pd.DataFrame({'col1': [0, 1], 'col_left':['a', 'b']})  \n",
    "df2 = pd.DataFrame({'col1': [1, 2, 2],'col_right':[2, 2, 2]})  \n",
    "pd.merge(df1, df2, on='col1', how='outer', indicator=True)  "
   ]
  },
  {
   "source": [
    "使用join进行连接"
   ],
   "cell_type": "markdown",
   "metadata": {}
  },
  {
   "cell_type": "code",
   "execution_count": 45,
   "metadata": {
    "tags": []
   },
   "outputs": [
    {
     "output_type": "stream",
     "name": "stdout",
     "text": "A   B\nK0  A0  B0\nK1  A1  B1\nK2  A2  B2 \n      C   D\nK0  C0  D0\nK2  C2  D2\nK3  C3  D3 \n      A   B    C    D\nK0  A0  B0   C0   D0\nK1  A1  B1  NaN  NaN\nK2  A2  B2   C2   D2\n"
    }
   ],
   "source": [
    "# 创建两个数据帧left、right，使用join方法将left与right连接。\n",
    "left = pd.DataFrame({'A': ['A0', 'A1', 'A2'],'B': ['B0', 'B1', 'B2']},index=['K0', 'K1', 'K2'])  \n",
    "right = pd.DataFrame({'C': ['C0', 'C2', 'C3'],'D': ['D0', 'D2', 'D3']},index=['K0', 'K2', 'K3'])  \n",
    "result = left.join(right)  \n",
    "print(left,'\\n',right,'\\n',result)  "
   ]
  },
  {
   "cell_type": "code",
   "execution_count": 46,
   "metadata": {
    "tags": []
   },
   "outputs": [
    {
     "output_type": "stream",
     "name": "stdout",
     "text": "A   B\nK0  A0  B0\nK1  A1  B1\nK2  A2  B2 \n      C   D\nK0  C0  D0\nK2  C2  D2\nK3  C3  D3 \n       A    B    C    D\nK0   A0   B0   C0   D0\nK1   A1   B1  NaN  NaN\nK2   A2   B2   C2   D2\nK3  NaN  NaN   C3   D3\n"
    }
   ],
   "source": [
    "# 使用join方法将left与right进行外表连接\n",
    "result = left.join(right, how='outer')  \n",
    "print(left,'\\n',right,'\\n',result)  "
   ]
  },
  {
   "cell_type": "code",
   "execution_count": 47,
   "metadata": {
    "tags": []
   },
   "outputs": [
    {
     "output_type": "stream",
     "name": "stdout",
     "text": "A   B\nK0  A0  B0\nK1  A1  B1\nK2  A2  B2 \n      C   D\nK0  C0  D0\nK2  C2  D2\nK3  C3  D3 \n      A   B   C   D\nK0  A0  B0  C0  D0\nK2  A2  B2  C2  D2\n"
    }
   ],
   "source": [
    "# 使用join方法将left与right进行内表连接。\n",
    "result = left.join(right, how='inner')  \n",
    "print(left,'\\n',right,'\\n',result)  "
   ]
  },
  {
   "cell_type": "code",
   "execution_count": 48,
   "metadata": {
    "tags": []
   },
   "outputs": [
    {
     "output_type": "stream",
     "name": "stdout",
     "text": "A   B\nK0  A0  B0\nK1  A1  B1\nK2  A2  B2 \n      C   D\nK0  C0  D0\nK2  C2  D2\nK3  C3  D3 \n       A    B    C    D\nK0   A0   B0   C0   D0\nK1   A1   B1  NaN  NaN\nK2   A2   B2   C2   D2\nK3  NaN  NaN   C3   D3\n"
    }
   ],
   "source": [
    "# 使用merge函数按左右表索引将left与right进行外表连接。\n",
    "result = pd.merge(left, right, left_index=True, right_index=True, how='outer')  \n",
    "print(left,'\\n',right,'\\n',result)  "
   ]
  },
  {
   "cell_type": "code",
   "execution_count": 49,
   "metadata": {
    "tags": []
   },
   "outputs": [
    {
     "output_type": "stream",
     "name": "stdout",
     "text": "A   B key\n0  A0  B0  K0\n1  A1  B1  K1\n2  A2  B2  K0\n3  A3  B3  K1 \n      C   D\nK0  C0  D0\nK1  C1  D1 \n     A   B key   C   D\n0  A0  B0  K0  C0  D0\n1  A1  B1  K1  C1  D1\n2  A2  B2  K0  C0  D0\n3  A3  B3  K1  C1  D1\n"
    }
   ],
   "source": [
    "# 创建两个数据帧left、right，使用join方法按key列将left与right连接。\n",
    "left = pd.DataFrame({'A': ['A0', 'A1', 'A2', 'A3'],'B': ['B0', 'B1', 'B2', 'B3'], 'key': ['K0', 'K1', 'K0', 'K1']})  \n",
    "right = pd.DataFrame({'C': ['C0', 'C1'],'D': ['D0', 'D1']},index=['K0', 'K1'])  \n",
    "result = left.join(right, on='key')  \n",
    "print(left,'\\n',right,'\\n',result)  "
   ]
  },
  {
   "cell_type": "code",
   "execution_count": 50,
   "metadata": {
    "tags": []
   },
   "outputs": [
    {
     "output_type": "stream",
     "name": "stdout",
     "text": "A   B key\n0  A0  B0  K0\n1  A1  B1  K1\n2  A2  B2  K0\n3  A3  B3  K1 \n      C   D\nK0  C0  D0\nK1  C1  D1 \n     A   B key   C   D\n0  A0  B0  K0  C0  D0\n1  A1  B1  K1  C1  D1\n2  A2  B2  K0  C0  D0\n3  A3  B3  K1  C1  D1\n"
    }
   ],
   "source": [
    "result = pd.merge(left, right, left_on='key', right_index=True,how='left', sort=False)  \n",
    "print(left,'\\n',right,'\\n',result)  "
   ]
  }
 ],
 "metadata": {
  "kernelspec": {
   "display_name": "Python 3",
   "language": "python",
   "name": "python3"
  },
  "language_info": {
   "codemirror_mode": {
    "name": "ipython",
    "version": 3
   },
   "file_extension": ".py",
   "mimetype": "text/x-python",
   "name": "python",
   "nbconvert_exporter": "python",
   "pygments_lexer": "ipython3",
   "version": "3.7.8-final"
  }
 },
 "nbformat": 4,
 "nbformat_minor": 2
}