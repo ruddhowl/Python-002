{
 "cells": [
  {
   "cell_type": "markdown",
   "metadata": {},
   "source": [
    "# pandas——DataFrame基本操作"
   ]
  },
  {
   "cell_type": "markdown",
   "metadata": {},
   "source": [
    "DataFrame提供的是一个类似表的结构，由多个Series组成，而Series在DataFrame中叫columns。"
   ]
  },
  {
   "cell_type": "markdown",
   "metadata": {},
   "source": [
    "一、查看数据（查看对象的方法对于Series来说同样适用）\n",
    "\n",
    "1.查看DataFrame前xx行或后xx行\n",
    "\n",
    "a=DataFrame(data);\n",
    "\n",
    "a.head(6)表示显示前6行数据，若head()中不带参数则会显示全部数据。\n",
    "\n",
    "a.tail(6)表示显示后6行数据，若tail()中不带参数则也会显示全部数据。\n",
    "\n",
    "2.查看DataFrame的index，columns以及values\n",
    "\n",
    "a.index ; a.columns ; a.values 即可\n",
    "\n",
    "3.describe()函数对数据快速统计汇总\n",
    "\n",
    "a.describe()对每一列数据进行统计，包括计数，均值，std，各个分位数等。\n",
    "\n",
    "4.对数据的转置\n",
    "\n",
    "a.T\n",
    "\n",
    "5.对轴进行排序\n",
    "\n",
    "a.sort_index(axis=1,ascending=False)；\n",
    "\n",
    "其中axis=1表示对所有的columns进行排序，下面的数也跟着发生移动。后面的ascending=False表示按降序排列，参数缺失时默认升序。\n",
    "\n",
    "6.对DataFrame中的值排序\n",
    "\n",
    "a.sort(columns='x')\n",
    "\n",
    "即对a中的x这一列，从小到大进行排序。注意仅仅是x这一列，而上面的按轴进行排序时会对所有的columns进行操作。\n",
    "\n",
    "二、选择对象\n",
    "\n",
    "1.选择特定列和行的数据\n",
    "\n",
    "a['x'] 那么将会返回columns为x的列，注意这种方式一次只能返回一个列。a.x与a['x']意思一样。\n",
    "\n",
    "取行数据，通过切片[]来选择\n",
    "\n",
    "如：a[0:3] 则会返回前三行的数据。\n",
    "\n",
    "2.loc是通过标签来选择数据\n",
    "\n",
    "a.loc['one']则会默认表示选取行为'one'的行；\n",
    "\n",
    "a.loc[:,['a','b'] ] 表示选取所有的行以及columns为a,b的列；\n",
    "\n",
    "a.loc[['one','two'],['a','b']] 表示选取'one'和'two'这两行以及columns为a,b的列；\n",
    "\n",
    "a.loc['one','a']与a.loc[['one'],['a']]作用是一样的，不过前者只显示对应的值，而后者会显示对应的行和列标签。\n",
    "\n",
    "3.iloc则是直接通过位置来选择数据\n",
    "\n",
    "这与通过标签选择类似\n",
    "\n",
    "a.iloc[1:2,1:2] 则会显示第一行第一列的数据;(切片后面的值取不到)\n",
    "\n",
    "a.iloc[1:2] 即后面表示列的值没有时，默认选取行位置为1的数据;\n",
    "\n",
    "a.iloc[[0,2],[1,2]] 即可以自由选取行位置，和列位置对应的数据。\n",
    "\n",
    "4.使用条件来选择\n",
    "\n",
    "使用单独的列来选择数据\n",
    "\n",
    "a[a.c>0] 表示选择c列中大于0的数据\n",
    "\n",
    "使用where来选择数据\n",
    "\n",
    "a[a>0] 表直接选择a中所有大于0的数据\n",
    "\n",
    "使用isin()选出特定列中包含特定值的行\n",
    "\n",
    "a1=a.copy()\n",
    "\n",
    "a1[a1['one'].isin(['2','3'])] 表显示满足条件：列one中的值包含'2','3'的所有行。\n",
    "\n",
    "三、设置值（赋值）\n",
    "\n",
    "赋值操作在上述选择操作的基础上直接赋值即可。\n",
    "\n",
    "例a.loc[:,['a','c']]=9 即将a和c列的所有行中的值设置为9\n",
    "\n",
    "a.iloc[:,[1,3]]=9 表示1和2列的所有行中的值设置为9\n",
    "\n",
    "同时也依然可以用条件来直接赋值\n",
    "\n",
    "a[a>0]=-a 表示将a中所有大于0的数转化为负值\n"
   ]
  },
  {
   "cell_type": "markdown",
   "metadata": {},
   "source": [
    "创建DataFrame。\n",
    "\n",
    "通过字典对象创建一个DataFrame。"
   ]
  },
  {
   "cell_type": "code",
   "execution_count": 1,
   "metadata": {
    "tags": []
   },
   "outputs": [
    {
     "output_type": "stream",
     "name": "stdout",
     "text": "A         B         C         D\n2013-01-01 -1.978766 -0.046000  0.990330  0.002206\n2013-01-02  0.715511 -1.972082  0.207908 -1.671683\n2013-01-03  0.705381 -1.238039 -0.670988 -0.129216\n2013-01-04 -0.736708 -0.526270  0.650298 -0.677765\n2013-01-05  0.005082  1.114874 -1.184721  0.000949\n2013-01-06 -0.644047 -1.721134 -1.436965  0.436768\n"
    }
   ],
   "source": [
    "import numpy as np  \n",
    "import pandas as pd  \n",
    "dates = pd.date_range('20130101', periods=6)  \n",
    "df = pd.DataFrame(np.random.randn(6,4), index=dates, columns=list('ABCD'))  \n",
    "print(df)  "
   ]
  },
  {
   "cell_type": "markdown",
   "metadata": {},
   "source": [
    "基础操作"
   ]
  },
  {
   "cell_type": "code",
   "execution_count": 2,
   "metadata": {
    "tags": []
   },
   "outputs": [
    {
     "output_type": "stream",
     "name": "stdout",
     "text": "A         B         C         D\n2013-01-01 -1.978766 -0.046000  0.990330  0.002206\n2013-01-02  0.715511 -1.972082  0.207908 -1.671683\n2013-01-03  0.705381 -1.238039 -0.670988 -0.129216\n2013-01-04 -0.736708 -0.526270  0.650298 -0.677765\n2013-01-05  0.005082  1.114874 -1.184721  0.000949\n                   A         B         C         D\n2013-01-04 -0.736708 -0.526270  0.650298 -0.677765\n2013-01-05  0.005082  1.114874 -1.184721  0.000949\n2013-01-06 -0.644047 -1.721134 -1.436965  0.436768\n"
    }
   ],
   "source": [
    "# 查看df的前5行，查看df的后3行。\n",
    "print(df.head())  \n",
    "print(df.tail(3))  "
   ]
  },
  {
   "cell_type": "code",
   "execution_count": 3,
   "metadata": {
    "tags": []
   },
   "outputs": [
    {
     "output_type": "stream",
     "name": "stdout",
     "text": "DatetimeIndex(['2013-01-01', '2013-01-02', '2013-01-03', '2013-01-04',\n               '2013-01-05', '2013-01-06'],\n              dtype='datetime64[ns]', freq='D')\n"
    }
   ],
   "source": [
    "# 查看df的索引名index。\n",
    "print(df.index)"
   ]
  },
  {
   "cell_type": "code",
   "execution_count": 4,
   "metadata": {
    "tags": []
   },
   "outputs": [
    {
     "output_type": "stream",
     "name": "stdout",
     "text": "Index(['A', 'B', 'C', 'D'], dtype='object')\n"
    }
   ],
   "source": [
    "# 查看df的列名columns。\n",
    "print(df.columns)"
   ]
  },
  {
   "cell_type": "code",
   "execution_count": 5,
   "metadata": {},
   "outputs": [
    {
     "output_type": "execute_result",
     "data": {
      "text/plain": "array([[-1.97876561e+00, -4.59995860e-02,  9.90329943e-01,\n         2.20561808e-03],\n       [ 7.15511208e-01, -1.97208169e+00,  2.07907597e-01,\n        -1.67168307e+00],\n       [ 7.05380521e-01, -1.23803948e+00, -6.70988051e-01,\n        -1.29215936e-01],\n       [-7.36707999e-01, -5.26269585e-01,  6.50298017e-01,\n        -6.77764738e-01],\n       [ 5.08154937e-03,  1.11487411e+00, -1.18472127e+00,\n         9.48894397e-04],\n       [-6.44047471e-01, -1.72113404e+00, -1.43696453e+00,\n         4.36768081e-01]])"
     },
     "metadata": {},
     "execution_count": 5
    }
   ],
   "source": [
    "# 查看df的值values。\n",
    "df.values"
   ]
  },
  {
   "cell_type": "code",
   "execution_count": 6,
   "metadata": {},
   "outputs": [
    {
     "output_type": "execute_result",
     "data": {
      "text/plain": "<bound method NDFrame.describe of                    A         B         C         D\n2013-01-01 -1.978766 -0.046000  0.990330  0.002206\n2013-01-02  0.715511 -1.972082  0.207908 -1.671683\n2013-01-03  0.705381 -1.238039 -0.670988 -0.129216\n2013-01-04 -0.736708 -0.526270  0.650298 -0.677765\n2013-01-05  0.005082  1.114874 -1.184721  0.000949\n2013-01-06 -0.644047 -1.721134 -1.436965  0.436768>"
     },
     "metadata": {},
     "execution_count": 6
    }
   ],
   "source": [
    "# 查看df的数据统计描述。\n",
    "df.describe"
   ]
  },
  {
   "cell_type": "code",
   "execution_count": 7,
   "metadata": {
    "tags": []
   },
   "outputs": [
    {
     "output_type": "stream",
     "name": "stdout",
     "text": "2013-01-01  2013-01-02  2013-01-03  2013-01-04  2013-01-05  2013-01-06\nA   -1.978766    0.715511    0.705381   -0.736708    0.005082   -0.644047\nB   -0.046000   -1.972082   -1.238039   -0.526270    1.114874   -1.721134\nC    0.990330    0.207908   -0.670988    0.650298   -1.184721   -1.436965\nD    0.002206   -1.671683   -0.129216   -0.677765    0.000949    0.436768\n"
    }
   ],
   "source": [
    "# df的转置。\n",
    "print(df.T)"
   ]
  },
  {
   "cell_type": "code",
   "execution_count": 8,
   "metadata": {},
   "outputs": [
    {
     "output_type": "execute_result",
     "data": {
      "text/plain": "                   A         B         C         D\n2013-01-01 -1.978766 -0.046000  0.990330  0.002206\n2013-01-02  0.715511 -1.972082  0.207908 -1.671683\n2013-01-03  0.705381 -1.238039 -0.670988 -0.129216\n2013-01-04 -0.736708 -0.526270  0.650298 -0.677765\n2013-01-05  0.005082  1.114874 -1.184721  0.000949\n2013-01-06 -0.644047 -1.721134 -1.436965  0.436768",
      "text/html": "<div>\n<style scoped>\n    .dataframe tbody tr th:only-of-type {\n        vertical-align: middle;\n    }\n\n    .dataframe tbody tr th {\n        vertical-align: top;\n    }\n\n    .dataframe thead th {\n        text-align: right;\n    }\n</style>\n<table border=\"1\" class=\"dataframe\">\n  <thead>\n    <tr style=\"text-align: right;\">\n      <th></th>\n      <th>A</th>\n      <th>B</th>\n      <th>C</th>\n      <th>D</th>\n    </tr>\n  </thead>\n  <tbody>\n    <tr>\n      <th>2013-01-01</th>\n      <td>-1.978766</td>\n      <td>-0.046000</td>\n      <td>0.990330</td>\n      <td>0.002206</td>\n    </tr>\n    <tr>\n      <th>2013-01-02</th>\n      <td>0.715511</td>\n      <td>-1.972082</td>\n      <td>0.207908</td>\n      <td>-1.671683</td>\n    </tr>\n    <tr>\n      <th>2013-01-03</th>\n      <td>0.705381</td>\n      <td>-1.238039</td>\n      <td>-0.670988</td>\n      <td>-0.129216</td>\n    </tr>\n    <tr>\n      <th>2013-01-04</th>\n      <td>-0.736708</td>\n      <td>-0.526270</td>\n      <td>0.650298</td>\n      <td>-0.677765</td>\n    </tr>\n    <tr>\n      <th>2013-01-05</th>\n      <td>0.005082</td>\n      <td>1.114874</td>\n      <td>-1.184721</td>\n      <td>0.000949</td>\n    </tr>\n    <tr>\n      <th>2013-01-06</th>\n      <td>-0.644047</td>\n      <td>-1.721134</td>\n      <td>-1.436965</td>\n      <td>0.436768</td>\n    </tr>\n  </tbody>\n</table>\n</div>"
     },
     "metadata": {},
     "execution_count": 8
    }
   ],
   "source": [
    "# 按axis对df数据进行排序，axis=1表示按行排序，axis=0表示按列排序。\n",
    "df.sort_index(axis=1,ascending=True)"
   ]
  },
  {
   "cell_type": "code",
   "execution_count": 9,
   "metadata": {},
   "outputs": [
    {
     "output_type": "execute_result",
     "data": {
      "text/plain": "                   A         B         C         D\n2013-01-02  0.715511 -1.972082  0.207908 -1.671683\n2013-01-06 -0.644047 -1.721134 -1.436965  0.436768\n2013-01-03  0.705381 -1.238039 -0.670988 -0.129216\n2013-01-04 -0.736708 -0.526270  0.650298 -0.677765\n2013-01-01 -1.978766 -0.046000  0.990330  0.002206\n2013-01-05  0.005082  1.114874 -1.184721  0.000949",
      "text/html": "<div>\n<style scoped>\n    .dataframe tbody tr th:only-of-type {\n        vertical-align: middle;\n    }\n\n    .dataframe tbody tr th {\n        vertical-align: top;\n    }\n\n    .dataframe thead th {\n        text-align: right;\n    }\n</style>\n<table border=\"1\" class=\"dataframe\">\n  <thead>\n    <tr style=\"text-align: right;\">\n      <th></th>\n      <th>A</th>\n      <th>B</th>\n      <th>C</th>\n      <th>D</th>\n    </tr>\n  </thead>\n  <tbody>\n    <tr>\n      <th>2013-01-02</th>\n      <td>0.715511</td>\n      <td>-1.972082</td>\n      <td>0.207908</td>\n      <td>-1.671683</td>\n    </tr>\n    <tr>\n      <th>2013-01-06</th>\n      <td>-0.644047</td>\n      <td>-1.721134</td>\n      <td>-1.436965</td>\n      <td>0.436768</td>\n    </tr>\n    <tr>\n      <th>2013-01-03</th>\n      <td>0.705381</td>\n      <td>-1.238039</td>\n      <td>-0.670988</td>\n      <td>-0.129216</td>\n    </tr>\n    <tr>\n      <th>2013-01-04</th>\n      <td>-0.736708</td>\n      <td>-0.526270</td>\n      <td>0.650298</td>\n      <td>-0.677765</td>\n    </tr>\n    <tr>\n      <th>2013-01-01</th>\n      <td>-1.978766</td>\n      <td>-0.046000</td>\n      <td>0.990330</td>\n      <td>0.002206</td>\n    </tr>\n    <tr>\n      <th>2013-01-05</th>\n      <td>0.005082</td>\n      <td>1.114874</td>\n      <td>-1.184721</td>\n      <td>0.000949</td>\n    </tr>\n  </tbody>\n</table>\n</div>"
     },
     "metadata": {},
     "execution_count": 9
    }
   ],
   "source": [
    "# 按value对df数据进行排序。\n",
    "df.sort_values(by='B')  "
   ]
  },
  {
   "cell_type": "markdown",
   "metadata": {},
   "source": [
    "Selection查看操作"
   ]
  },
  {
   "cell_type": "code",
   "execution_count": 10,
   "metadata": {
    "tags": []
   },
   "outputs": [
    {
     "output_type": "stream",
     "name": "stdout",
     "text": "2013-01-01   -1.978766\n2013-01-02    0.715511\n2013-01-03    0.705381\n2013-01-04   -0.736708\n2013-01-05    0.005082\n2013-01-06   -0.644047\nFreq: D, Name: A, dtype: float64\n"
    }
   ],
   "source": [
    "# 查看df中的A列，返回一个Series。\n",
    "print(df['A'])"
   ]
  },
  {
   "cell_type": "code",
   "execution_count": 11,
   "metadata": {
    "tags": []
   },
   "outputs": [
    {
     "output_type": "stream",
     "name": "stdout",
     "text": "A         B         C         D\n2013-01-01 -1.978766 -0.046000  0.990330  0.002206\n2013-01-02  0.715511 -1.972082  0.207908 -1.671683\n2013-01-03  0.705381 -1.238039 -0.670988 -0.129216\n"
    }
   ],
   "source": [
    "# 通过[]查看df 的行片段。\n",
    "print(df[0:3])"
   ]
  },
  {
   "cell_type": "markdown",
   "metadata": {},
   "source": [
    "通过label查看df数据"
   ]
  },
  {
   "cell_type": "code",
   "execution_count": 12,
   "metadata": {},
   "outputs": [
    {
     "output_type": "execute_result",
     "data": {
      "text/plain": "A    0.715511\nB   -1.972082\nC    0.207908\nD   -1.671683\nName: 2013-01-02 00:00:00, dtype: float64"
     },
     "metadata": {},
     "execution_count": 12
    }
   ],
   "source": [
    "# 使用loc查看df中dates0的部分。\n",
    "df.loc[dates[1]]  "
   ]
  },
  {
   "cell_type": "code",
   "execution_count": 13,
   "metadata": {
    "tags": []
   },
   "outputs": [
    {
     "output_type": "stream",
     "name": "stdout",
     "text": "A         B\n2013-01-01 -1.978766 -0.046000\n2013-01-02  0.715511 -1.972082\n2013-01-03  0.705381 -1.238039\n2013-01-04 -0.736708 -0.526270\n2013-01-05  0.005082  1.114874\n2013-01-06 -0.644047 -1.721134\n"
    }
   ],
   "source": [
    "# 使用loc查看A、B两列的值\n",
    "print(df.loc[:,['A','B']])"
   ]
  },
  {
   "cell_type": "code",
   "execution_count": 14,
   "metadata": {
    "tags": []
   },
   "outputs": [
    {
     "output_type": "stream",
     "name": "stdout",
     "text": "A         B\n2013-01-02  0.715511 -1.972082\n2013-01-03  0.705381 -1.238039\n2013-01-04 -0.736708 -0.526270\n"
    }
   ],
   "source": [
    "# 使用loc查看日期从20130102到20130104的A,B量列的值。\n",
    "print(df.loc['20130102':'20130104',['A','B']])  "
   ]
  },
  {
   "cell_type": "code",
   "execution_count": 15,
   "metadata": {
    "tags": []
   },
   "outputs": [
    {
     "output_type": "stream",
     "name": "stdout",
     "text": "A         B\n2013-01-01 -1.978766 -0.046000\n2013-01-02  0.715511 -1.972082\n"
    }
   ],
   "source": [
    "print(df.loc[dates[0:2],['A','B']])  "
   ]
  },
  {
   "cell_type": "code",
   "execution_count": 16,
   "metadata": {},
   "outputs": [
    {
     "output_type": "execute_result",
     "data": {
      "text/plain": "A    0.715511\nB   -1.972082\nName: 2013-01-02 00:00:00, dtype: float64"
     },
     "metadata": {},
     "execution_count": 16
    }
   ],
   "source": [
    "# 减少维度，查看日期为20130102中A,B两列的值。\n",
    "df.loc['20130102',['A','B']]"
   ]
  },
  {
   "cell_type": "code",
   "execution_count": 17,
   "metadata": {},
   "outputs": [
    {
     "output_type": "execute_result",
     "data": {
      "text/plain": "-1.9787656117044334"
     },
     "metadata": {},
     "execution_count": 17
    }
   ],
   "source": [
    "# 得到一个标量值，使用loc查看df中date[0],A列的值。\n",
    "df.loc[dates[0],'A']"
   ]
  },
  {
   "cell_type": "code",
   "execution_count": 18,
   "metadata": {},
   "outputs": [
    {
     "output_type": "execute_result",
     "data": {
      "text/plain": "-1.9787656117044334"
     },
     "metadata": {},
     "execution_count": 18
    }
   ],
   "source": [
    "# 使用at快速查找df中dates[0],A列的值。\n",
    "df.at[dates[0],'A']"
   ]
  },
  {
   "cell_type": "markdown",
   "metadata": {},
   "source": [
    "通过位置查看df数据"
   ]
  },
  {
   "cell_type": "code",
   "execution_count": 19,
   "metadata": {
    "tags": []
   },
   "outputs": [
    {
     "output_type": "stream",
     "name": "stdout",
     "text": "A   -0.736708\nB   -0.526270\nC    0.650298\nD   -0.677765\nName: 2013-01-04 00:00:00, dtype: float64\n"
    }
   ],
   "source": [
    "# 使用iloc查看df的第4行数据。\n",
    "print(df.iloc[3])  "
   ]
  },
  {
   "cell_type": "code",
   "execution_count": 20,
   "metadata": {
    "tags": []
   },
   "outputs": [
    {
     "output_type": "stream",
     "name": "stdout",
     "text": "A         B\n2013-01-04 -0.736708 -0.526270\n2013-01-05  0.005082  1.114874\n"
    }
   ],
   "source": [
    "# 使用iloc查看df中行下标为3:5，列下标为0:2的数据（不包含行下标为5的行，也不包含列下标为2的列）。\n",
    "print(df.iloc[3:5,0:2])  "
   ]
  },
  {
   "cell_type": "code",
   "execution_count": 21,
   "metadata": {
    "tags": []
   },
   "outputs": [
    {
     "output_type": "stream",
     "name": "stdout",
     "text": "A         C\n2013-01-02  0.715511  0.207908\n2013-01-03  0.705381 -0.670988\n2013-01-05  0.005082 -1.184721\n"
    }
   ],
   "source": [
    "# 使用iloc查看df中行下标为1,2,4，列下标为0,2的数据。\n",
    "print(df.iloc[[1,2,4],[0,2]])  "
   ]
  },
  {
   "cell_type": "code",
   "execution_count": 22,
   "metadata": {
    "tags": []
   },
   "outputs": [
    {
     "output_type": "stream",
     "name": "stdout",
     "text": "A         B         C         D\n2013-01-02  0.715511 -1.972082  0.207908 -1.671683\n2013-01-03  0.705381 -1.238039 -0.670988 -0.129216\n"
    }
   ],
   "source": [
    "# 使用iloc查看df行下标为1:3的数据（不包含下标为3的行）。\n",
    "print(df.iloc[1:3,:])  "
   ]
  },
  {
   "cell_type": "code",
   "execution_count": 23,
   "metadata": {
    "tags": []
   },
   "outputs": [
    {
     "output_type": "stream",
     "name": "stdout",
     "text": "-1.9720816918963442\n"
    }
   ],
   "source": [
    "# 使用iloc查看df行列下标都为1的值。\n",
    "print(df.iloc[1,1])  "
   ]
  },
  {
   "cell_type": "code",
   "execution_count": 24,
   "metadata": {
    "tags": []
   },
   "outputs": [
    {
     "output_type": "stream",
     "name": "stdout",
     "text": "-1.9720816918963442\n"
    }
   ],
   "source": [
    "# 使用iat方法快速查看df中行列下标均为1的值。\n",
    "print(df.iat[1,1])  "
   ]
  },
  {
   "cell_type": "markdown",
   "metadata": {},
   "source": [
    "使用布尔索引查看df的数据"
   ]
  },
  {
   "cell_type": "code",
   "execution_count": 25,
   "metadata": {
    "tags": []
   },
   "outputs": [
    {
     "output_type": "stream",
     "name": "stdout",
     "text": "A         B         C         D\n2013-01-02  0.715511 -1.972082  0.207908 -1.671683\n2013-01-03  0.705381 -1.238039 -0.670988 -0.129216\n2013-01-05  0.005082  1.114874 -1.184721  0.000949\n"
    }
   ],
   "source": [
    "# 查看df中满足df.A>0布尔条件的值。\n",
    "print(df[df.A>0])  "
   ]
  },
  {
   "cell_type": "code",
   "execution_count": 26,
   "metadata": {
    "tags": []
   },
   "outputs": [
    {
     "output_type": "stream",
     "name": "stdout",
     "text": "A         B         C         D\n2013-01-01       NaN       NaN  0.990330  0.002206\n2013-01-02  0.715511       NaN  0.207908       NaN\n2013-01-03  0.705381       NaN       NaN       NaN\n2013-01-04       NaN       NaN  0.650298       NaN\n2013-01-05  0.005082  1.114874       NaN  0.000949\n2013-01-06       NaN       NaN       NaN  0.436768\n"
    }
   ],
   "source": [
    "# 查看df中满足df>0布尔条件的值。\n",
    "print(df[df>0])"
   ]
  },
  {
   "cell_type": "code",
   "execution_count": 27,
   "metadata": {},
   "outputs": [
    {
     "output_type": "execute_result",
     "data": {
      "text/plain": "                   A         B         C         D\n2013-01-01 -1.978766 -0.046000  0.990330  0.002206\n2013-01-02  0.715511 -1.972082  0.207908 -1.671683\n2013-01-03  0.705381 -1.238039 -0.670988 -0.129216\n2013-01-04 -0.736708 -0.526270  0.650298 -0.677765\n2013-01-05  0.005082  1.114874 -1.184721  0.000949\n2013-01-06 -0.644047 -1.721134 -1.436965  0.436768",
      "text/html": "<div>\n<style scoped>\n    .dataframe tbody tr th:only-of-type {\n        vertical-align: middle;\n    }\n\n    .dataframe tbody tr th {\n        vertical-align: top;\n    }\n\n    .dataframe thead th {\n        text-align: right;\n    }\n</style>\n<table border=\"1\" class=\"dataframe\">\n  <thead>\n    <tr style=\"text-align: right;\">\n      <th></th>\n      <th>A</th>\n      <th>B</th>\n      <th>C</th>\n      <th>D</th>\n    </tr>\n  </thead>\n  <tbody>\n    <tr>\n      <th>2013-01-01</th>\n      <td>-1.978766</td>\n      <td>-0.046000</td>\n      <td>0.990330</td>\n      <td>0.002206</td>\n    </tr>\n    <tr>\n      <th>2013-01-02</th>\n      <td>0.715511</td>\n      <td>-1.972082</td>\n      <td>0.207908</td>\n      <td>-1.671683</td>\n    </tr>\n    <tr>\n      <th>2013-01-03</th>\n      <td>0.705381</td>\n      <td>-1.238039</td>\n      <td>-0.670988</td>\n      <td>-0.129216</td>\n    </tr>\n    <tr>\n      <th>2013-01-04</th>\n      <td>-0.736708</td>\n      <td>-0.526270</td>\n      <td>0.650298</td>\n      <td>-0.677765</td>\n    </tr>\n    <tr>\n      <th>2013-01-05</th>\n      <td>0.005082</td>\n      <td>1.114874</td>\n      <td>-1.184721</td>\n      <td>0.000949</td>\n    </tr>\n    <tr>\n      <th>2013-01-06</th>\n      <td>-0.644047</td>\n      <td>-1.721134</td>\n      <td>-1.436965</td>\n      <td>0.436768</td>\n    </tr>\n  </tbody>\n</table>\n</div>"
     },
     "metadata": {},
     "execution_count": 27
    }
   ],
   "source": [
    "# 使用copy方法赋值df给df2，为df2添加列名为E，值为['one', 'one','two','three','four','three']的列，再使用isin()方法过滤出df中满足df2.E在['two','four']的数据。\n",
    "df2=df.copy()\n",
    "df2"
   ]
  },
  {
   "cell_type": "code",
   "execution_count": 28,
   "metadata": {},
   "outputs": [
    {
     "output_type": "execute_result",
     "data": {
      "text/plain": "                   A         B         C         D\n2013-01-03  0.705381 -1.238039 -0.670988 -0.129216\n2013-01-05  0.005082  1.114874 -1.184721  0.000949",
      "text/html": "<div>\n<style scoped>\n    .dataframe tbody tr th:only-of-type {\n        vertical-align: middle;\n    }\n\n    .dataframe tbody tr th {\n        vertical-align: top;\n    }\n\n    .dataframe thead th {\n        text-align: right;\n    }\n</style>\n<table border=\"1\" class=\"dataframe\">\n  <thead>\n    <tr style=\"text-align: right;\">\n      <th></th>\n      <th>A</th>\n      <th>B</th>\n      <th>C</th>\n      <th>D</th>\n    </tr>\n  </thead>\n  <tbody>\n    <tr>\n      <th>2013-01-03</th>\n      <td>0.705381</td>\n      <td>-1.238039</td>\n      <td>-0.670988</td>\n      <td>-0.129216</td>\n    </tr>\n    <tr>\n      <th>2013-01-05</th>\n      <td>0.005082</td>\n      <td>1.114874</td>\n      <td>-1.184721</td>\n      <td>0.000949</td>\n    </tr>\n  </tbody>\n</table>\n</div>"
     },
     "metadata": {},
     "execution_count": 28
    }
   ],
   "source": [
    "df2['E']=['one', 'one','two','three','four','three']  \n",
    "df[df2['E'].isin(['two','four'])]  "
   ]
  }
 ],
 "metadata": {
  "kernelspec": {
   "display_name": "Python 3.7.8 64-bit ('venv1': venv)",
   "name": "python_defaultSpec_1597581894775"
  },
  "language_info": {
   "codemirror_mode": {
    "name": "ipython",
    "version": 3
   },
   "file_extension": ".py",
   "mimetype": "text/x-python",
   "name": "python",
   "nbconvert_exporter": "python",
   "pygments_lexer": "ipython3",
   "version": "3.7.8-final"
  }
 },
 "nbformat": 4,
 "nbformat_minor": 2
}