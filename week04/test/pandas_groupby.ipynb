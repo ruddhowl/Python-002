{
 "metadata": {
  "language_info": {
   "codemirror_mode": {
    "name": "ipython",
    "version": 3
   },
   "file_extension": ".py",
   "mimetype": "text/x-python",
   "name": "python",
   "nbconvert_exporter": "python",
   "pygments_lexer": "ipython3",
   "version": "3.7.8-final"
  },
  "orig_nbformat": 2,
  "kernelspec": {
   "name": "python_defaultSpec_1597568190657",
   "display_name": "Python 3.7.8 64-bit ('venv1': venv)"
  }
 },
 "nbformat": 4,
 "nbformat_minor": 2,
 "cells": [
  {
   "source": [
    "# pandas——groupby操作\n",
    "实验目的：熟练掌握pandas中的groupby操作"
   ],
   "cell_type": "markdown",
   "metadata": {}
  },
  {
   "source": [
    "groupby(by=None, axis=0, level=None, as_index=True, sort=True, group_keys=True, squeeze=False）\n",
    "\n",
    "参数说明：\n",
    "\n",
    "by是指分组依据（列表、字典、函数，元组，Series）\n",
    "\n",
    "axis：是作用维度（0为行，1为列）\n",
    "\n",
    "level：根据索引级别分组\n",
    "\n",
    "sort：对groupby分组后新的dataframe中索引进行排序，sort=True为升序，\n",
    "\n",
    "as_index：在groupby中使用的键是否成为新的dataframe中的索引，默认as_index=True\n",
    "\n",
    "group_keys：在调用apply时，将group键添加到索引中以识别片段\n",
    "\n",
    "squeeze ：如果可能的话，减少返回类型的维数，否则返回一个一致的类型\n",
    "\n",
    "grouping操作（split-apply-combine）\n",
    "\n",
    "数据的分组&聚合 -- 什么是groupby 技术?\n",
    "\n",
    "在数据分析中，我们往往需要在将数据拆分，在每一个特定的组里进行运算。比如根据教育水平和年龄段计算某个城市的工作人口的平均收入。\n",
    "\n",
    "pandas中的groupby提供了一个高效的数据的分组运算。\n",
    "\n",
    "我们通过一个或者多个分类变量将数据拆分，然后分别在拆分以后的数据上进行需要的计算\n",
    "\n",
    "我们可以把上述过程理解为三部：\n",
    "\n",
    "1.拆分数据（split） \n",
    "\n",
    "2.应用某个函数（apply） \n",
    "\n",
    "3.汇总计算结果（aggregate）\n",
    "\n",
    "下面这个演示图展示了“分拆-应用-汇总”的groupby思想"
   ],
   "cell_type": "markdown",
   "metadata": {}
  },
  {
   "source": [
    "“分拆-应用-汇总”的groupby思想\n",
    "\n",
    "分解步骤：\n",
    "\n",
    "Step1 ：数据分组—— groupby 方法\n",
    "\n",
    "Step2 ：数据聚合：\n",
    "\n",
    "     使用内置函数——sum / mean / max / min / count等\n",
    "\n",
    "     使用自定义函数—— agg ( aggregate ) 方法\n",
    "\n",
    "     自定义更丰富的分组运算—— apply 方法\n"
   ],
   "cell_type": "markdown",
   "metadata": {}
  },
  {
   "cell_type": "code",
   "execution_count": 2,
   "metadata": {
    "tags": []
   },
   "outputs": [
    {
     "output_type": "stream",
     "name": "stdout",
     "text": "A      B         C         D\n0  foo    one -0.226287 -1.593580\n1  bar    one  0.812658 -0.308767\n2  foo    two -0.785831  0.976460\n3  bar  three  0.479241 -0.043474\n4  foo    two  1.770236 -0.211644\n5  bar    two  0.644075 -0.896903\n6  foo    one -0.174470  0.864171\n7  foo  three -0.303078 -0.180676\n"
    }
   ],
   "source": [
    "# 创建一个数据帧df。\n",
    "import numpy as np  \n",
    "import pandas as pd  \n",
    "df = pd.DataFrame({'A' : ['foo', 'bar', 'foo', 'bar', 'foo', 'bar', 'foo', 'foo'],'B' : ['one', 'one', 'two', 'three', 'two', 'two', 'one', 'three'],'C' : np.random.randn(8),'D' : np.random.randn(8)})  \n",
    "print(df)  "
   ]
  },
  {
   "source": [
    "## 分组"
   ],
   "cell_type": "markdown",
   "metadata": {}
  },
  {
   "cell_type": "code",
   "execution_count": 3,
   "metadata": {},
   "outputs": [
    {
     "output_type": "execute_result",
     "data": {
      "text/plain": "<pandas.core.groupby.generic.DataFrameGroupBy object at 0x000001829E341208>"
     },
     "metadata": {},
     "execution_count": 3
    }
   ],
   "source": [
    "# 通过A列对df进行分布操作。\n",
    "df.groupby('A')  "
   ]
  },
  {
   "cell_type": "code",
   "execution_count": 4,
   "metadata": {},
   "outputs": [
    {
     "output_type": "execute_result",
     "data": {
      "text/plain": "<pandas.core.groupby.generic.DataFrameGroupBy object at 0x000001829E351188>"
     },
     "metadata": {},
     "execution_count": 4
    }
   ],
   "source": [
    "# 通过A、B列对df进行分组操作。\n",
    "df.groupby(['A','B']) "
   ]
  },
  {
   "cell_type": "code",
   "execution_count": 5,
   "metadata": {
    "tags": []
   },
   "outputs": [
    {
     "output_type": "stream",
     "name": "stdout",
     "text": "('consonant',        B         C         D\n0    one -0.226287 -1.593580\n1    one  0.812658 -0.308767\n2    two -0.785831  0.976460\n3  three  0.479241 -0.043474\n4    two  1.770236 -0.211644\n5    two  0.644075 -0.896903\n6    one -0.174470  0.864171\n7  three -0.303078 -0.180676)\n('vowel',      A\n0  foo\n1  bar\n2  foo\n3  bar\n4  foo\n5  bar\n6  foo\n7  foo)\n"
    }
   ],
   "source": [
    "# 使用自定义函数进行分组操作，自定义一个函数，使用groupby方法并使用自定义函数给定的条件，按列对df进行分组。\n",
    "def get_letter_type(letter):  \n",
    "    if letter.lower() in 'aeiou':  \n",
    "        return 'vowel'  \n",
    "    else:  \n",
    "        return 'consonant'  \n",
    "  \n",
    "grouped = df.groupby(get_letter_type, axis=1)  \n",
    "for group in grouped:  \n",
    "    print(group)  "
   ]
  },
  {
   "cell_type": "code",
   "execution_count": 8,
   "metadata": {},
   "outputs": [
    {
     "output_type": "execute_result",
     "data": {
      "text/plain": "1    1\n2    2\n3    3\ndtype: int64"
     },
     "metadata": {},
     "execution_count": 8
    }
   ],
   "source": [
    "# 创建一个Series名为s，使用groupby根据s的索引对s进行分组，返回分组后的新Series，对新Series进行first、last、sum操作。\n",
    "lst = [1, 2, 3, 1, 2, 3]  \n",
    "s = pd.Series([1, 2, 3, 10, 20, 30], lst)  \n",
    "grouped = s.groupby(level=0)  \n",
    "#查看分组后的第一行数据 \n",
    "grouped.first()   "
   ]
  },
  {
   "cell_type": "code",
   "execution_count": 9,
   "metadata": {},
   "outputs": [
    {
     "output_type": "execute_result",
     "data": {
      "text/plain": "1    10\n2    20\n3    30\ndtype: int64"
     },
     "metadata": {},
     "execution_count": 9
    }
   ],
   "source": [
    "#查看分组后的最后一行数据  \n",
    "grouped.last()  "
   ]
  },
  {
   "cell_type": "code",
   "execution_count": 10,
   "metadata": {},
   "outputs": [
    {
     "output_type": "execute_result",
     "data": {
      "text/plain": "1    11\n2    22\n3    33\ndtype: int64"
     },
     "metadata": {},
     "execution_count": 10
    }
   ],
   "source": [
    "#对分组的各组进行求和  \n",
    "grouped.sum()  "
   ]
  },
  {
   "cell_type": "code",
   "execution_count": 11,
   "metadata": {},
   "outputs": [
    {
     "output_type": "execute_result",
     "data": {
      "text/plain": "   Y\nX   \nA  7\nB  3",
      "text/html": "<div>\n<style scoped>\n    .dataframe tbody tr th:only-of-type {\n        vertical-align: middle;\n    }\n\n    .dataframe tbody tr th {\n        vertical-align: top;\n    }\n\n    .dataframe thead th {\n        text-align: right;\n    }\n</style>\n<table border=\"1\" class=\"dataframe\">\n  <thead>\n    <tr style=\"text-align: right;\">\n      <th></th>\n      <th>Y</th>\n    </tr>\n    <tr>\n      <th>X</th>\n      <th></th>\n    </tr>\n  </thead>\n  <tbody>\n    <tr>\n      <th>A</th>\n      <td>7</td>\n    </tr>\n    <tr>\n      <th>B</th>\n      <td>3</td>\n    </tr>\n  </tbody>\n</table>\n</div>"
     },
     "metadata": {},
     "execution_count": 11
    }
   ],
   "source": [
    "# 分组排序，使用groupby进行分组时，默认是按分组后索引进行升序排列，在groupby方法中加入sort=False参数，可以进行降序排列。\n",
    "df2=pd.DataFrame({'X':['B','B','A','A'],'Y':[1,2,3,4]})  \n",
    "#按X列对df2进行分组，并求每组的和  \n",
    "df2.groupby(['X']).sum()  "
   ]
  },
  {
   "cell_type": "code",
   "execution_count": 12,
   "metadata": {},
   "outputs": [
    {
     "output_type": "execute_result",
     "data": {
      "text/plain": "   Y\nX   \nB  3\nA  7",
      "text/html": "<div>\n<style scoped>\n    .dataframe tbody tr th:only-of-type {\n        vertical-align: middle;\n    }\n\n    .dataframe tbody tr th {\n        vertical-align: top;\n    }\n\n    .dataframe thead th {\n        text-align: right;\n    }\n</style>\n<table border=\"1\" class=\"dataframe\">\n  <thead>\n    <tr style=\"text-align: right;\">\n      <th></th>\n      <th>Y</th>\n    </tr>\n    <tr>\n      <th>X</th>\n      <th></th>\n    </tr>\n  </thead>\n  <tbody>\n    <tr>\n      <th>B</th>\n      <td>3</td>\n    </tr>\n    <tr>\n      <th>A</th>\n      <td>7</td>\n    </tr>\n  </tbody>\n</table>\n</div>"
     },
     "metadata": {},
     "execution_count": 12
    }
   ],
   "source": [
    "#按X列对df2进行分组，分组时不对键进行排序，并求每组的和  \n",
    "df2.groupby(['X'],sort=False).sum()  "
   ]
  },
  {
   "cell_type": "code",
   "execution_count": 13,
   "metadata": {},
   "outputs": [
    {
     "output_type": "execute_result",
     "data": {
      "text/plain": "   X  Y\n0  A  1\n2  A  3",
      "text/html": "<div>\n<style scoped>\n    .dataframe tbody tr th:only-of-type {\n        vertical-align: middle;\n    }\n\n    .dataframe tbody tr th {\n        vertical-align: top;\n    }\n\n    .dataframe thead th {\n        text-align: right;\n    }\n</style>\n<table border=\"1\" class=\"dataframe\">\n  <thead>\n    <tr style=\"text-align: right;\">\n      <th></th>\n      <th>X</th>\n      <th>Y</th>\n    </tr>\n  </thead>\n  <tbody>\n    <tr>\n      <th>0</th>\n      <td>A</td>\n      <td>1</td>\n    </tr>\n    <tr>\n      <th>2</th>\n      <td>A</td>\n      <td>3</td>\n    </tr>\n  </tbody>\n</table>\n</div>"
     },
     "metadata": {},
     "execution_count": 13
    }
   ],
   "source": [
    "# 使用get_group方法得到分组后某组的值。\n",
    "df3 = pd.DataFrame({'X' : ['A', 'B', 'A', 'B'], 'Y' : [1, 4, 3, 2]})  \n",
    "#按X列df3进行分组，并得到A组的df3值  \n",
    "df3.groupby(['X']).get_group('A')  "
   ]
  },
  {
   "cell_type": "code",
   "execution_count": 14,
   "metadata": {},
   "outputs": [
    {
     "output_type": "execute_result",
     "data": {
      "text/plain": "   X  Y\n1  B  4\n3  B  2",
      "text/html": "<div>\n<style scoped>\n    .dataframe tbody tr th:only-of-type {\n        vertical-align: middle;\n    }\n\n    .dataframe tbody tr th {\n        vertical-align: top;\n    }\n\n    .dataframe thead th {\n        text-align: right;\n    }\n</style>\n<table border=\"1\" class=\"dataframe\">\n  <thead>\n    <tr style=\"text-align: right;\">\n      <th></th>\n      <th>X</th>\n      <th>Y</th>\n    </tr>\n  </thead>\n  <tbody>\n    <tr>\n      <th>1</th>\n      <td>B</td>\n      <td>4</td>\n    </tr>\n    <tr>\n      <th>3</th>\n      <td>B</td>\n      <td>2</td>\n    </tr>\n  </tbody>\n</table>\n</div>"
     },
     "metadata": {},
     "execution_count": 14
    }
   ],
   "source": [
    "#按X列df3进行分组，并得到B组的df3值  \n",
    "df3.groupby(['X']).get_group('B') "
   ]
  },
  {
   "cell_type": "code",
   "execution_count": 15,
   "metadata": {},
   "outputs": [
    {
     "output_type": "execute_result",
     "data": {
      "text/plain": "{'bar': Int64Index([1, 3, 5], dtype='int64'),\n 'foo': Int64Index([0, 2, 4, 6, 7], dtype='int64')}"
     },
     "metadata": {},
     "execution_count": 15
    }
   ],
   "source": [
    "# 使用groups方法得到分组后所有组的值。\n",
    "df.groupby('A').groups  "
   ]
  },
  {
   "cell_type": "code",
   "execution_count": 16,
   "metadata": {},
   "outputs": [
    {
     "output_type": "execute_result",
     "data": {
      "text/plain": "{('bar', 'one'): Int64Index([1], dtype='int64'),\n ('bar', 'three'): Int64Index([3], dtype='int64'),\n ('bar', 'two'): Int64Index([5], dtype='int64'),\n ('foo', 'one'): Int64Index([0, 6], dtype='int64'),\n ('foo', 'three'): Int64Index([7], dtype='int64'),\n ('foo', 'two'): Int64Index([2, 4], dtype='int64')}"
     },
     "metadata": {},
     "execution_count": 16
    }
   ],
   "source": [
    "df.groupby(['A','B']).groups  "
   ]
  },
  {
   "source": [
    "查看分组对象的所有内置函数"
   ],
   "cell_type": "markdown",
   "metadata": {}
  },
  {
   "cell_type": "code",
   "execution_count": 18,
   "metadata": {},
   "outputs": [
    {
     "output_type": "execute_result",
     "data": {
      "text/plain": "<pandas.core.groupby.generic.DataFrameGroupBy object at 0x000001829F125748>"
     },
     "metadata": {},
     "execution_count": 18
    }
   ],
   "source": [
    "# 使用groupby方法按A列对df进行分组操作，将结果赋值给grouped。\n",
    "grouped=df.groupby(['A']) \n",
    "grouped "
   ]
  },
  {
   "source": [
    "分组对象的所有的内置函数如下所示：\n",
    "\n",
    "grouped.agg        grouped.boxplot    grouped.cummin     grouped.describe   grouped.filter     grouped.get_group  grouped.height     grouped.last       grouped.median     grouped.ngroups    grouped.plot       grouped.rank       grouped.std        grouped.transform  \n",
    "\n",
    "grouped.aggregate  grouped.count      grouped.cumprod    grouped.dtype      grouped.first      grouped.groups     grouped.hist       grouped.max        grouped.min        grouped.nth        grouped.prod       grouped.resample   grouped.sum        grouped.var  \n",
    "\n",
    "grouped.apply      grouped.cummax     grouped.cumsum     grouped.fillna     grouped.gender     grouped.head       grouped.indices    grouped.mean       grouped.name       grouped.ohlc       grouped.quantile   grouped.size       grouped.tail       grouped.weight  "
   ],
   "cell_type": "markdown",
   "metadata": {}
  },
  {
   "cell_type": "code",
   "execution_count": 20,
   "metadata": {},
   "outputs": [
    {
     "output_type": "execute_result",
     "data": {
      "text/plain": "first\nbar   -2.611396\nbaz    1.048773\nfoo    0.861719\nqux   -3.110721\ndtype: float64"
     },
     "metadata": {},
     "execution_count": 20
    }
   ],
   "source": [
    "# 多级索引分组，创建一个有两级索引的Series，并使用两个方法对Series进行分组并求和。\n",
    "arrays = [['bar', 'bar', 'baz', 'baz', 'foo', 'foo', 'qux', 'qux'],['one', 'two', 'one', 'two', 'one', 'two', 'one', 'two']]  \n",
    "index=pd.MultiIndex.from_arrays(arrays,names=['first','second'])  \n",
    "s=pd.Series(np.random.randn(8),index=index)  \n",
    "s.groupby(level=0).sum()  "
   ]
  },
  {
   "cell_type": "code",
   "execution_count": 21,
   "metadata": {},
   "outputs": [
    {
     "output_type": "execute_result",
     "data": {
      "text/plain": "second\none   -1.360378\ntwo   -2.451247\ndtype: float64"
     },
     "metadata": {},
     "execution_count": 21
    }
   ],
   "source": [
    "s.groupby(level='second').sum()  "
   ]
  },
  {
   "cell_type": "code",
   "execution_count": 22,
   "metadata": {},
   "outputs": [
    {
     "output_type": "execute_result",
     "data": {
      "text/plain": "first  second\nbar    one      -1.377482\n       two      -1.233914\nbaz    one       0.361194\n       two       0.687579\nfoo    one       1.199412\n       two      -0.337693\nqux    one      -1.543502\n       two      -1.567219\ndtype: float64"
     },
     "metadata": {},
     "execution_count": 22
    }
   ],
   "source": [
    "# 复合分组，对s按first、second进行分组并求和。\n",
    "s.groupby(level=['first', 'second']).sum()"
   ]
  },
  {
   "cell_type": "code",
   "execution_count": 24,
   "metadata": {
    "tags": []
   },
   "outputs": [
    {
     "output_type": "stream",
     "name": "stdout",
     "text": "A  B\nfirst second      \nbar   one     1  0\n      two     1  1\nbaz   one     1  2\n      two     1  3\nfoo   one     2  4\n      two     2  5\nqux   one     3  6\n      two     3  7\n"
    }
   ],
   "source": [
    "# 复合分组（按索引和列），创建数据帧df，使用索引级别和列对df进行分组。\n",
    "arrays = [['bar', 'bar', 'baz', 'baz', 'foo', 'foo', 'qux', 'qux'],['one', 'two', 'one', 'two', 'one', 'two', 'one', 'two']]  \n",
    "index = pd.MultiIndex.from_arrays(arrays, names=['first', 'second'])  \n",
    "df = pd.DataFrame({'A': [1, 1, 1, 1, 2, 2, 3, 3], 'B': np.arange(8)},index=index)  \n",
    "print(df)  "
   ]
  },
  {
   "cell_type": "code",
   "execution_count": 25,
   "metadata": {},
   "outputs": [
    {
     "output_type": "execute_result",
     "data": {
      "text/plain": "          B\nsecond A   \none    1  2\n       2  4\n       3  6\ntwo    1  4\n       2  5\n       3  7",
      "text/html": "<div>\n<style scoped>\n    .dataframe tbody tr th:only-of-type {\n        vertical-align: middle;\n    }\n\n    .dataframe tbody tr th {\n        vertical-align: top;\n    }\n\n    .dataframe thead th {\n        text-align: right;\n    }\n</style>\n<table border=\"1\" class=\"dataframe\">\n  <thead>\n    <tr style=\"text-align: right;\">\n      <th></th>\n      <th></th>\n      <th>B</th>\n    </tr>\n    <tr>\n      <th>second</th>\n      <th>A</th>\n      <th></th>\n    </tr>\n  </thead>\n  <tbody>\n    <tr>\n      <th rowspan=\"3\" valign=\"top\">one</th>\n      <th>1</th>\n      <td>2</td>\n    </tr>\n    <tr>\n      <th>2</th>\n      <td>4</td>\n    </tr>\n    <tr>\n      <th>3</th>\n      <td>6</td>\n    </tr>\n    <tr>\n      <th rowspan=\"3\" valign=\"top\">two</th>\n      <th>1</th>\n      <td>4</td>\n    </tr>\n    <tr>\n      <th>2</th>\n      <td>5</td>\n    </tr>\n    <tr>\n      <th>3</th>\n      <td>7</td>\n    </tr>\n  </tbody>\n</table>\n</div>"
     },
     "metadata": {},
     "execution_count": 25
    }
   ],
   "source": [
    "df.groupby([pd.Grouper(level=1),'A']).sum()  "
   ]
  },
  {
   "cell_type": "code",
   "execution_count": 26,
   "metadata": {
    "tags": []
   },
   "outputs": [
    {
     "output_type": "stream",
     "name": "stdout",
     "text": "A\nbar    3\nfoo    5\nName: C, dtype: int64\n"
    }
   ],
   "source": [
    "# 对df进行分组，将分组后C列的值赋值给grouped，统计grouped中每类的个数。\n",
    "df = pd.DataFrame({'A' : ['foo', 'bar', 'foo', 'bar', 'foo', 'bar', 'foo', 'foo'],'B' : ['one', 'one', 'two', 'three', 'two', 'two', 'one', 'three'],'C' : np.random.randn(8),'D' : np.random.randn(8)})  \n",
    "grouped=df.groupby(['A'])  \n",
    "grouped_C=grouped['C']  \n",
    "print(grouped_C.count())  "
   ]
  },
  {
   "cell_type": "code",
   "execution_count": 27,
   "metadata": {},
   "outputs": [
    {
     "output_type": "execute_result",
     "data": {
      "text/plain": "A\nbar    0.280014\nfoo   -3.178421\nName: C, dtype: float64"
     },
     "metadata": {},
     "execution_count": 27
    }
   ],
   "source": [
    "# 对上面创建的df的C列，按A列值进行分组并求和。\n",
    "df['C'].groupby(df['A']).sum()  "
   ]
  },
  {
   "cell_type": "code",
   "execution_count": 28,
   "metadata": {
    "tags": []
   },
   "outputs": [
    {
     "output_type": "stream",
     "name": "stdout",
     "text": "('bar', 'one')\n     A    B         C         D\n1  bar  one -1.080454 -1.011269\n('bar', 'three')\n     A      B         C         D\n3  bar  three -0.674847 -0.721901\n('bar', 'two')\n     A    B         C         D\n5  bar  two  2.035315 -2.670425\n('foo', 'one')\n     A    B         C         D\n0  foo  one -0.278042  0.492636\n6  foo  one -0.333590  1.869623\n('foo', 'three')\n     A      B         C         D\n7  foo  three  0.204505 -0.414279\n('foo', 'two')\n     A    B         C         D\n2  foo  two -1.630711 -1.583617\n4  foo  two -1.140583 -1.031174\n"
    }
   ],
   "source": [
    "# 遍历分组结果，通过A，B两列对df进行分组，分组结果的组名为元组。\n",
    "for name, group in df.groupby(['A', 'B']):  \n",
    "    print(name)  \n",
    "    print(group)  "
   ]
  },
  {
   "cell_type": "code",
   "execution_count": 29,
   "metadata": {},
   "outputs": [
    {
     "output_type": "execute_result",
     "data": {
      "text/plain": "     A      B         C         D\n1  bar    one -1.080454 -1.011269\n3  bar  three -0.674847 -0.721901\n5  bar    two  2.035315 -2.670425",
      "text/html": "<div>\n<style scoped>\n    .dataframe tbody tr th:only-of-type {\n        vertical-align: middle;\n    }\n\n    .dataframe tbody tr th {\n        vertical-align: top;\n    }\n\n    .dataframe thead th {\n        text-align: right;\n    }\n</style>\n<table border=\"1\" class=\"dataframe\">\n  <thead>\n    <tr style=\"text-align: right;\">\n      <th></th>\n      <th>A</th>\n      <th>B</th>\n      <th>C</th>\n      <th>D</th>\n    </tr>\n  </thead>\n  <tbody>\n    <tr>\n      <th>1</th>\n      <td>bar</td>\n      <td>one</td>\n      <td>-1.080454</td>\n      <td>-1.011269</td>\n    </tr>\n    <tr>\n      <th>3</th>\n      <td>bar</td>\n      <td>three</td>\n      <td>-0.674847</td>\n      <td>-0.721901</td>\n    </tr>\n    <tr>\n      <th>5</th>\n      <td>bar</td>\n      <td>two</td>\n      <td>2.035315</td>\n      <td>-2.670425</td>\n    </tr>\n  </tbody>\n</table>\n</div>"
     },
     "metadata": {},
     "execution_count": 29
    }
   ],
   "source": [
    "# 通过A列对df进行分组，并查看分组对象的bar列。\n",
    "df.groupby(['A']).get_group(('bar'))  "
   ]
  },
  {
   "cell_type": "code",
   "execution_count": 30,
   "metadata": {},
   "outputs": [
    {
     "output_type": "execute_result",
     "data": {
      "text/plain": "     A    B         C         D\n1  bar  one -1.080454 -1.011269",
      "text/html": "<div>\n<style scoped>\n    .dataframe tbody tr th:only-of-type {\n        vertical-align: middle;\n    }\n\n    .dataframe tbody tr th {\n        vertical-align: top;\n    }\n\n    .dataframe thead th {\n        text-align: right;\n    }\n</style>\n<table border=\"1\" class=\"dataframe\">\n  <thead>\n    <tr style=\"text-align: right;\">\n      <th></th>\n      <th>A</th>\n      <th>B</th>\n      <th>C</th>\n      <th>D</th>\n    </tr>\n  </thead>\n  <tbody>\n    <tr>\n      <th>1</th>\n      <td>bar</td>\n      <td>one</td>\n      <td>-1.080454</td>\n      <td>-1.011269</td>\n    </tr>\n  </tbody>\n</table>\n</div>"
     },
     "metadata": {},
     "execution_count": 30
    }
   ],
   "source": [
    "# 按A,B两列对df进行分组，并查看分组对象中bar、one都存在的部分。\n",
    "df.groupby(['A','B']).get_group(('bar','one'))  "
   ]
  },
  {
   "source": [
    "**注意:当分组按两列来分时，查看分组对象也应该包含每列的一部分。**"
   ],
   "cell_type": "markdown",
   "metadata": {}
  },
  {
   "source": [
    "## 聚集"
   ],
   "cell_type": "markdown",
   "metadata": {}
  },
  {
   "cell_type": "code",
   "execution_count": 31,
   "metadata": {},
   "outputs": [
    {
     "output_type": "execute_result",
     "data": {
      "text/plain": "            C         D\nA                      \nbar  0.280014 -4.403594\nfoo -3.178421 -0.666810",
      "text/html": "<div>\n<style scoped>\n    .dataframe tbody tr th:only-of-type {\n        vertical-align: middle;\n    }\n\n    .dataframe tbody tr th {\n        vertical-align: top;\n    }\n\n    .dataframe thead th {\n        text-align: right;\n    }\n</style>\n<table border=\"1\" class=\"dataframe\">\n  <thead>\n    <tr style=\"text-align: right;\">\n      <th></th>\n      <th>C</th>\n      <th>D</th>\n    </tr>\n    <tr>\n      <th>A</th>\n      <th></th>\n      <th></th>\n    </tr>\n  </thead>\n  <tbody>\n    <tr>\n      <th>bar</th>\n      <td>0.280014</td>\n      <td>-4.403594</td>\n    </tr>\n    <tr>\n      <th>foo</th>\n      <td>-3.178421</td>\n      <td>-0.666810</td>\n    </tr>\n  </tbody>\n</table>\n</div>"
     },
     "metadata": {},
     "execution_count": 31
    }
   ],
   "source": [
    "# 聚合操作，按A列对df进行分组，使用聚合函数aggregate求每组的和。\n",
    "grouped=df.groupby(['A'])  \n",
    "grouped.aggregate(np.sum)  "
   ]
  },
  {
   "cell_type": "code",
   "execution_count": 33,
   "metadata": {},
   "outputs": [
    {
     "output_type": "execute_result",
     "data": {
      "text/plain": "                  C         D\nA   B                        \nbar one   -1.080454 -1.011269\n    three -0.674847 -0.721901\n    two    2.035315 -2.670425\nfoo one   -0.611632  2.362259\n    three  0.204505 -0.414279\n    two   -2.771294 -2.614790",
      "text/html": "<div>\n<style scoped>\n    .dataframe tbody tr th:only-of-type {\n        vertical-align: middle;\n    }\n\n    .dataframe tbody tr th {\n        vertical-align: top;\n    }\n\n    .dataframe thead th {\n        text-align: right;\n    }\n</style>\n<table border=\"1\" class=\"dataframe\">\n  <thead>\n    <tr style=\"text-align: right;\">\n      <th></th>\n      <th></th>\n      <th>C</th>\n      <th>D</th>\n    </tr>\n    <tr>\n      <th>A</th>\n      <th>B</th>\n      <th></th>\n      <th></th>\n    </tr>\n  </thead>\n  <tbody>\n    <tr>\n      <th rowspan=\"3\" valign=\"top\">bar</th>\n      <th>one</th>\n      <td>-1.080454</td>\n      <td>-1.011269</td>\n    </tr>\n    <tr>\n      <th>three</th>\n      <td>-0.674847</td>\n      <td>-0.721901</td>\n    </tr>\n    <tr>\n      <th>two</th>\n      <td>2.035315</td>\n      <td>-2.670425</td>\n    </tr>\n    <tr>\n      <th rowspan=\"3\" valign=\"top\">foo</th>\n      <th>one</th>\n      <td>-0.611632</td>\n      <td>2.362259</td>\n    </tr>\n    <tr>\n      <th>three</th>\n      <td>0.204505</td>\n      <td>-0.414279</td>\n    </tr>\n    <tr>\n      <th>two</th>\n      <td>-2.771294</td>\n      <td>-2.614790</td>\n    </tr>\n  </tbody>\n</table>\n</div>"
     },
     "metadata": {},
     "execution_count": 33
    }
   ],
   "source": [
    "# 按A、B两列对df进行分组，并使用聚合函数aggregate对每组求和。\n",
    "grouped=df.groupby(['A','B'])  \n",
    "grouped.aggregate(np.sum)  "
   ]
  },
  {
   "source": [
    "**注意：通过上面的结果可以看到。聚合完成后每组都有一个组名作为新的索引，使用as_index=False可以忽略组名。**"
   ],
   "cell_type": "markdown",
   "metadata": {}
  },
  {
   "cell_type": "code",
   "execution_count": 34,
   "metadata": {},
   "outputs": [
    {
     "output_type": "execute_result",
     "data": {
      "text/plain": "     A      B         C         D\n0  bar    one -1.080454 -1.011269\n1  bar  three -0.674847 -0.721901\n2  bar    two  2.035315 -2.670425\n3  foo    one -0.611632  2.362259\n4  foo  three  0.204505 -0.414279\n5  foo    two -2.771294 -2.614790",
      "text/html": "<div>\n<style scoped>\n    .dataframe tbody tr th:only-of-type {\n        vertical-align: middle;\n    }\n\n    .dataframe tbody tr th {\n        vertical-align: top;\n    }\n\n    .dataframe thead th {\n        text-align: right;\n    }\n</style>\n<table border=\"1\" class=\"dataframe\">\n  <thead>\n    <tr style=\"text-align: right;\">\n      <th></th>\n      <th>A</th>\n      <th>B</th>\n      <th>C</th>\n      <th>D</th>\n    </tr>\n  </thead>\n  <tbody>\n    <tr>\n      <th>0</th>\n      <td>bar</td>\n      <td>one</td>\n      <td>-1.080454</td>\n      <td>-1.011269</td>\n    </tr>\n    <tr>\n      <th>1</th>\n      <td>bar</td>\n      <td>three</td>\n      <td>-0.674847</td>\n      <td>-0.721901</td>\n    </tr>\n    <tr>\n      <th>2</th>\n      <td>bar</td>\n      <td>two</td>\n      <td>2.035315</td>\n      <td>-2.670425</td>\n    </tr>\n    <tr>\n      <th>3</th>\n      <td>foo</td>\n      <td>one</td>\n      <td>-0.611632</td>\n      <td>2.362259</td>\n    </tr>\n    <tr>\n      <th>4</th>\n      <td>foo</td>\n      <td>three</td>\n      <td>0.204505</td>\n      <td>-0.414279</td>\n    </tr>\n    <tr>\n      <th>5</th>\n      <td>foo</td>\n      <td>two</td>\n      <td>-2.771294</td>\n      <td>-2.614790</td>\n    </tr>\n  </tbody>\n</table>\n</div>"
     },
     "metadata": {},
     "execution_count": 34
    }
   ],
   "source": [
    "# 当as_index=True时，在groupby中使用的键将成为新的dataframe中的索引。按A、B两列对df进行分组，这是使参数as_index=False，再使用聚合函数aggregate求每组的和。\n",
    "grouped=df.groupby(['A','B'],as_index=False)  \n",
    "grouped.aggregate(np.sum)  "
   ]
  },
  {
   "cell_type": "code",
   "execution_count": 35,
   "metadata": {},
   "outputs": [
    {
     "output_type": "execute_result",
     "data": {
      "text/plain": "     A      B         C         D\n0  bar    one -1.080454 -1.011269\n1  bar  three -0.674847 -0.721901\n2  bar    two  2.035315 -2.670425\n3  foo    one -0.611632  2.362259\n4  foo  three  0.204505 -0.414279\n5  foo    two -2.771294 -2.614790",
      "text/html": "<div>\n<style scoped>\n    .dataframe tbody tr th:only-of-type {\n        vertical-align: middle;\n    }\n\n    .dataframe tbody tr th {\n        vertical-align: top;\n    }\n\n    .dataframe thead th {\n        text-align: right;\n    }\n</style>\n<table border=\"1\" class=\"dataframe\">\n  <thead>\n    <tr style=\"text-align: right;\">\n      <th></th>\n      <th>A</th>\n      <th>B</th>\n      <th>C</th>\n      <th>D</th>\n    </tr>\n  </thead>\n  <tbody>\n    <tr>\n      <th>0</th>\n      <td>bar</td>\n      <td>one</td>\n      <td>-1.080454</td>\n      <td>-1.011269</td>\n    </tr>\n    <tr>\n      <th>1</th>\n      <td>bar</td>\n      <td>three</td>\n      <td>-0.674847</td>\n      <td>-0.721901</td>\n    </tr>\n    <tr>\n      <th>2</th>\n      <td>bar</td>\n      <td>two</td>\n      <td>2.035315</td>\n      <td>-2.670425</td>\n    </tr>\n    <tr>\n      <th>3</th>\n      <td>foo</td>\n      <td>one</td>\n      <td>-0.611632</td>\n      <td>2.362259</td>\n    </tr>\n    <tr>\n      <th>4</th>\n      <td>foo</td>\n      <td>three</td>\n      <td>0.204505</td>\n      <td>-0.414279</td>\n    </tr>\n    <tr>\n      <th>5</th>\n      <td>foo</td>\n      <td>two</td>\n      <td>-2.771294</td>\n      <td>-2.614790</td>\n    </tr>\n  </tbody>\n</table>\n</div>"
     },
     "metadata": {},
     "execution_count": 35
    }
   ],
   "source": [
    "# 使用reset_index函数可以得到与参数as_index=False相同的结果。\n",
    "df.groupby(['A','B']).sum().reset_index()  "
   ]
  },
  {
   "cell_type": "code",
   "execution_count": 36,
   "metadata": {},
   "outputs": [
    {
     "output_type": "execute_result",
     "data": {
      "text/plain": "A    B    \nbar  one      1\n     three    1\n     two      1\nfoo  one      2\n     three    1\n     two      2\ndtype: int64"
     },
     "metadata": {},
     "execution_count": 36
    }
   ],
   "source": [
    "# 聚合操作，按A、B列对df进行分组，使用size方法，求每组的大小。返回一个Series，索引是组名，值是每组的大小。\n",
    "grouped=df.groupby(['A','B'])  \n",
    "grouped.size()  "
   ]
  },
  {
   "cell_type": "code",
   "execution_count": 37,
   "metadata": {},
   "outputs": [
    {
     "output_type": "execute_result",
     "data": {
      "text/plain": "              C                                                              \\\n          count      mean       std       min       25%       50%       75%   \nA   B                                                                         \nbar one     1.0 -1.080454       NaN -1.080454 -1.080454 -1.080454 -1.080454   \n    three   1.0 -0.674847       NaN -0.674847 -0.674847 -0.674847 -0.674847   \n    two     1.0  2.035315       NaN  2.035315  2.035315  2.035315  2.035315   \nfoo one     2.0 -0.305816  0.039279 -0.333590 -0.319703 -0.305816 -0.291929   \n    three   1.0  0.204505       NaN  0.204505  0.204505  0.204505  0.204505   \n    two     2.0 -1.385647  0.346574 -1.630711 -1.508179 -1.385647 -1.263115   \n\n                        D                                                    \\\n                max count      mean       std       min       25%       50%   \nA   B                                                                         \nbar one   -1.080454   1.0 -1.011269       NaN -1.011269 -1.011269 -1.011269   \n    three -0.674847   1.0 -0.721901       NaN -0.721901 -0.721901 -0.721901   \n    two    2.035315   1.0 -2.670425       NaN -2.670425 -2.670425 -2.670425   \nfoo one   -0.278042   2.0  1.181130  0.973677  0.492636  0.836883  1.181130   \n    three  0.204505   1.0 -0.414279       NaN -0.414279 -0.414279 -0.414279   \n    two   -1.140583   2.0 -1.307395  0.390636 -1.583617 -1.445506 -1.307395   \n\n                               \n                75%       max  \nA   B                          \nbar one   -1.011269 -1.011269  \n    three -0.721901 -0.721901  \n    two   -2.670425 -2.670425  \nfoo one    1.525377  1.869623  \n    three -0.414279 -0.414279  \n    two   -1.169284 -1.031174  ",
      "text/html": "<div>\n<style scoped>\n    .dataframe tbody tr th:only-of-type {\n        vertical-align: middle;\n    }\n\n    .dataframe tbody tr th {\n        vertical-align: top;\n    }\n\n    .dataframe thead tr th {\n        text-align: left;\n    }\n\n    .dataframe thead tr:last-of-type th {\n        text-align: right;\n    }\n</style>\n<table border=\"1\" class=\"dataframe\">\n  <thead>\n    <tr>\n      <th></th>\n      <th></th>\n      <th colspan=\"8\" halign=\"left\">C</th>\n      <th colspan=\"8\" halign=\"left\">D</th>\n    </tr>\n    <tr>\n      <th></th>\n      <th></th>\n      <th>count</th>\n      <th>mean</th>\n      <th>std</th>\n      <th>min</th>\n      <th>25%</th>\n      <th>50%</th>\n      <th>75%</th>\n      <th>max</th>\n      <th>count</th>\n      <th>mean</th>\n      <th>std</th>\n      <th>min</th>\n      <th>25%</th>\n      <th>50%</th>\n      <th>75%</th>\n      <th>max</th>\n    </tr>\n    <tr>\n      <th>A</th>\n      <th>B</th>\n      <th></th>\n      <th></th>\n      <th></th>\n      <th></th>\n      <th></th>\n      <th></th>\n      <th></th>\n      <th></th>\n      <th></th>\n      <th></th>\n      <th></th>\n      <th></th>\n      <th></th>\n      <th></th>\n      <th></th>\n      <th></th>\n    </tr>\n  </thead>\n  <tbody>\n    <tr>\n      <th rowspan=\"3\" valign=\"top\">bar</th>\n      <th>one</th>\n      <td>1.0</td>\n      <td>-1.080454</td>\n      <td>NaN</td>\n      <td>-1.080454</td>\n      <td>-1.080454</td>\n      <td>-1.080454</td>\n      <td>-1.080454</td>\n      <td>-1.080454</td>\n      <td>1.0</td>\n      <td>-1.011269</td>\n      <td>NaN</td>\n      <td>-1.011269</td>\n      <td>-1.011269</td>\n      <td>-1.011269</td>\n      <td>-1.011269</td>\n      <td>-1.011269</td>\n    </tr>\n    <tr>\n      <th>three</th>\n      <td>1.0</td>\n      <td>-0.674847</td>\n      <td>NaN</td>\n      <td>-0.674847</td>\n      <td>-0.674847</td>\n      <td>-0.674847</td>\n      <td>-0.674847</td>\n      <td>-0.674847</td>\n      <td>1.0</td>\n      <td>-0.721901</td>\n      <td>NaN</td>\n      <td>-0.721901</td>\n      <td>-0.721901</td>\n      <td>-0.721901</td>\n      <td>-0.721901</td>\n      <td>-0.721901</td>\n    </tr>\n    <tr>\n      <th>two</th>\n      <td>1.0</td>\n      <td>2.035315</td>\n      <td>NaN</td>\n      <td>2.035315</td>\n      <td>2.035315</td>\n      <td>2.035315</td>\n      <td>2.035315</td>\n      <td>2.035315</td>\n      <td>1.0</td>\n      <td>-2.670425</td>\n      <td>NaN</td>\n      <td>-2.670425</td>\n      <td>-2.670425</td>\n      <td>-2.670425</td>\n      <td>-2.670425</td>\n      <td>-2.670425</td>\n    </tr>\n    <tr>\n      <th rowspan=\"3\" valign=\"top\">foo</th>\n      <th>one</th>\n      <td>2.0</td>\n      <td>-0.305816</td>\n      <td>0.039279</td>\n      <td>-0.333590</td>\n      <td>-0.319703</td>\n      <td>-0.305816</td>\n      <td>-0.291929</td>\n      <td>-0.278042</td>\n      <td>2.0</td>\n      <td>1.181130</td>\n      <td>0.973677</td>\n      <td>0.492636</td>\n      <td>0.836883</td>\n      <td>1.181130</td>\n      <td>1.525377</td>\n      <td>1.869623</td>\n    </tr>\n    <tr>\n      <th>three</th>\n      <td>1.0</td>\n      <td>0.204505</td>\n      <td>NaN</td>\n      <td>0.204505</td>\n      <td>0.204505</td>\n      <td>0.204505</td>\n      <td>0.204505</td>\n      <td>0.204505</td>\n      <td>1.0</td>\n      <td>-0.414279</td>\n      <td>NaN</td>\n      <td>-0.414279</td>\n      <td>-0.414279</td>\n      <td>-0.414279</td>\n      <td>-0.414279</td>\n      <td>-0.414279</td>\n    </tr>\n    <tr>\n      <th>two</th>\n      <td>2.0</td>\n      <td>-1.385647</td>\n      <td>0.346574</td>\n      <td>-1.630711</td>\n      <td>-1.508179</td>\n      <td>-1.385647</td>\n      <td>-1.263115</td>\n      <td>-1.140583</td>\n      <td>2.0</td>\n      <td>-1.307395</td>\n      <td>0.390636</td>\n      <td>-1.583617</td>\n      <td>-1.445506</td>\n      <td>-1.307395</td>\n      <td>-1.169284</td>\n      <td>-1.031174</td>\n    </tr>\n  </tbody>\n</table>\n</div>"
     },
     "metadata": {},
     "execution_count": 37
    }
   ],
   "source": [
    "# 聚合操作，对分组grouped进行统计描述。\n",
    "grouped.describe()  "
   ]
  },
  {
   "source": [
    "**注意：聚合函数可以减少数据帧的维度，常用的聚合函数有：mean、sum、size、count、std、var、sem 、describe、first、last、nth、min、max。**\n",
    "\n",
    "执行多个函数在一个分组结果上：在分组返回的Series中我们可以通过一个聚合函数的列表或一个字典去操作series，返回一个DataFrame。"
   ],
   "cell_type": "markdown",
   "metadata": {}
  },
  {
   "cell_type": "code",
   "execution_count": 39,
   "metadata": {},
   "outputs": [
    {
     "output_type": "execute_result",
     "data": {
      "text/plain": "          sum      mean       std\nA                                \nbar  0.280014  0.093338  1.693985\nfoo -3.178421 -0.635684  0.736561",
      "text/html": "<div>\n<style scoped>\n    .dataframe tbody tr th:only-of-type {\n        vertical-align: middle;\n    }\n\n    .dataframe tbody tr th {\n        vertical-align: top;\n    }\n\n    .dataframe thead th {\n        text-align: right;\n    }\n</style>\n<table border=\"1\" class=\"dataframe\">\n  <thead>\n    <tr style=\"text-align: right;\">\n      <th></th>\n      <th>sum</th>\n      <th>mean</th>\n      <th>std</th>\n    </tr>\n    <tr>\n      <th>A</th>\n      <th></th>\n      <th></th>\n      <th></th>\n    </tr>\n  </thead>\n  <tbody>\n    <tr>\n      <th>bar</th>\n      <td>0.280014</td>\n      <td>0.093338</td>\n      <td>1.693985</td>\n    </tr>\n    <tr>\n      <th>foo</th>\n      <td>-3.178421</td>\n      <td>-0.635684</td>\n      <td>0.736561</td>\n    </tr>\n  </tbody>\n</table>\n</div>"
     },
     "metadata": {},
     "execution_count": 39
    }
   ],
   "source": [
    "# 按A列对df进行分组，再对分组结果grouped的C列进行sum、mean、std三个聚合操作。\n",
    "grouped=df.groupby('A')  \n",
    "grouped['C'].agg([np.sum,np.mean,np.std])  "
   ]
  },
  {
   "cell_type": "code",
   "execution_count": 40,
   "metadata": {},
   "outputs": [
    {
     "output_type": "execute_result",
     "data": {
      "text/plain": "          foo       bar       baz\nA                                \nbar  0.280014  0.093338  1.693985\nfoo -3.178421 -0.635684  0.736561",
      "text/html": "<div>\n<style scoped>\n    .dataframe tbody tr th:only-of-type {\n        vertical-align: middle;\n    }\n\n    .dataframe tbody tr th {\n        vertical-align: top;\n    }\n\n    .dataframe thead th {\n        text-align: right;\n    }\n</style>\n<table border=\"1\" class=\"dataframe\">\n  <thead>\n    <tr style=\"text-align: right;\">\n      <th></th>\n      <th>foo</th>\n      <th>bar</th>\n      <th>baz</th>\n    </tr>\n    <tr>\n      <th>A</th>\n      <th></th>\n      <th></th>\n      <th></th>\n    </tr>\n  </thead>\n  <tbody>\n    <tr>\n      <th>bar</th>\n      <td>0.280014</td>\n      <td>0.093338</td>\n      <td>1.693985</td>\n    </tr>\n    <tr>\n      <th>foo</th>\n      <td>-3.178421</td>\n      <td>-0.635684</td>\n      <td>0.736561</td>\n    </tr>\n  </tbody>\n</table>\n</div>"
     },
     "metadata": {},
     "execution_count": 40
    }
   ],
   "source": [
    "# 对分组结果grouped的C列进行sum、mean、std三个聚合操作，然后使用rename方法修改返回结果中的列名，将sum.mean,std分别替换为：foo,bar，baz。\n",
    "grouped['C'].agg([np.sum,np.mean,np.std]).rename(columns={'sum':'foo','mean':'bar','std':'baz'})  "
   ]
  },
  {
   "source": [
    "作用不同的聚合函数到DataFrame的不同列上，通过聚合函数的一个字典作用不同的聚合函数到一个DataFrame的列上。"
   ],
   "cell_type": "markdown",
   "metadata": {}
  },
  {
   "cell_type": "code",
   "execution_count": 41,
   "metadata": {},
   "outputs": [
    {
     "output_type": "execute_result",
     "data": {
      "text/plain": "            C         D\nA                      \nbar  0.280014  1.051449\nfoo -3.178421  1.359416",
      "text/html": "<div>\n<style scoped>\n    .dataframe tbody tr th:only-of-type {\n        vertical-align: middle;\n    }\n\n    .dataframe tbody tr th {\n        vertical-align: top;\n    }\n\n    .dataframe thead th {\n        text-align: right;\n    }\n</style>\n<table border=\"1\" class=\"dataframe\">\n  <thead>\n    <tr style=\"text-align: right;\">\n      <th></th>\n      <th>C</th>\n      <th>D</th>\n    </tr>\n    <tr>\n      <th>A</th>\n      <th></th>\n      <th></th>\n    </tr>\n  </thead>\n  <tbody>\n    <tr>\n      <th>bar</th>\n      <td>0.280014</td>\n      <td>1.051449</td>\n    </tr>\n    <tr>\n      <th>foo</th>\n      <td>-3.178421</td>\n      <td>1.359416</td>\n    </tr>\n  </tbody>\n</table>\n</div>"
     },
     "metadata": {},
     "execution_count": 41
    }
   ],
   "source": [
    "# 对分组结果grouped进行聚合操作，C列上作用sum函数，D列上作用std函数并使参数ddof=1。\n",
    "grouped.agg({'C':np.sum,'D':lambda x:np.std(x,ddof=1)})  "
   ]
  },
  {
   "cell_type": "code",
   "execution_count": 42,
   "metadata": {},
   "outputs": [
    {
     "output_type": "execute_result",
     "data": {
      "text/plain": "            C         D\nA                      \nbar  0.280014  1.051449\nfoo -3.178421  1.359416",
      "text/html": "<div>\n<style scoped>\n    .dataframe tbody tr th:only-of-type {\n        vertical-align: middle;\n    }\n\n    .dataframe tbody tr th {\n        vertical-align: top;\n    }\n\n    .dataframe thead th {\n        text-align: right;\n    }\n</style>\n<table border=\"1\" class=\"dataframe\">\n  <thead>\n    <tr style=\"text-align: right;\">\n      <th></th>\n      <th>C</th>\n      <th>D</th>\n    </tr>\n    <tr>\n      <th>A</th>\n      <th></th>\n      <th></th>\n    </tr>\n  </thead>\n  <tbody>\n    <tr>\n      <th>bar</th>\n      <td>0.280014</td>\n      <td>1.051449</td>\n    </tr>\n    <tr>\n      <th>foo</th>\n      <td>-3.178421</td>\n      <td>1.359416</td>\n    </tr>\n  </tbody>\n</table>\n</div>"
     },
     "metadata": {},
     "execution_count": 42
    }
   ],
   "source": [
    "grouped.agg({'C':np.sum,'D':np.std})  "
   ]
  },
  {
   "cell_type": "code",
   "execution_count": 43,
   "metadata": {},
   "outputs": [
    {
     "output_type": "execute_result",
     "data": {
      "text/plain": "1999-10-01   -0.634503\n1999-10-02    4.404585\n1999-10-03   -0.560073\n1999-10-04    1.385955\n1999-10-05   -0.959831\nFreq: D, dtype: float64"
     },
     "metadata": {},
     "execution_count": 43
    }
   ],
   "source": [
    "# transform操作:对数组在分组内进行转换，而不是全局转换。\n",
    "index = pd.date_range('10/1/1999', periods=1100)  \n",
    "ts = pd.Series(np.random.normal(0.5, 2, 1100), index)  \n",
    "ts.head()  "
   ]
  },
  {
   "cell_type": "code",
   "execution_count": 44,
   "metadata": {},
   "outputs": [
    {
     "output_type": "execute_result",
     "data": {
      "text/plain": "2002-09-30    0.027739\n2002-10-01    1.027486\n2002-10-02   -2.224909\n2002-10-03   -0.679539\n2002-10-04    3.290294\nFreq: D, dtype: float64"
     },
     "metadata": {},
     "execution_count": 44
    }
   ],
   "source": [
    "ts.tail()"
   ]
  },
  {
   "cell_type": "code",
   "execution_count": 45,
   "metadata": {},
   "outputs": [
    {
     "output_type": "execute_result",
     "data": {
      "text/plain": "1999-10-01   -0.669370\n1999-10-02    1.953299\n1999-10-03   -0.630632\n1999-10-04    0.382208\n1999-10-05   -0.838692\n                ...   \n2002-09-30   -0.235584\n2002-10-01    0.267135\n2002-10-02   -1.368319\n2002-10-03   -0.591236\n2002-10-04    1.404979\nFreq: D, Length: 1100, dtype: float64"
     },
     "metadata": {},
     "execution_count": 45
    }
   ],
   "source": [
    "key=lambda x:x.year  \n",
    "zscore=lambda x:(x-x.mean())/x.std()  \n",
    "ts.groupby(key).transform(zscore)  "
   ]
  },
  {
   "source": [
    "filter操作：filter方法返回的是原对象的一个子集。"
   ],
   "cell_type": "markdown",
   "metadata": {}
  },
  {
   "cell_type": "code",
   "execution_count": 46,
   "metadata": {},
   "outputs": [
    {
     "output_type": "execute_result",
     "data": {
      "text/plain": "2    2\n3    2\n4    3\n5    3\n6    3\ndtype: int64"
     },
     "metadata": {},
     "execution_count": 46
    }
   ],
   "source": [
    "# 创建一个Series值为[1,1,2,3,3,3]并命名为sf，对sf按sf进行分组，然后过滤出每组的和大于2的值。\n",
    "sf=pd.Series([1,1,2,2,3,3,3])  \n",
    "sf.groupby(sf).filter(lambda x:x.sum()>2)  "
   ]
  }
 ]
}